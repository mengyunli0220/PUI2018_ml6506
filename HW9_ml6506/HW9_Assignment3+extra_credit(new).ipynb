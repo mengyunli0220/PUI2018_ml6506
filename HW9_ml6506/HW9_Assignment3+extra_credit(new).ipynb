{
 "cells": [
  {
   "cell_type": "markdown",
   "metadata": {
    "run_control": {
     "frozen": false,
     "read_only": false
    },
    "toc": "true"
   },
   "source": [
    "# Table of Contents\n",
    " <p><div class=\"lev1 toc-item\"><a href=\"#DATA:\" data-toc-modified-id=\"DATA:-1\"><span class=\"toc-item-num\">1&nbsp;&nbsp;</span>DATA:</a></div><div class=\"lev1 toc-item\"><a href=\"#exploration\" data-toc-modified-id=\"exploration-2\"><span class=\"toc-item-num\">2&nbsp;&nbsp;</span>exploration</a></div><div class=\"lev2 toc-item\"><a href=\"#plot-mass-shooting-vs-gdp-in-absolute-numbers,-and-per-person.-Show-the-errorbars-(y-errors)\" data-toc-modified-id=\"plot-mass-shooting-vs-gdp-in-absolute-numbers,-and-per-person.-Show-the-errorbars-(y-errors)-21\"><span class=\"toc-item-num\">2.1&nbsp;&nbsp;</span>plot mass shooting vs gdp in absolute numbers, and per person. Show the errorbars (y errors)</a></div><div class=\"lev2 toc-item\"><a href=\"#plot-the-average-number-of-civilian-fire-arms-per-person\" data-toc-modified-id=\"plot-the-average-number-of-civilian-fire-arms-per-person-22\"><span class=\"toc-item-num\">2.2&nbsp;&nbsp;</span>plot the average number of civilian fire arms per person</a></div><div class=\"lev2 toc-item\"><a href=\"#plot-the-average-number-of-homicide-by-fire-arms-per-person\" data-toc-modified-id=\"plot-the-average-number-of-homicide-by-fire-arms-per-person-23\"><span class=\"toc-item-num\">2.3&nbsp;&nbsp;</span>plot the average number of homicide by fire arms per person</a></div><div class=\"lev2 toc-item\"><a href=\"#plot-the-number-of--homicides-by-fire-arm-against-the-number-of-civilian-firearms.-plot-the--US-in-a-different-color\" data-toc-modified-id=\"plot-the-number-of--homicides-by-fire-arm-against-the-number-of-civilian-firearms.-plot-the--US-in-a-different-color-24\"><span class=\"toc-item-num\">2.4&nbsp;&nbsp;</span>plot the number of  homicides by fire arm against the number of civilian firearms. plot the  US in a different color</a></div><div class=\"lev2 toc-item\"><a href=\"#plot-the-number-of--mass-shootings-against-the-number-of-civilian-firearms.-plot-the--US-in-a-different-color\" data-toc-modified-id=\"plot-the-number-of--mass-shootings-against-the-number-of-civilian-firearms.-plot-the--US-in-a-different-color-25\"><span class=\"toc-item-num\">2.5&nbsp;&nbsp;</span>plot the number of  mass shootings against the number of civilian firearms. plot the  US in a different color</a></div><div class=\"lev1 toc-item\"><a href=\"#Modeling\" data-toc-modified-id=\"Modeling-3\"><span class=\"toc-item-num\">3&nbsp;&nbsp;</span>Modeling</a></div><div class=\"lev2 toc-item\"><a href=\"#fit-a-line-to-the-Number-of-mass-shootings--per-person-as-a-function-of-Average-total-all-civilian-firearms-per-person.\" data-toc-modified-id=\"fit-a-line-to-the-Number-of-mass-shootings--per-person-as-a-function-of-Average-total-all-civilian-firearms-per-person.-31\"><span class=\"toc-item-num\">3.1&nbsp;&nbsp;</span>fit a line to the Number of mass shootings  per person as a function of Average total all civilian firearms per person.</a></div><div class=\"lev2 toc-item\"><a href=\"#Outlier-removal:\" data-toc-modified-id=\"Outlier-removal:-32\"><span class=\"toc-item-num\">3.2&nbsp;&nbsp;</span>Outlier removal:</a></div><div class=\"lev2 toc-item\"><a href=\"#Extra-credit:-calculate-the-confidence-interval-by-hand-and-also-plot-them\" data-toc-modified-id=\"Extra-credit:-calculate-the-confidence-interval-by-hand-and-also-plot-them-33\"><span class=\"toc-item-num\">3.3&nbsp;&nbsp;</span>Extra credit: calculate the confidence interval by hand and also plot them</a></div><div class=\"lev2 toc-item\"><a href=\"#Use-the-stsatsmodels.gaphics-package-to-plot-the-influence-plot.\" data-toc-modified-id=\"Use-the-stsatsmodels.gaphics-package-to-plot-the-influence-plot.-34\"><span class=\"toc-item-num\">3.4&nbsp;&nbsp;</span>Use the stsatsmodels.gaphics package to plot the influence plot.</a></div><div class=\"lev2 toc-item\"><a href=\"#Extra-credit:-calculate-from-scratch-the-stanrdardized-residuals-and-the-H-leverage-for-the-WLS-model-and-discuss-if-there-are-any-differences\" data-toc-modified-id=\"Extra-credit:-calculate-from-scratch-the-stanrdardized-residuals-and-the-H-leverage-for-the-WLS-model-and-discuss-if-there-are-any-differences-35\"><span class=\"toc-item-num\">3.5&nbsp;&nbsp;</span>Extra credit: calculate from scratch the stanrdardized residuals and the H leverage for the WLS model and discuss if there are any differences</a></div><div class=\"lev2 toc-item\"><a href=\"#Discuss-your-findings\" data-toc-modified-id=\"Discuss-your-findings-36\"><span class=\"toc-item-num\">3.6&nbsp;&nbsp;</span>Discuss your findings</a></div>"
   ]
  },
  {
   "cell_type": "markdown",
   "metadata": {
    "run_control": {
     "frozen": false,
     "read_only": false
    }
   },
   "source": [
    "**regression exercise**\n",
    "\n",
    "**written by Federica B Bianco CUSP 2017**\n",
    "\n",
    "**for PUI lecture on models and linear regression**"
   ]
  },
  {
   "cell_type": "markdown",
   "metadata": {
    "run_control": {
     "frozen": false,
     "read_only": false
    }
   },
   "source": [
    "**investigate linear relationships between fire arm possession, homicides by fire arms, and mass shootings for different countries, considering also the country GDP**"
   ]
  },
  {
   "cell_type": "markdown",
   "metadata": {
    "run_control": {
     "frozen": false,
     "read_only": false
    }
   },
   "source": [
    "# DATA: \n",
    "\n",
    "The Guardian firearms murders and ownership data. The relevans sheet is uploaded in the github repository as a csv file. Download it from there. Note: this dataset is from 2012.\n",
    "\n",
    "**Extra credit**: download directly from google docs with a google API\n",
    "\n",
    "https://docs.google.com/spreadsheets/d/1chqUZHuY6cXYrRYkuE0uwXisGaYvr7durZHJhpLGycs/edit#gid=0\n",
    "\n",
    "Number of mass shootings: find the link here https://datawrapper.dwcdn.net/pvLFI/4/\n",
    "\n",
    "The world population by country find the download link here :\n",
    "https://data.worldbank.org/indicator/SP.POP.TOTL\n",
    "\n",
    "Remember that all read or downloads have to me reproducible.\n",
    "\n",
    "Merge all datasets. After throwing away the irrelevant data it should look something like this (I renamed the GDP and the population as gdp\" and \"pop\")\n",
    "\n",
    "Throughout, when I ask you to include errors in plots or models, use Poisson statistics: the error is the square root of the number you are considering (e.g. this country has N fire arms +/- square root of N, or this country has Np [= N/population +/- (square root of N) / population] fire arms per person)."
   ]
  },
  {
   "cell_type": "code",
   "execution_count": 48,
   "metadata": {},
   "outputs": [],
   "source": []
  },
  {
   "cell_type": "code",
   "execution_count": 2,
   "metadata": {},
   "outputs": [],
   "source": [
    "# Extra Credict: download directly from google docs with a google API\n",
    "# I created a Virtual environment in ADRF frist and then I installed the Google APIs Client Library for Python\n",
    "from __future__ import print_function\n",
    "\n",
    "#from apiclient import discovery\n",
    "from oauth2client import client\n",
    "from oauth2client import tools\n",
    "from oauth2client.file import Storage\n",
    "from apiclient.http import MediaIoBaseDownload\n",
    "from apiclient.discovery import build\n",
    "from oauth2client.client import OAuth2WebServerFlow\n",
    "\n",
    "\n",
    "import io\n",
    "import httplib2\n",
    "import os"
   ]
  },
  {
   "cell_type": "code",
   "execution_count": 10,
   "metadata": {},
   "outputs": [],
   "source": [
    "def downloadFile(file_id,filepath):\n",
    "    request = drive_service.files().get_media(fileId=file_id)\n",
    "    fh = io.BytesIO()\n",
    "    downloader = MediaIoBaseDownload(fh, request)\n",
    "    done = False\n",
    "    while done is False:\n",
    "        status, done = downloader.next_chunk()\n",
    "       # print \"Download %d%%.\" % int(status.progress() * 100)\n",
    "    with io.open(filepath,\"wb\") as f:\n",
    "        fh.seek(0)\n",
    "        f.write(fh.read())"
   ]
  },
  {
   "cell_type": "code",
   "execution_count": 11,
   "metadata": {},
   "outputs": [
    {
     "ename": "NameError",
     "evalue": "global name 'drive_service' is not defined",
     "output_type": "error",
     "traceback": [
      "\u001b[0;31m\u001b[0m",
      "\u001b[0;31mNameError\u001b[0mTraceback (most recent call last)",
      "\u001b[0;32m<ipython-input-11-8f4bff9a0d10>\u001b[0m in \u001b[0;36m<module>\u001b[0;34m()\u001b[0m\n\u001b[0;32m----> 1\u001b[0;31m \u001b[0mdownloadFile\u001b[0m\u001b[0;34m(\u001b[0m\u001b[0;34m'1ZdR3L3qP4Bkq8noWLJHSr_iBau0DNT4Kli4SxNc2YEo'\u001b[0m\u001b[0;34m,\u001b[0m\u001b[0;34m'World firearms murders and ownership.csv'\u001b[0m\u001b[0;34m)\u001b[0m\u001b[0;34m\u001b[0m\u001b[0m\n\u001b[0m",
      "\u001b[0;32m<ipython-input-10-5f0630a14364>\u001b[0m in \u001b[0;36mdownloadFile\u001b[0;34m(file_id, filepath)\u001b[0m\n\u001b[1;32m      1\u001b[0m \u001b[0;32mdef\u001b[0m \u001b[0mdownloadFile\u001b[0m\u001b[0;34m(\u001b[0m\u001b[0mfile_id\u001b[0m\u001b[0;34m,\u001b[0m\u001b[0mfilepath\u001b[0m\u001b[0;34m)\u001b[0m\u001b[0;34m:\u001b[0m\u001b[0;34m\u001b[0m\u001b[0m\n\u001b[0;32m----> 2\u001b[0;31m     \u001b[0mrequest\u001b[0m \u001b[0;34m=\u001b[0m \u001b[0mdrive_service\u001b[0m\u001b[0;34m.\u001b[0m\u001b[0mfiles\u001b[0m\u001b[0;34m(\u001b[0m\u001b[0;34m)\u001b[0m\u001b[0;34m.\u001b[0m\u001b[0mget_media\u001b[0m\u001b[0;34m(\u001b[0m\u001b[0mfileId\u001b[0m\u001b[0;34m=\u001b[0m\u001b[0mfile_id\u001b[0m\u001b[0;34m)\u001b[0m\u001b[0;34m\u001b[0m\u001b[0m\n\u001b[0m\u001b[1;32m      3\u001b[0m     \u001b[0mfh\u001b[0m \u001b[0;34m=\u001b[0m \u001b[0mio\u001b[0m\u001b[0;34m.\u001b[0m\u001b[0mBytesIO\u001b[0m\u001b[0;34m(\u001b[0m\u001b[0;34m)\u001b[0m\u001b[0;34m\u001b[0m\u001b[0m\n\u001b[1;32m      4\u001b[0m     \u001b[0mdownloader\u001b[0m \u001b[0;34m=\u001b[0m \u001b[0mMediaIoBaseDownload\u001b[0m\u001b[0;34m(\u001b[0m\u001b[0mfh\u001b[0m\u001b[0;34m,\u001b[0m \u001b[0mrequest\u001b[0m\u001b[0;34m)\u001b[0m\u001b[0;34m\u001b[0m\u001b[0m\n\u001b[1;32m      5\u001b[0m     \u001b[0mdone\u001b[0m \u001b[0;34m=\u001b[0m \u001b[0mFalse\u001b[0m\u001b[0;34m\u001b[0m\u001b[0m\n",
      "\u001b[0;31mNameError\u001b[0m: global name 'drive_service' is not defined"
     ]
    }
   ],
   "source": [
    "downloadFile('1ZdR3L3qP4Bkq8noWLJHSr_iBau0DNT4Kli4SxNc2YEo','World firearms murders and ownership.csv')"
   ]
  },
  {
   "cell_type": "code",
   "execution_count": 191,
   "metadata": {},
   "outputs": [
    {
     "name": "stdout",
     "output_type": "stream",
     "text": [
      "Populating the interactive namespace from numpy and matplotlib\n"
     ]
    },
    {
     "name": "stderr",
     "output_type": "stream",
     "text": [
      "/usr/local/Anaconda3-5.0.0-Linux-x86_64/envs/PUI2016_Python2/lib/python2.7/site-packages/IPython/core/magics/pylab.py:161: UserWarning: pylab import has clobbered these variables: ['scatter']\n",
      "`%matplotlib` prevents importing * from pylab and numpy\n",
      "  \"\\n`%matplotlib` prevents importing * from pylab and numpy\"\n"
     ]
    }
   ],
   "source": [
    "import pandas as pd\n",
    "import os\n",
    "import pandas as pd\n",
    "import pylab as pl\n",
    "import urllib\n",
    "import numpy as np\n",
    "import matplotlib.pyplot as plt\n",
    "import seaborn as sns\n",
    "\n",
    "import statsmodels.api as sm\n",
    "import statsmodels.formula.api as smf\n",
    "import statsmodels.api as sm\n",
    "from statsmodels.graphics.api import abline_plot\n",
    "%matplotlib inline\n",
    "%pylab inline"
   ]
  },
  {
   "cell_type": "code",
   "execution_count": 50,
   "metadata": {},
   "outputs": [],
   "source": [
    "w = pd.read_csv(\"PUI2018_fb55\" + \"/\" + \"HW9_fb55\"+ \"/\"+ 'World firearms murders and ownership - Sheet 1.csv')"
   ]
  },
  {
   "cell_type": "code",
   "execution_count": 51,
   "metadata": {},
   "outputs": [
    {
     "data": {
      "text/html": [
       "<div>\n",
       "<table border=\"1\" class=\"dataframe\">\n",
       "  <thead>\n",
       "    <tr style=\"text-align: right;\">\n",
       "      <th></th>\n",
       "      <th>Country/Territory</th>\n",
       "      <th>ISO code</th>\n",
       "      <th>Source</th>\n",
       "      <th>% of homicides by firearm</th>\n",
       "      <th>Number of homicides by firearm</th>\n",
       "      <th>Homicide by firearm rate per 100,000 pop</th>\n",
       "      <th>Rank by rate of ownership</th>\n",
       "      <th>Average firearms per 100 people</th>\n",
       "      <th>Average total all civilian firearms</th>\n",
       "    </tr>\n",
       "  </thead>\n",
       "  <tbody>\n",
       "    <tr>\n",
       "      <th>0</th>\n",
       "      <td>Albania</td>\n",
       "      <td>AL</td>\n",
       "      <td>CTS</td>\n",
       "      <td>65.9</td>\n",
       "      <td>56.0</td>\n",
       "      <td>1.76</td>\n",
       "      <td>70.0</td>\n",
       "      <td>8.6</td>\n",
       "      <td>270000.0</td>\n",
       "    </tr>\n",
       "    <tr>\n",
       "      <th>1</th>\n",
       "      <td>Algeria</td>\n",
       "      <td>DZ</td>\n",
       "      <td>CTS</td>\n",
       "      <td>4.8</td>\n",
       "      <td>20.0</td>\n",
       "      <td>0.06</td>\n",
       "      <td>78.0</td>\n",
       "      <td>7.6</td>\n",
       "      <td>1900000.0</td>\n",
       "    </tr>\n",
       "    <tr>\n",
       "      <th>2</th>\n",
       "      <td>Angola</td>\n",
       "      <td>AO</td>\n",
       "      <td>NaN</td>\n",
       "      <td>NaN</td>\n",
       "      <td>NaN</td>\n",
       "      <td>NaN</td>\n",
       "      <td>34.0</td>\n",
       "      <td>17.3</td>\n",
       "      <td>2800000.0</td>\n",
       "    </tr>\n",
       "    <tr>\n",
       "      <th>3</th>\n",
       "      <td>Anguilla</td>\n",
       "      <td>AI</td>\n",
       "      <td>WHO-MDB</td>\n",
       "      <td>24.0</td>\n",
       "      <td>1.0</td>\n",
       "      <td>7.14</td>\n",
       "      <td>NaN</td>\n",
       "      <td>NaN</td>\n",
       "      <td>NaN</td>\n",
       "    </tr>\n",
       "    <tr>\n",
       "      <th>4</th>\n",
       "      <td>Argentina</td>\n",
       "      <td>AR</td>\n",
       "      <td>Ministry of Justice</td>\n",
       "      <td>52.0</td>\n",
       "      <td>1198.0</td>\n",
       "      <td>3.02</td>\n",
       "      <td>62.0</td>\n",
       "      <td>10.2</td>\n",
       "      <td>3950000.0</td>\n",
       "    </tr>\n",
       "    <tr>\n",
       "      <th>5</th>\n",
       "      <td>Armenia</td>\n",
       "      <td>AM</td>\n",
       "      <td>CTS</td>\n",
       "      <td>13.0</td>\n",
       "      <td>9.0</td>\n",
       "      <td>0.29</td>\n",
       "      <td>52.0</td>\n",
       "      <td>12.5</td>\n",
       "      <td>380000.0</td>\n",
       "    </tr>\n",
       "    <tr>\n",
       "      <th>6</th>\n",
       "      <td>Australia</td>\n",
       "      <td>AU</td>\n",
       "      <td>NSO</td>\n",
       "      <td>11.5</td>\n",
       "      <td>30.0</td>\n",
       "      <td>0.14</td>\n",
       "      <td>42.0</td>\n",
       "      <td>15.0</td>\n",
       "      <td>3050000.0</td>\n",
       "    </tr>\n",
       "    <tr>\n",
       "      <th>7</th>\n",
       "      <td>Austria</td>\n",
       "      <td>AT</td>\n",
       "      <td>CTS</td>\n",
       "      <td>29.5</td>\n",
       "      <td>18.0</td>\n",
       "      <td>0.22</td>\n",
       "      <td>14.0</td>\n",
       "      <td>30.4</td>\n",
       "      <td>2500000.0</td>\n",
       "    </tr>\n",
       "    <tr>\n",
       "      <th>8</th>\n",
       "      <td>Azerbaijan</td>\n",
       "      <td>AZ</td>\n",
       "      <td>CTS</td>\n",
       "      <td>6.5</td>\n",
       "      <td>11.0</td>\n",
       "      <td>0.12</td>\n",
       "      <td>115.0</td>\n",
       "      <td>3.5</td>\n",
       "      <td>290000.0</td>\n",
       "    </tr>\n",
       "    <tr>\n",
       "      <th>9</th>\n",
       "      <td>Bahamas</td>\n",
       "      <td>BS</td>\n",
       "      <td>CTS</td>\n",
       "      <td>61.2</td>\n",
       "      <td>52.0</td>\n",
       "      <td>15.37</td>\n",
       "      <td>98.0</td>\n",
       "      <td>5.3</td>\n",
       "      <td>17000.0</td>\n",
       "    </tr>\n",
       "  </tbody>\n",
       "</table>\n",
       "</div>"
      ],
      "text/plain": [
       "  Country/Territory ISO code               Source  % of homicides by firearm  \\\n",
       "0           Albania       AL                  CTS                       65.9   \n",
       "1           Algeria       DZ                  CTS                        4.8   \n",
       "2            Angola       AO                  NaN                        NaN   \n",
       "3          Anguilla       AI              WHO-MDB                       24.0   \n",
       "4         Argentina       AR  Ministry of Justice                       52.0   \n",
       "5           Armenia       AM                  CTS                       13.0   \n",
       "6         Australia       AU                  NSO                       11.5   \n",
       "7           Austria       AT                  CTS                       29.5   \n",
       "8        Azerbaijan       AZ                  CTS                        6.5   \n",
       "9           Bahamas       BS                  CTS                       61.2   \n",
       "\n",
       "   Number of homicides by firearm  Homicide by firearm rate per 100,000 pop  \\\n",
       "0                            56.0                                      1.76   \n",
       "1                            20.0                                      0.06   \n",
       "2                             NaN                                       NaN   \n",
       "3                             1.0                                      7.14   \n",
       "4                          1198.0                                      3.02   \n",
       "5                             9.0                                      0.29   \n",
       "6                            30.0                                      0.14   \n",
       "7                            18.0                                      0.22   \n",
       "8                            11.0                                      0.12   \n",
       "9                            52.0                                     15.37   \n",
       "\n",
       "   Rank by rate of ownership  Average firearms per 100 people  \\\n",
       "0                       70.0                              8.6   \n",
       "1                       78.0                              7.6   \n",
       "2                       34.0                             17.3   \n",
       "3                        NaN                              NaN   \n",
       "4                       62.0                             10.2   \n",
       "5                       52.0                             12.5   \n",
       "6                       42.0                             15.0   \n",
       "7                       14.0                             30.4   \n",
       "8                      115.0                              3.5   \n",
       "9                       98.0                              5.3   \n",
       "\n",
       "   Average total all civilian firearms  \n",
       "0                             270000.0  \n",
       "1                            1900000.0  \n",
       "2                            2800000.0  \n",
       "3                                  NaN  \n",
       "4                            3950000.0  \n",
       "5                             380000.0  \n",
       "6                            3050000.0  \n",
       "7                            2500000.0  \n",
       "8                             290000.0  \n",
       "9                              17000.0  "
      ]
     },
     "execution_count": 51,
     "metadata": {},
     "output_type": "execute_result"
    }
   ],
   "source": [
    "w.head(10)"
   ]
  },
  {
   "cell_type": "code",
   "execution_count": 52,
   "metadata": {},
   "outputs": [],
   "source": [
    "#Number of mass shootings\n",
    "ms = pd.read_csv(os.getenv(\"PUIDATA\") + \"/\" + 'Number of mass shootings.csv')"
   ]
  },
  {
   "cell_type": "code",
   "execution_count": 53,
   "metadata": {},
   "outputs": [
    {
     "data": {
      "text/html": [
       "<div>\n",
       "<table border=\"1\" class=\"dataframe\">\n",
       "  <thead>\n",
       "    <tr style=\"text-align: right;\">\n",
       "      <th></th>\n",
       "      <th>Country</th>\n",
       "      <th>Guns per 100 inhabitants</th>\n",
       "      <th>Number of mass shootings (1983-2013)</th>\n",
       "    </tr>\n",
       "  </thead>\n",
       "  <tbody>\n",
       "    <tr>\n",
       "      <th>0</th>\n",
       "      <td>Australia</td>\n",
       "      <td>15.0</td>\n",
       "      <td>4</td>\n",
       "    </tr>\n",
       "    <tr>\n",
       "      <th>1</th>\n",
       "      <td>Austria</td>\n",
       "      <td>30.4</td>\n",
       "      <td>1</td>\n",
       "    </tr>\n",
       "    <tr>\n",
       "      <th>2</th>\n",
       "      <td>Belgium</td>\n",
       "      <td>17.2</td>\n",
       "      <td>2</td>\n",
       "    </tr>\n",
       "    <tr>\n",
       "      <th>3</th>\n",
       "      <td>Canada</td>\n",
       "      <td>30.8</td>\n",
       "      <td>4</td>\n",
       "    </tr>\n",
       "    <tr>\n",
       "      <th>4</th>\n",
       "      <td>Denmark</td>\n",
       "      <td>12.0</td>\n",
       "      <td>0</td>\n",
       "    </tr>\n",
       "  </tbody>\n",
       "</table>\n",
       "</div>"
      ],
      "text/plain": [
       "     Country  Guns per 100 inhabitants  Number of mass shootings (1983-2013)\n",
       "0  Australia                      15.0                                     4\n",
       "1    Austria                      30.4                                     1\n",
       "2    Belgium                      17.2                                     2\n",
       "3     Canada                      30.8                                     4\n",
       "4    Denmark                      12.0                                     0"
      ]
     },
     "execution_count": 53,
     "metadata": {},
     "output_type": "execute_result"
    }
   ],
   "source": [
    "ms.head()"
   ]
  },
  {
   "cell_type": "code",
   "execution_count": 54,
   "metadata": {},
   "outputs": [],
   "source": [
    "import zipfile\n",
    "zip_ref = zipfile.ZipFile( os.getenv(\"PUIDATA\") + \"/\" +\"API_SP.POP.TOTL_DS2_en_csv_v2_10203548.zip\", 'r')\n",
    "zip_ref.extractall( os.getenv(\"PUIDATA\") )\n",
    "zip_ref.close()"
   ]
  },
  {
   "cell_type": "code",
   "execution_count": 55,
   "metadata": {},
   "outputs": [
    {
     "name": "stdout",
     "output_type": "stream",
     "text": [
      "201501-citibike-tripdata.csv\r\n",
      "201501-citibike-tripdata.zip\r\n",
      "201506-citibike-tripdata.csv\r\n",
      "201506-citibike-tripdata.zip\r\n",
      "201601-citibike-tripdata.csv\r\n",
      "201601-citibike-tripdata.csv.zip\r\n",
      "201601-citibike-tripdata.zip\r\n",
      "201602-citibike-tripdata.csv\r\n",
      "201602-citibike-tripdata.zip\r\n",
      "201606-citibike-tripdata.csv\r\n",
      "201606-citibike-tripdata.zip\r\n",
      "201801JC-201801-citibike-tripdata.csv.zip\r\n",
      "ACS_16_1YR_GCT2801.ST50_metadata.csv\r\n",
      "ACS_16_1YR_GCT2801.ST50.txt\r\n",
      "ACS_16_1YR_GCT2801.ST50_with_ann.csv\r\n",
      "ACS_16_1YR_GCT2801.ST50.zip\r\n",
      "aff_download_readme_ann.txt\r\n",
      "API_NY.GDP.MKTP.CD_DS2_en_csv_v2_10203569.csv\r\n",
      "API_SP.POP.TOTL_DS2_en_csv_v2_10203548.csv\r\n",
      "API_SP.POP.TOTL_DS2_en_csv_v2_10203548.zip\r\n",
      "city_racks_2013_06_28.dbf\r\n",
      "city_racks_2013_06_28.prj\r\n",
      "city_racks_2013_06_28.sbn\r\n",
      "city_racks_2013_06_28.sbx\r\n",
      "city_racks_2013_06_28.shp\r\n",
      "city_racks_2013_06_28.shp.xml\r\n",
      "city_racks_2013_06_28.shx\r\n",
      "cityracks.zip\r\n",
      "data.csv\r\n",
      "dshstreet.csv\r\n",
      "geo_export_27f6bb5f-73a6-4fdd-8865-99a7575072b4.dbf\r\n",
      "geo_export_27f6bb5f-73a6-4fdd-8865-99a7575072b4.prj\r\n",
      "geo_export_27f6bb5f-73a6-4fdd-8865-99a7575072b4.shp\r\n",
      "geo_export_27f6bb5f-73a6-4fdd-8865-99a7575072b4.shx\r\n",
      "geo_export_339a0904-21a6-4646-a0ec-75934ca63895.dbf\r\n",
      "geo_export_339a0904-21a6-4646-a0ec-75934ca63895.prj\r\n",
      "geo_export_339a0904-21a6-4646-a0ec-75934ca63895.shp\r\n",
      "geo_export_339a0904-21a6-4646-a0ec-75934ca63895.shx\r\n",
      "geo_export_3e5af34b-74f8-4668-9a0f-147a0f1ea9f5.dbf\r\n",
      "geo_export_3e5af34b-74f8-4668-9a0f-147a0f1ea9f5.prj\r\n",
      "geo_export_3e5af34b-74f8-4668-9a0f-147a0f1ea9f5.shp\r\n",
      "geo_export_3e5af34b-74f8-4668-9a0f-147a0f1ea9f5.shx\r\n",
      "geo_export_3eab19af-2a60-4abe-a6d0-220af7b510d1.dbf\r\n",
      "geo_export_3eab19af-2a60-4abe-a6d0-220af7b510d1.prj\r\n",
      "geo_export_3eab19af-2a60-4abe-a6d0-220af7b510d1.shp\r\n",
      "geo_export_3eab19af-2a60-4abe-a6d0-220af7b510d1.shx\r\n",
      "geo_export_4040239c-7092-4822-9c64-8ff127762d0e.dbf\r\n",
      "geo_export_4040239c-7092-4822-9c64-8ff127762d0e.prj\r\n",
      "geo_export_4040239c-7092-4822-9c64-8ff127762d0e.shp\r\n",
      "geo_export_4040239c-7092-4822-9c64-8ff127762d0e.shx\r\n",
      "geo_export_4e31d121-314b-4626-86ee-5857be3e57fb.dbf\r\n",
      "geo_export_4e31d121-314b-4626-86ee-5857be3e57fb.prj\r\n",
      "geo_export_4e31d121-314b-4626-86ee-5857be3e57fb.shp\r\n",
      "geo_export_4e31d121-314b-4626-86ee-5857be3e57fb.shx\r\n",
      "geo_export_4ebc134f-6495-4e4e-8220-6844796768a3.dbf\r\n",
      "geo_export_4ebc134f-6495-4e4e-8220-6844796768a3.prj\r\n",
      "geo_export_4ebc134f-6495-4e4e-8220-6844796768a3.shp\r\n",
      "geo_export_4ebc134f-6495-4e4e-8220-6844796768a3.shx\r\n",
      "geo_export_5ce43727-c008-4e38-b70d-c90664ce3e35.dbf\r\n",
      "geo_export_5ce43727-c008-4e38-b70d-c90664ce3e35.prj\r\n",
      "geo_export_5ce43727-c008-4e38-b70d-c90664ce3e35.shp\r\n",
      "geo_export_5ce43727-c008-4e38-b70d-c90664ce3e35.shx\r\n",
      "geo_export_8c22df38-dfb2-4121-bc04-de1cde942060.dbf\r\n",
      "geo_export_8c22df38-dfb2-4121-bc04-de1cde942060.prj\r\n",
      "geo_export_8c22df38-dfb2-4121-bc04-de1cde942060.shp\r\n",
      "geo_export_8c22df38-dfb2-4121-bc04-de1cde942060.shx\r\n",
      "geo_export_8e68bda5-edc7-4158-9f47-72c835513f4a.dbf\r\n",
      "geo_export_8e68bda5-edc7-4158-9f47-72c835513f4a.prj\r\n",
      "geo_export_8e68bda5-edc7-4158-9f47-72c835513f4a.shp\r\n",
      "geo_export_8e68bda5-edc7-4158-9f47-72c835513f4a.shx\r\n",
      "geo_export_a54cdef7-a027-4bc6-97ff-a58350ac9e4e.dbf\r\n",
      "geo_export_a54cdef7-a027-4bc6-97ff-a58350ac9e4e.prj\r\n",
      "geo_export_a54cdef7-a027-4bc6-97ff-a58350ac9e4e.shp\r\n",
      "geo_export_a54cdef7-a027-4bc6-97ff-a58350ac9e4e.shx\r\n",
      "geo_export_a819557b-1cc6-4a6a-8f42-2d56720f5582.dbf\r\n",
      "geo_export_a819557b-1cc6-4a6a-8f42-2d56720f5582.prj\r\n",
      "geo_export_a819557b-1cc6-4a6a-8f42-2d56720f5582.shp\r\n",
      "geo_export_a819557b-1cc6-4a6a-8f42-2d56720f5582.shx\r\n",
      "geo_export_b37fdcb2-4a26-42fe-991f-d81624b83d24.dbf\r\n",
      "geo_export_b37fdcb2-4a26-42fe-991f-d81624b83d24.prj\r\n",
      "geo_export_b37fdcb2-4a26-42fe-991f-d81624b83d24.shp\r\n",
      "geo_export_b37fdcb2-4a26-42fe-991f-d81624b83d24.shx\r\n",
      "geo_export_c9db4743-c1d8-4258-ac3f-5de786609898.dbf\r\n",
      "geo_export_c9db4743-c1d8-4258-ac3f-5de786609898.prj\r\n",
      "geo_export_c9db4743-c1d8-4258-ac3f-5de786609898.shp\r\n",
      "geo_export_c9db4743-c1d8-4258-ac3f-5de786609898.shx\r\n",
      "geo_export_d5af7dba-b787-4082-971e-0b346b1d9e7c.dbf\r\n",
      "geo_export_d5af7dba-b787-4082-971e-0b346b1d9e7c.prj\r\n",
      "geo_export_d5af7dba-b787-4082-971e-0b346b1d9e7c.shp\r\n",
      "geo_export_d5af7dba-b787-4082-971e-0b346b1d9e7c.shx\r\n",
      "geo_export_da359aba-a958-46a9-a6aa-964c616ce481.dbf\r\n",
      "geo_export_da359aba-a958-46a9-a6aa-964c616ce481.prj\r\n",
      "geo_export_da359aba-a958-46a9-a6aa-964c616ce481.shp\r\n",
      "geo_export_da359aba-a958-46a9-a6aa-964c616ce481.shx\r\n",
      "geo_export_e6e8e110-5e52-4519-84f7-0ef8ac9d3e63.dbf\r\n",
      "geo_export_e6e8e110-5e52-4519-84f7-0ef8ac9d3e63.prj\r\n",
      "geo_export_e6e8e110-5e52-4519-84f7-0ef8ac9d3e63.shp\r\n",
      "geo_export_e6e8e110-5e52-4519-84f7-0ef8ac9d3e63.shx\r\n",
      "geo_export_ef88dd58-8138-47e8-9ef5-563c513033a3.dbf\r\n",
      "geo_export_ef88dd58-8138-47e8-9ef5-563c513033a3.prj\r\n",
      "geo_export_ef88dd58-8138-47e8-9ef5-563c513033a3.shp\r\n",
      "geo_export_ef88dd58-8138-47e8-9ef5-563c513033a3.shx\r\n",
      "manTrees.csv\r\n",
      "Metadata_Country_API_NY.GDP.MKTP.CD_DS2_en_csv_v2_10203569.csv\r\n",
      "Metadata_Country_API_SP.POP.TOTL_DS2_en_csv_v2_10203548.csv\r\n",
      "Metadata_Indicator_API_NY.GDP.MKTP.CD_DS2_en_csv_v2_10203569.csv\r\n",
      "Metadata_Indicator_API_SP.POP.TOTL_DS2_en_csv_v2_10203548.csv\r\n",
      "Number of mass shootings.csv\r\n",
      "PLUTO_for_WEB\r\n",
      "pluto.zip\r\n",
      "po.csv\r\n",
      "popu.csv\r\n",
      "pumadata.gz\r\n",
      "pumadata.zip\r\n",
      "puma.zip\r\n",
      "treea.csv\r\n",
      "world_gdp.zip\r\n",
      "ZIP_CODE_040114.dbf\r\n",
      "ZIP_CODE_040114.prj\r\n",
      "ZIP_CODE_040114.sbn\r\n",
      "ZIP_CODE_040114.sbx\r\n",
      "ZIP_CODE_040114.shp\r\n",
      "ZIP_CODE_040114.shp.xml\r\n",
      "ZIP_CODE_040114.shx\r\n",
      "zipcodes.zip\r\n"
     ]
    }
   ],
   "source": [
    "!ls $PUIDATA"
   ]
  },
  {
   "cell_type": "code",
   "execution_count": 91,
   "metadata": {},
   "outputs": [],
   "source": [
    "#The world population by country \n",
    "po = pd.read_csv(os.getenv(\"PUIDATA\") + \"/\" + 'API_SP.POP.TOTL_DS2_en_csv_v2_10203548.csv')"
   ]
  },
  {
   "cell_type": "code",
   "execution_count": 92,
   "metadata": {},
   "outputs": [
    {
     "data": {
      "text/html": [
       "<div>\n",
       "<table border=\"1\" class=\"dataframe\">\n",
       "  <thead>\n",
       "    <tr style=\"text-align: right;\">\n",
       "      <th></th>\n",
       "      <th>Country Name</th>\n",
       "      <th>Country Code</th>\n",
       "      <th>Indicator Name</th>\n",
       "      <th>Indicator Code</th>\n",
       "      <th>1960</th>\n",
       "      <th>1961</th>\n",
       "      <th>1962</th>\n",
       "      <th>1963</th>\n",
       "      <th>1964</th>\n",
       "      <th>1965</th>\n",
       "      <th>...</th>\n",
       "      <th>2009</th>\n",
       "      <th>2010</th>\n",
       "      <th>2011</th>\n",
       "      <th>2012</th>\n",
       "      <th>2013</th>\n",
       "      <th>2014</th>\n",
       "      <th>2015</th>\n",
       "      <th>2016</th>\n",
       "      <th>2017</th>\n",
       "      <th>Unnamed: 62</th>\n",
       "    </tr>\n",
       "  </thead>\n",
       "  <tbody>\n",
       "    <tr>\n",
       "      <th>0</th>\n",
       "      <td>Aruba</td>\n",
       "      <td>ABW</td>\n",
       "      <td>Population, total</td>\n",
       "      <td>SP.POP.TOTL</td>\n",
       "      <td>54211.0</td>\n",
       "      <td>55438.0</td>\n",
       "      <td>56225.0</td>\n",
       "      <td>56695.0</td>\n",
       "      <td>57032.0</td>\n",
       "      <td>57360.0</td>\n",
       "      <td>...</td>\n",
       "      <td>101453.0</td>\n",
       "      <td>101669.0</td>\n",
       "      <td>102053.0</td>\n",
       "      <td>102577.0</td>\n",
       "      <td>103187.0</td>\n",
       "      <td>103795.0</td>\n",
       "      <td>104341.0</td>\n",
       "      <td>104822.0</td>\n",
       "      <td>105264.0</td>\n",
       "      <td>NaN</td>\n",
       "    </tr>\n",
       "    <tr>\n",
       "      <th>1</th>\n",
       "      <td>Afghanistan</td>\n",
       "      <td>AFG</td>\n",
       "      <td>Population, total</td>\n",
       "      <td>SP.POP.TOTL</td>\n",
       "      <td>8996351.0</td>\n",
       "      <td>9166764.0</td>\n",
       "      <td>9345868.0</td>\n",
       "      <td>9533954.0</td>\n",
       "      <td>9731361.0</td>\n",
       "      <td>9938414.0</td>\n",
       "      <td>...</td>\n",
       "      <td>28004331.0</td>\n",
       "      <td>28803167.0</td>\n",
       "      <td>29708599.0</td>\n",
       "      <td>30696958.0</td>\n",
       "      <td>31731688.0</td>\n",
       "      <td>32758020.0</td>\n",
       "      <td>33736494.0</td>\n",
       "      <td>34656032.0</td>\n",
       "      <td>35530081.0</td>\n",
       "      <td>NaN</td>\n",
       "    </tr>\n",
       "    <tr>\n",
       "      <th>2</th>\n",
       "      <td>Angola</td>\n",
       "      <td>AGO</td>\n",
       "      <td>Population, total</td>\n",
       "      <td>SP.POP.TOTL</td>\n",
       "      <td>5643182.0</td>\n",
       "      <td>5753024.0</td>\n",
       "      <td>5866061.0</td>\n",
       "      <td>5980417.0</td>\n",
       "      <td>6093321.0</td>\n",
       "      <td>6203299.0</td>\n",
       "      <td>...</td>\n",
       "      <td>22549547.0</td>\n",
       "      <td>23369131.0</td>\n",
       "      <td>24218565.0</td>\n",
       "      <td>25096150.0</td>\n",
       "      <td>25998340.0</td>\n",
       "      <td>26920466.0</td>\n",
       "      <td>27859305.0</td>\n",
       "      <td>28813463.0</td>\n",
       "      <td>29784193.0</td>\n",
       "      <td>NaN</td>\n",
       "    </tr>\n",
       "    <tr>\n",
       "      <th>3</th>\n",
       "      <td>Albania</td>\n",
       "      <td>ALB</td>\n",
       "      <td>Population, total</td>\n",
       "      <td>SP.POP.TOTL</td>\n",
       "      <td>1608800.0</td>\n",
       "      <td>1659800.0</td>\n",
       "      <td>1711319.0</td>\n",
       "      <td>1762621.0</td>\n",
       "      <td>1814135.0</td>\n",
       "      <td>1864791.0</td>\n",
       "      <td>...</td>\n",
       "      <td>2927519.0</td>\n",
       "      <td>2913021.0</td>\n",
       "      <td>2905195.0</td>\n",
       "      <td>2900401.0</td>\n",
       "      <td>2895092.0</td>\n",
       "      <td>2889104.0</td>\n",
       "      <td>2880703.0</td>\n",
       "      <td>2876101.0</td>\n",
       "      <td>2873457.0</td>\n",
       "      <td>NaN</td>\n",
       "    </tr>\n",
       "    <tr>\n",
       "      <th>4</th>\n",
       "      <td>Andorra</td>\n",
       "      <td>AND</td>\n",
       "      <td>Population, total</td>\n",
       "      <td>SP.POP.TOTL</td>\n",
       "      <td>13411.0</td>\n",
       "      <td>14375.0</td>\n",
       "      <td>15370.0</td>\n",
       "      <td>16412.0</td>\n",
       "      <td>17469.0</td>\n",
       "      <td>18549.0</td>\n",
       "      <td>...</td>\n",
       "      <td>84462.0</td>\n",
       "      <td>84449.0</td>\n",
       "      <td>83751.0</td>\n",
       "      <td>82431.0</td>\n",
       "      <td>80788.0</td>\n",
       "      <td>79223.0</td>\n",
       "      <td>78014.0</td>\n",
       "      <td>77281.0</td>\n",
       "      <td>76965.0</td>\n",
       "      <td>NaN</td>\n",
       "    </tr>\n",
       "  </tbody>\n",
       "</table>\n",
       "<p>5 rows × 63 columns</p>\n",
       "</div>"
      ],
      "text/plain": [
       "  Country Name Country Code     Indicator Name Indicator Code       1960  \\\n",
       "0        Aruba          ABW  Population, total    SP.POP.TOTL    54211.0   \n",
       "1  Afghanistan          AFG  Population, total    SP.POP.TOTL  8996351.0   \n",
       "2       Angola          AGO  Population, total    SP.POP.TOTL  5643182.0   \n",
       "3      Albania          ALB  Population, total    SP.POP.TOTL  1608800.0   \n",
       "4      Andorra          AND  Population, total    SP.POP.TOTL    13411.0   \n",
       "\n",
       "        1961       1962       1963       1964       1965     ...       \\\n",
       "0    55438.0    56225.0    56695.0    57032.0    57360.0     ...        \n",
       "1  9166764.0  9345868.0  9533954.0  9731361.0  9938414.0     ...        \n",
       "2  5753024.0  5866061.0  5980417.0  6093321.0  6203299.0     ...        \n",
       "3  1659800.0  1711319.0  1762621.0  1814135.0  1864791.0     ...        \n",
       "4    14375.0    15370.0    16412.0    17469.0    18549.0     ...        \n",
       "\n",
       "         2009        2010        2011        2012        2013        2014  \\\n",
       "0    101453.0    101669.0    102053.0    102577.0    103187.0    103795.0   \n",
       "1  28004331.0  28803167.0  29708599.0  30696958.0  31731688.0  32758020.0   \n",
       "2  22549547.0  23369131.0  24218565.0  25096150.0  25998340.0  26920466.0   \n",
       "3   2927519.0   2913021.0   2905195.0   2900401.0   2895092.0   2889104.0   \n",
       "4     84462.0     84449.0     83751.0     82431.0     80788.0     79223.0   \n",
       "\n",
       "         2015        2016        2017  Unnamed: 62  \n",
       "0    104341.0    104822.0    105264.0          NaN  \n",
       "1  33736494.0  34656032.0  35530081.0          NaN  \n",
       "2  27859305.0  28813463.0  29784193.0          NaN  \n",
       "3   2880703.0   2876101.0   2873457.0          NaN  \n",
       "4     78014.0     77281.0     76965.0          NaN  \n",
       "\n",
       "[5 rows x 63 columns]"
      ]
     },
     "execution_count": 92,
     "metadata": {},
     "output_type": "execute_result"
    }
   ],
   "source": [
    "po.head()"
   ]
  },
  {
   "cell_type": "code",
   "execution_count": 73,
   "metadata": {},
   "outputs": [
    {
     "name": "stdout",
     "output_type": "stream",
     "text": [
      "--2018-11-13 23:22:05--  http://api.worldbank.org/v2/en/indicator/NY.GDP.MKTP.CD?downloadformat=csv\n",
      "Resolving api.worldbank.org (api.worldbank.org)... 52.202.62.171\n",
      "Connecting to api.worldbank.org (api.worldbank.org)|52.202.62.171|:80... connected.\n",
      "HTTP request sent, awaiting response... 200 OK\n",
      "Length: 116071 (113K) [application/zip]\n",
      "Saving to: ‘world_gdp.zip’\n",
      "\n",
      "world_gdp.zip       100%[===================>] 113.35K  --.-KB/s    in 0.02s   \n",
      "\n",
      "2018-11-13 23:22:05 (5.46 MB/s) - ‘world_gdp.zip’ saved [116071/116071]\n",
      "\n"
     ]
    }
   ],
   "source": [
    "#Download GDP DATA\n",
    "!wget http://api.worldbank.org/v2/en/indicator/NY.GDP.MKTP.CD?downloadformat=csv -O world_gdp.zip"
   ]
  },
  {
   "cell_type": "code",
   "execution_count": 74,
   "metadata": {},
   "outputs": [],
   "source": [
    "!mv world_gdp.zip $PUIDATA"
   ]
  },
  {
   "cell_type": "code",
   "execution_count": 75,
   "metadata": {},
   "outputs": [
    {
     "name": "stdout",
     "output_type": "stream",
     "text": [
      "201501-citibike-tripdata.csv\r\n",
      "201501-citibike-tripdata.zip\r\n",
      "201506-citibike-tripdata.csv\r\n",
      "201506-citibike-tripdata.zip\r\n",
      "201601-citibike-tripdata.csv\r\n",
      "201601-citibike-tripdata.csv.zip\r\n",
      "201601-citibike-tripdata.zip\r\n",
      "201602-citibike-tripdata.csv\r\n",
      "201602-citibike-tripdata.zip\r\n",
      "201606-citibike-tripdata.csv\r\n",
      "201606-citibike-tripdata.zip\r\n",
      "201801JC-201801-citibike-tripdata.csv.zip\r\n",
      "ACS_16_1YR_GCT2801.ST50_metadata.csv\r\n",
      "ACS_16_1YR_GCT2801.ST50.txt\r\n",
      "ACS_16_1YR_GCT2801.ST50_with_ann.csv\r\n",
      "ACS_16_1YR_GCT2801.ST50.zip\r\n",
      "aff_download_readme_ann.txt\r\n",
      "API_NY.GDP.MKTP.CD_DS2_en_csv_v2_10203569.csv\r\n",
      "API_SP.POP.TOTL_DS2_en_csv_v2_10203548.csv\r\n",
      "API_SP.POP.TOTL_DS2_en_csv_v2_10203548.zip\r\n",
      "city_racks_2013_06_28.dbf\r\n",
      "city_racks_2013_06_28.prj\r\n",
      "city_racks_2013_06_28.sbn\r\n",
      "city_racks_2013_06_28.sbx\r\n",
      "city_racks_2013_06_28.shp\r\n",
      "city_racks_2013_06_28.shp.xml\r\n",
      "city_racks_2013_06_28.shx\r\n",
      "cityracks.zip\r\n",
      "data.csv\r\n",
      "dshstreet.csv\r\n",
      "geo_export_27f6bb5f-73a6-4fdd-8865-99a7575072b4.dbf\r\n",
      "geo_export_27f6bb5f-73a6-4fdd-8865-99a7575072b4.prj\r\n",
      "geo_export_27f6bb5f-73a6-4fdd-8865-99a7575072b4.shp\r\n",
      "geo_export_27f6bb5f-73a6-4fdd-8865-99a7575072b4.shx\r\n",
      "geo_export_339a0904-21a6-4646-a0ec-75934ca63895.dbf\r\n",
      "geo_export_339a0904-21a6-4646-a0ec-75934ca63895.prj\r\n",
      "geo_export_339a0904-21a6-4646-a0ec-75934ca63895.shp\r\n",
      "geo_export_339a0904-21a6-4646-a0ec-75934ca63895.shx\r\n",
      "geo_export_3e5af34b-74f8-4668-9a0f-147a0f1ea9f5.dbf\r\n",
      "geo_export_3e5af34b-74f8-4668-9a0f-147a0f1ea9f5.prj\r\n",
      "geo_export_3e5af34b-74f8-4668-9a0f-147a0f1ea9f5.shp\r\n",
      "geo_export_3e5af34b-74f8-4668-9a0f-147a0f1ea9f5.shx\r\n",
      "geo_export_3eab19af-2a60-4abe-a6d0-220af7b510d1.dbf\r\n",
      "geo_export_3eab19af-2a60-4abe-a6d0-220af7b510d1.prj\r\n",
      "geo_export_3eab19af-2a60-4abe-a6d0-220af7b510d1.shp\r\n",
      "geo_export_3eab19af-2a60-4abe-a6d0-220af7b510d1.shx\r\n",
      "geo_export_4040239c-7092-4822-9c64-8ff127762d0e.dbf\r\n",
      "geo_export_4040239c-7092-4822-9c64-8ff127762d0e.prj\r\n",
      "geo_export_4040239c-7092-4822-9c64-8ff127762d0e.shp\r\n",
      "geo_export_4040239c-7092-4822-9c64-8ff127762d0e.shx\r\n",
      "geo_export_4e31d121-314b-4626-86ee-5857be3e57fb.dbf\r\n",
      "geo_export_4e31d121-314b-4626-86ee-5857be3e57fb.prj\r\n",
      "geo_export_4e31d121-314b-4626-86ee-5857be3e57fb.shp\r\n",
      "geo_export_4e31d121-314b-4626-86ee-5857be3e57fb.shx\r\n",
      "geo_export_4ebc134f-6495-4e4e-8220-6844796768a3.dbf\r\n",
      "geo_export_4ebc134f-6495-4e4e-8220-6844796768a3.prj\r\n",
      "geo_export_4ebc134f-6495-4e4e-8220-6844796768a3.shp\r\n",
      "geo_export_4ebc134f-6495-4e4e-8220-6844796768a3.shx\r\n",
      "geo_export_5ce43727-c008-4e38-b70d-c90664ce3e35.dbf\r\n",
      "geo_export_5ce43727-c008-4e38-b70d-c90664ce3e35.prj\r\n",
      "geo_export_5ce43727-c008-4e38-b70d-c90664ce3e35.shp\r\n",
      "geo_export_5ce43727-c008-4e38-b70d-c90664ce3e35.shx\r\n",
      "geo_export_8c22df38-dfb2-4121-bc04-de1cde942060.dbf\r\n",
      "geo_export_8c22df38-dfb2-4121-bc04-de1cde942060.prj\r\n",
      "geo_export_8c22df38-dfb2-4121-bc04-de1cde942060.shp\r\n",
      "geo_export_8c22df38-dfb2-4121-bc04-de1cde942060.shx\r\n",
      "geo_export_8e68bda5-edc7-4158-9f47-72c835513f4a.dbf\r\n",
      "geo_export_8e68bda5-edc7-4158-9f47-72c835513f4a.prj\r\n",
      "geo_export_8e68bda5-edc7-4158-9f47-72c835513f4a.shp\r\n",
      "geo_export_8e68bda5-edc7-4158-9f47-72c835513f4a.shx\r\n",
      "geo_export_a54cdef7-a027-4bc6-97ff-a58350ac9e4e.dbf\r\n",
      "geo_export_a54cdef7-a027-4bc6-97ff-a58350ac9e4e.prj\r\n",
      "geo_export_a54cdef7-a027-4bc6-97ff-a58350ac9e4e.shp\r\n",
      "geo_export_a54cdef7-a027-4bc6-97ff-a58350ac9e4e.shx\r\n",
      "geo_export_a819557b-1cc6-4a6a-8f42-2d56720f5582.dbf\r\n",
      "geo_export_a819557b-1cc6-4a6a-8f42-2d56720f5582.prj\r\n",
      "geo_export_a819557b-1cc6-4a6a-8f42-2d56720f5582.shp\r\n",
      "geo_export_a819557b-1cc6-4a6a-8f42-2d56720f5582.shx\r\n",
      "geo_export_b37fdcb2-4a26-42fe-991f-d81624b83d24.dbf\r\n",
      "geo_export_b37fdcb2-4a26-42fe-991f-d81624b83d24.prj\r\n",
      "geo_export_b37fdcb2-4a26-42fe-991f-d81624b83d24.shp\r\n",
      "geo_export_b37fdcb2-4a26-42fe-991f-d81624b83d24.shx\r\n",
      "geo_export_c9db4743-c1d8-4258-ac3f-5de786609898.dbf\r\n",
      "geo_export_c9db4743-c1d8-4258-ac3f-5de786609898.prj\r\n",
      "geo_export_c9db4743-c1d8-4258-ac3f-5de786609898.shp\r\n",
      "geo_export_c9db4743-c1d8-4258-ac3f-5de786609898.shx\r\n",
      "geo_export_d5af7dba-b787-4082-971e-0b346b1d9e7c.dbf\r\n",
      "geo_export_d5af7dba-b787-4082-971e-0b346b1d9e7c.prj\r\n",
      "geo_export_d5af7dba-b787-4082-971e-0b346b1d9e7c.shp\r\n",
      "geo_export_d5af7dba-b787-4082-971e-0b346b1d9e7c.shx\r\n",
      "geo_export_da359aba-a958-46a9-a6aa-964c616ce481.dbf\r\n",
      "geo_export_da359aba-a958-46a9-a6aa-964c616ce481.prj\r\n",
      "geo_export_da359aba-a958-46a9-a6aa-964c616ce481.shp\r\n",
      "geo_export_da359aba-a958-46a9-a6aa-964c616ce481.shx\r\n",
      "geo_export_e6e8e110-5e52-4519-84f7-0ef8ac9d3e63.dbf\r\n",
      "geo_export_e6e8e110-5e52-4519-84f7-0ef8ac9d3e63.prj\r\n",
      "geo_export_e6e8e110-5e52-4519-84f7-0ef8ac9d3e63.shp\r\n",
      "geo_export_e6e8e110-5e52-4519-84f7-0ef8ac9d3e63.shx\r\n",
      "geo_export_ef88dd58-8138-47e8-9ef5-563c513033a3.dbf\r\n",
      "geo_export_ef88dd58-8138-47e8-9ef5-563c513033a3.prj\r\n",
      "geo_export_ef88dd58-8138-47e8-9ef5-563c513033a3.shp\r\n",
      "geo_export_ef88dd58-8138-47e8-9ef5-563c513033a3.shx\r\n",
      "manTrees.csv\r\n",
      "Metadata_Country_API_NY.GDP.MKTP.CD_DS2_en_csv_v2_10203569.csv\r\n",
      "Metadata_Country_API_SP.POP.TOTL_DS2_en_csv_v2_10203548.csv\r\n",
      "Metadata_Indicator_API_NY.GDP.MKTP.CD_DS2_en_csv_v2_10203569.csv\r\n",
      "Metadata_Indicator_API_SP.POP.TOTL_DS2_en_csv_v2_10203548.csv\r\n",
      "Number of mass shootings.csv\r\n",
      "PLUTO_for_WEB\r\n",
      "pluto.zip\r\n",
      "po.csv\r\n",
      "popu.csv\r\n",
      "pumadata.gz\r\n",
      "pumadata.zip\r\n",
      "puma.zip\r\n",
      "treea.csv\r\n",
      "world_gdp.zip\r\n",
      "ZIP_CODE_040114.dbf\r\n",
      "ZIP_CODE_040114.prj\r\n",
      "ZIP_CODE_040114.sbn\r\n",
      "ZIP_CODE_040114.sbx\r\n",
      "ZIP_CODE_040114.shp\r\n",
      "ZIP_CODE_040114.shp.xml\r\n",
      "ZIP_CODE_040114.shx\r\n",
      "zipcodes.zip\r\n"
     ]
    }
   ],
   "source": [
    "!ls $PUIDATA"
   ]
  },
  {
   "cell_type": "code",
   "execution_count": 76,
   "metadata": {},
   "outputs": [],
   "source": [
    "import zipfile\n",
    "zip_ref = zipfile.ZipFile( os.getenv(\"PUIDATA\") + \"/\" +\"world_gdp.zip\", 'r')\n",
    "zip_ref.extractall( os.getenv(\"PUIDATA\") )\n",
    "zip_ref.close()"
   ]
  },
  {
   "cell_type": "code",
   "execution_count": 77,
   "metadata": {},
   "outputs": [
    {
     "name": "stdout",
     "output_type": "stream",
     "text": [
      "201501-citibike-tripdata.csv\r\n",
      "201501-citibike-tripdata.zip\r\n",
      "201506-citibike-tripdata.csv\r\n",
      "201506-citibike-tripdata.zip\r\n",
      "201601-citibike-tripdata.csv\r\n",
      "201601-citibike-tripdata.csv.zip\r\n",
      "201601-citibike-tripdata.zip\r\n",
      "201602-citibike-tripdata.csv\r\n",
      "201602-citibike-tripdata.zip\r\n",
      "201606-citibike-tripdata.csv\r\n",
      "201606-citibike-tripdata.zip\r\n",
      "201801JC-201801-citibike-tripdata.csv.zip\r\n",
      "ACS_16_1YR_GCT2801.ST50_metadata.csv\r\n",
      "ACS_16_1YR_GCT2801.ST50.txt\r\n",
      "ACS_16_1YR_GCT2801.ST50_with_ann.csv\r\n",
      "ACS_16_1YR_GCT2801.ST50.zip\r\n",
      "aff_download_readme_ann.txt\r\n",
      "API_NY.GDP.MKTP.CD_DS2_en_csv_v2_10203569.csv\r\n",
      "API_SP.POP.TOTL_DS2_en_csv_v2_10203548.csv\r\n",
      "API_SP.POP.TOTL_DS2_en_csv_v2_10203548.zip\r\n",
      "city_racks_2013_06_28.dbf\r\n",
      "city_racks_2013_06_28.prj\r\n",
      "city_racks_2013_06_28.sbn\r\n",
      "city_racks_2013_06_28.sbx\r\n",
      "city_racks_2013_06_28.shp\r\n",
      "city_racks_2013_06_28.shp.xml\r\n",
      "city_racks_2013_06_28.shx\r\n",
      "cityracks.zip\r\n",
      "data.csv\r\n",
      "dshstreet.csv\r\n",
      "geo_export_27f6bb5f-73a6-4fdd-8865-99a7575072b4.dbf\r\n",
      "geo_export_27f6bb5f-73a6-4fdd-8865-99a7575072b4.prj\r\n",
      "geo_export_27f6bb5f-73a6-4fdd-8865-99a7575072b4.shp\r\n",
      "geo_export_27f6bb5f-73a6-4fdd-8865-99a7575072b4.shx\r\n",
      "geo_export_339a0904-21a6-4646-a0ec-75934ca63895.dbf\r\n",
      "geo_export_339a0904-21a6-4646-a0ec-75934ca63895.prj\r\n",
      "geo_export_339a0904-21a6-4646-a0ec-75934ca63895.shp\r\n",
      "geo_export_339a0904-21a6-4646-a0ec-75934ca63895.shx\r\n",
      "geo_export_3e5af34b-74f8-4668-9a0f-147a0f1ea9f5.dbf\r\n",
      "geo_export_3e5af34b-74f8-4668-9a0f-147a0f1ea9f5.prj\r\n",
      "geo_export_3e5af34b-74f8-4668-9a0f-147a0f1ea9f5.shp\r\n",
      "geo_export_3e5af34b-74f8-4668-9a0f-147a0f1ea9f5.shx\r\n",
      "geo_export_3eab19af-2a60-4abe-a6d0-220af7b510d1.dbf\r\n",
      "geo_export_3eab19af-2a60-4abe-a6d0-220af7b510d1.prj\r\n",
      "geo_export_3eab19af-2a60-4abe-a6d0-220af7b510d1.shp\r\n",
      "geo_export_3eab19af-2a60-4abe-a6d0-220af7b510d1.shx\r\n",
      "geo_export_4040239c-7092-4822-9c64-8ff127762d0e.dbf\r\n",
      "geo_export_4040239c-7092-4822-9c64-8ff127762d0e.prj\r\n",
      "geo_export_4040239c-7092-4822-9c64-8ff127762d0e.shp\r\n",
      "geo_export_4040239c-7092-4822-9c64-8ff127762d0e.shx\r\n",
      "geo_export_4e31d121-314b-4626-86ee-5857be3e57fb.dbf\r\n",
      "geo_export_4e31d121-314b-4626-86ee-5857be3e57fb.prj\r\n",
      "geo_export_4e31d121-314b-4626-86ee-5857be3e57fb.shp\r\n",
      "geo_export_4e31d121-314b-4626-86ee-5857be3e57fb.shx\r\n",
      "geo_export_4ebc134f-6495-4e4e-8220-6844796768a3.dbf\r\n",
      "geo_export_4ebc134f-6495-4e4e-8220-6844796768a3.prj\r\n",
      "geo_export_4ebc134f-6495-4e4e-8220-6844796768a3.shp\r\n",
      "geo_export_4ebc134f-6495-4e4e-8220-6844796768a3.shx\r\n",
      "geo_export_5ce43727-c008-4e38-b70d-c90664ce3e35.dbf\r\n",
      "geo_export_5ce43727-c008-4e38-b70d-c90664ce3e35.prj\r\n",
      "geo_export_5ce43727-c008-4e38-b70d-c90664ce3e35.shp\r\n",
      "geo_export_5ce43727-c008-4e38-b70d-c90664ce3e35.shx\r\n",
      "geo_export_8c22df38-dfb2-4121-bc04-de1cde942060.dbf\r\n",
      "geo_export_8c22df38-dfb2-4121-bc04-de1cde942060.prj\r\n",
      "geo_export_8c22df38-dfb2-4121-bc04-de1cde942060.shp\r\n",
      "geo_export_8c22df38-dfb2-4121-bc04-de1cde942060.shx\r\n",
      "geo_export_8e68bda5-edc7-4158-9f47-72c835513f4a.dbf\r\n",
      "geo_export_8e68bda5-edc7-4158-9f47-72c835513f4a.prj\r\n",
      "geo_export_8e68bda5-edc7-4158-9f47-72c835513f4a.shp\r\n",
      "geo_export_8e68bda5-edc7-4158-9f47-72c835513f4a.shx\r\n",
      "geo_export_a54cdef7-a027-4bc6-97ff-a58350ac9e4e.dbf\r\n",
      "geo_export_a54cdef7-a027-4bc6-97ff-a58350ac9e4e.prj\r\n",
      "geo_export_a54cdef7-a027-4bc6-97ff-a58350ac9e4e.shp\r\n",
      "geo_export_a54cdef7-a027-4bc6-97ff-a58350ac9e4e.shx\r\n",
      "geo_export_a819557b-1cc6-4a6a-8f42-2d56720f5582.dbf\r\n",
      "geo_export_a819557b-1cc6-4a6a-8f42-2d56720f5582.prj\r\n",
      "geo_export_a819557b-1cc6-4a6a-8f42-2d56720f5582.shp\r\n",
      "geo_export_a819557b-1cc6-4a6a-8f42-2d56720f5582.shx\r\n",
      "geo_export_b37fdcb2-4a26-42fe-991f-d81624b83d24.dbf\r\n",
      "geo_export_b37fdcb2-4a26-42fe-991f-d81624b83d24.prj\r\n",
      "geo_export_b37fdcb2-4a26-42fe-991f-d81624b83d24.shp\r\n",
      "geo_export_b37fdcb2-4a26-42fe-991f-d81624b83d24.shx\r\n",
      "geo_export_c9db4743-c1d8-4258-ac3f-5de786609898.dbf\r\n",
      "geo_export_c9db4743-c1d8-4258-ac3f-5de786609898.prj\r\n",
      "geo_export_c9db4743-c1d8-4258-ac3f-5de786609898.shp\r\n",
      "geo_export_c9db4743-c1d8-4258-ac3f-5de786609898.shx\r\n",
      "geo_export_d5af7dba-b787-4082-971e-0b346b1d9e7c.dbf\r\n",
      "geo_export_d5af7dba-b787-4082-971e-0b346b1d9e7c.prj\r\n",
      "geo_export_d5af7dba-b787-4082-971e-0b346b1d9e7c.shp\r\n",
      "geo_export_d5af7dba-b787-4082-971e-0b346b1d9e7c.shx\r\n",
      "geo_export_da359aba-a958-46a9-a6aa-964c616ce481.dbf\r\n",
      "geo_export_da359aba-a958-46a9-a6aa-964c616ce481.prj\r\n",
      "geo_export_da359aba-a958-46a9-a6aa-964c616ce481.shp\r\n",
      "geo_export_da359aba-a958-46a9-a6aa-964c616ce481.shx\r\n",
      "geo_export_e6e8e110-5e52-4519-84f7-0ef8ac9d3e63.dbf\r\n",
      "geo_export_e6e8e110-5e52-4519-84f7-0ef8ac9d3e63.prj\r\n",
      "geo_export_e6e8e110-5e52-4519-84f7-0ef8ac9d3e63.shp\r\n",
      "geo_export_e6e8e110-5e52-4519-84f7-0ef8ac9d3e63.shx\r\n",
      "geo_export_ef88dd58-8138-47e8-9ef5-563c513033a3.dbf\r\n",
      "geo_export_ef88dd58-8138-47e8-9ef5-563c513033a3.prj\r\n",
      "geo_export_ef88dd58-8138-47e8-9ef5-563c513033a3.shp\r\n",
      "geo_export_ef88dd58-8138-47e8-9ef5-563c513033a3.shx\r\n",
      "manTrees.csv\r\n",
      "Metadata_Country_API_NY.GDP.MKTP.CD_DS2_en_csv_v2_10203569.csv\r\n",
      "Metadata_Country_API_SP.POP.TOTL_DS2_en_csv_v2_10203548.csv\r\n",
      "Metadata_Indicator_API_NY.GDP.MKTP.CD_DS2_en_csv_v2_10203569.csv\r\n",
      "Metadata_Indicator_API_SP.POP.TOTL_DS2_en_csv_v2_10203548.csv\r\n",
      "Number of mass shootings.csv\r\n",
      "PLUTO_for_WEB\r\n",
      "pluto.zip\r\n",
      "po.csv\r\n",
      "popu.csv\r\n",
      "pumadata.gz\r\n",
      "pumadata.zip\r\n",
      "puma.zip\r\n",
      "treea.csv\r\n",
      "world_gdp.zip\r\n",
      "ZIP_CODE_040114.dbf\r\n",
      "ZIP_CODE_040114.prj\r\n",
      "ZIP_CODE_040114.sbn\r\n",
      "ZIP_CODE_040114.sbx\r\n",
      "ZIP_CODE_040114.shp\r\n",
      "ZIP_CODE_040114.shp.xml\r\n",
      "ZIP_CODE_040114.shx\r\n",
      "zipcodes.zip\r\n"
     ]
    }
   ],
   "source": [
    "!ls $PUIDATA"
   ]
  },
  {
   "cell_type": "code",
   "execution_count": 79,
   "metadata": {},
   "outputs": [],
   "source": [
    "gdp= pd.read_csv(os.getenv(\"PUIDATA\") + \"/\" + 'API_NY.GDP.MKTP.CD_DS2_en_csv_v2_10203569.csv')"
   ]
  },
  {
   "cell_type": "code",
   "execution_count": 80,
   "metadata": {},
   "outputs": [
    {
     "data": {
      "text/html": [
       "<div>\n",
       "<table border=\"1\" class=\"dataframe\">\n",
       "  <thead>\n",
       "    <tr style=\"text-align: right;\">\n",
       "      <th></th>\n",
       "      <th>Country Name</th>\n",
       "      <th>Country Code</th>\n",
       "      <th>Indicator Name</th>\n",
       "      <th>Indicator Code</th>\n",
       "      <th>1960</th>\n",
       "      <th>1961</th>\n",
       "      <th>1962</th>\n",
       "      <th>1963</th>\n",
       "      <th>1964</th>\n",
       "      <th>1965</th>\n",
       "      <th>...</th>\n",
       "      <th>2009</th>\n",
       "      <th>2010</th>\n",
       "      <th>2011</th>\n",
       "      <th>2012</th>\n",
       "      <th>2013</th>\n",
       "      <th>2014</th>\n",
       "      <th>2015</th>\n",
       "      <th>2016</th>\n",
       "      <th>2017</th>\n",
       "      <th>Unnamed: 62</th>\n",
       "    </tr>\n",
       "  </thead>\n",
       "  <tbody>\n",
       "    <tr>\n",
       "      <th>0</th>\n",
       "      <td>Aruba</td>\n",
       "      <td>ABW</td>\n",
       "      <td>GDP (current US$)</td>\n",
       "      <td>NY.GDP.MKTP.CD</td>\n",
       "      <td>NaN</td>\n",
       "      <td>NaN</td>\n",
       "      <td>NaN</td>\n",
       "      <td>NaN</td>\n",
       "      <td>NaN</td>\n",
       "      <td>NaN</td>\n",
       "      <td>...</td>\n",
       "      <td>2.498933e+09</td>\n",
       "      <td>2.467704e+09</td>\n",
       "      <td>2.584464e+09</td>\n",
       "      <td>NaN</td>\n",
       "      <td>NaN</td>\n",
       "      <td>NaN</td>\n",
       "      <td>NaN</td>\n",
       "      <td>NaN</td>\n",
       "      <td>NaN</td>\n",
       "      <td>NaN</td>\n",
       "    </tr>\n",
       "    <tr>\n",
       "      <th>1</th>\n",
       "      <td>Afghanistan</td>\n",
       "      <td>AFG</td>\n",
       "      <td>GDP (current US$)</td>\n",
       "      <td>NY.GDP.MKTP.CD</td>\n",
       "      <td>5.377778e+08</td>\n",
       "      <td>5.488889e+08</td>\n",
       "      <td>5.466667e+08</td>\n",
       "      <td>7.511112e+08</td>\n",
       "      <td>8.000000e+08</td>\n",
       "      <td>1.006667e+09</td>\n",
       "      <td>...</td>\n",
       "      <td>1.248694e+10</td>\n",
       "      <td>1.593680e+10</td>\n",
       "      <td>1.793024e+10</td>\n",
       "      <td>2.053654e+10</td>\n",
       "      <td>2.026425e+10</td>\n",
       "      <td>2.061610e+10</td>\n",
       "      <td>1.921556e+10</td>\n",
       "      <td>1.946902e+10</td>\n",
       "      <td>2.081530e+10</td>\n",
       "      <td>NaN</td>\n",
       "    </tr>\n",
       "    <tr>\n",
       "      <th>2</th>\n",
       "      <td>Angola</td>\n",
       "      <td>AGO</td>\n",
       "      <td>GDP (current US$)</td>\n",
       "      <td>NY.GDP.MKTP.CD</td>\n",
       "      <td>NaN</td>\n",
       "      <td>NaN</td>\n",
       "      <td>NaN</td>\n",
       "      <td>NaN</td>\n",
       "      <td>NaN</td>\n",
       "      <td>NaN</td>\n",
       "      <td>...</td>\n",
       "      <td>7.549239e+10</td>\n",
       "      <td>8.252614e+10</td>\n",
       "      <td>1.041158e+11</td>\n",
       "      <td>1.139232e+11</td>\n",
       "      <td>1.249125e+11</td>\n",
       "      <td>1.267302e+11</td>\n",
       "      <td>1.026212e+11</td>\n",
       "      <td>9.533720e+10</td>\n",
       "      <td>1.242094e+11</td>\n",
       "      <td>NaN</td>\n",
       "    </tr>\n",
       "    <tr>\n",
       "      <th>3</th>\n",
       "      <td>Albania</td>\n",
       "      <td>ALB</td>\n",
       "      <td>GDP (current US$)</td>\n",
       "      <td>NY.GDP.MKTP.CD</td>\n",
       "      <td>NaN</td>\n",
       "      <td>NaN</td>\n",
       "      <td>NaN</td>\n",
       "      <td>NaN</td>\n",
       "      <td>NaN</td>\n",
       "      <td>NaN</td>\n",
       "      <td>...</td>\n",
       "      <td>1.204421e+10</td>\n",
       "      <td>1.192695e+10</td>\n",
       "      <td>1.289087e+10</td>\n",
       "      <td>1.231978e+10</td>\n",
       "      <td>1.277628e+10</td>\n",
       "      <td>1.322824e+10</td>\n",
       "      <td>1.138693e+10</td>\n",
       "      <td>1.188368e+10</td>\n",
       "      <td>1.303935e+10</td>\n",
       "      <td>NaN</td>\n",
       "    </tr>\n",
       "    <tr>\n",
       "      <th>4</th>\n",
       "      <td>Andorra</td>\n",
       "      <td>AND</td>\n",
       "      <td>GDP (current US$)</td>\n",
       "      <td>NY.GDP.MKTP.CD</td>\n",
       "      <td>NaN</td>\n",
       "      <td>NaN</td>\n",
       "      <td>NaN</td>\n",
       "      <td>NaN</td>\n",
       "      <td>NaN</td>\n",
       "      <td>NaN</td>\n",
       "      <td>...</td>\n",
       "      <td>3.660531e+09</td>\n",
       "      <td>3.355695e+09</td>\n",
       "      <td>3.442063e+09</td>\n",
       "      <td>3.164615e+09</td>\n",
       "      <td>3.281585e+09</td>\n",
       "      <td>3.350736e+09</td>\n",
       "      <td>2.811489e+09</td>\n",
       "      <td>2.877312e+09</td>\n",
       "      <td>3.012914e+09</td>\n",
       "      <td>NaN</td>\n",
       "    </tr>\n",
       "  </tbody>\n",
       "</table>\n",
       "<p>5 rows × 63 columns</p>\n",
       "</div>"
      ],
      "text/plain": [
       "  Country Name Country Code     Indicator Name  Indicator Code          1960  \\\n",
       "0        Aruba          ABW  GDP (current US$)  NY.GDP.MKTP.CD           NaN   \n",
       "1  Afghanistan          AFG  GDP (current US$)  NY.GDP.MKTP.CD  5.377778e+08   \n",
       "2       Angola          AGO  GDP (current US$)  NY.GDP.MKTP.CD           NaN   \n",
       "3      Albania          ALB  GDP (current US$)  NY.GDP.MKTP.CD           NaN   \n",
       "4      Andorra          AND  GDP (current US$)  NY.GDP.MKTP.CD           NaN   \n",
       "\n",
       "           1961          1962          1963          1964          1965  \\\n",
       "0           NaN           NaN           NaN           NaN           NaN   \n",
       "1  5.488889e+08  5.466667e+08  7.511112e+08  8.000000e+08  1.006667e+09   \n",
       "2           NaN           NaN           NaN           NaN           NaN   \n",
       "3           NaN           NaN           NaN           NaN           NaN   \n",
       "4           NaN           NaN           NaN           NaN           NaN   \n",
       "\n",
       "      ...               2009          2010          2011          2012  \\\n",
       "0     ...       2.498933e+09  2.467704e+09  2.584464e+09           NaN   \n",
       "1     ...       1.248694e+10  1.593680e+10  1.793024e+10  2.053654e+10   \n",
       "2     ...       7.549239e+10  8.252614e+10  1.041158e+11  1.139232e+11   \n",
       "3     ...       1.204421e+10  1.192695e+10  1.289087e+10  1.231978e+10   \n",
       "4     ...       3.660531e+09  3.355695e+09  3.442063e+09  3.164615e+09   \n",
       "\n",
       "           2013          2014          2015          2016          2017  \\\n",
       "0           NaN           NaN           NaN           NaN           NaN   \n",
       "1  2.026425e+10  2.061610e+10  1.921556e+10  1.946902e+10  2.081530e+10   \n",
       "2  1.249125e+11  1.267302e+11  1.026212e+11  9.533720e+10  1.242094e+11   \n",
       "3  1.277628e+10  1.322824e+10  1.138693e+10  1.188368e+10  1.303935e+10   \n",
       "4  3.281585e+09  3.350736e+09  2.811489e+09  2.877312e+09  3.012914e+09   \n",
       "\n",
       "   Unnamed: 62  \n",
       "0          NaN  \n",
       "1          NaN  \n",
       "2          NaN  \n",
       "3          NaN  \n",
       "4          NaN  \n",
       "\n",
       "[5 rows x 63 columns]"
      ]
     },
     "execution_count": 80,
     "metadata": {},
     "output_type": "execute_result"
    }
   ],
   "source": [
    "gdp.head()"
   ]
  },
  {
   "cell_type": "code",
   "execution_count": 66,
   "metadata": {},
   "outputs": [
    {
     "data": {
      "text/plain": [
       "Index([u'Country/Territory', u'ISO code', u'Source',\n",
       "       u'% of homicides by firearm', u'Number of homicides by firearm',\n",
       "       u'Homicide by firearm rate per 100,000 pop',\n",
       "       u'Rank by rate of ownership', u'Average firearms per 100 people',\n",
       "       u'Average total all civilian firearms'],\n",
       "      dtype='object')"
      ]
     },
     "execution_count": 66,
     "metadata": {},
     "output_type": "execute_result"
    }
   ],
   "source": [
    "w.columns"
   ]
  },
  {
   "cell_type": "code",
   "execution_count": 67,
   "metadata": {},
   "outputs": [
    {
     "data": {
      "text/plain": [
       "Index([u'Country', u'Guns per 100 inhabitants',\n",
       "       u'Number of mass shootings (1983-2013)'],\n",
       "      dtype='object')"
      ]
     },
     "execution_count": 67,
     "metadata": {},
     "output_type": "execute_result"
    }
   ],
   "source": [
    "ms.columns"
   ]
  },
  {
   "cell_type": "code",
   "execution_count": 115,
   "metadata": {},
   "outputs": [
    {
     "data": {
      "text/html": [
       "<div>\n",
       "<table border=\"1\" class=\"dataframe\">\n",
       "  <thead>\n",
       "    <tr style=\"text-align: right;\">\n",
       "      <th></th>\n",
       "      <th>Country</th>\n",
       "      <th>Guns per 100 inhabitants</th>\n",
       "      <th>Number of mass shootings (1983-2013)</th>\n",
       "    </tr>\n",
       "  </thead>\n",
       "  <tbody>\n",
       "    <tr>\n",
       "      <th>0</th>\n",
       "      <td>Australia</td>\n",
       "      <td>15.0</td>\n",
       "      <td>4</td>\n",
       "    </tr>\n",
       "    <tr>\n",
       "      <th>1</th>\n",
       "      <td>Austria</td>\n",
       "      <td>30.4</td>\n",
       "      <td>1</td>\n",
       "    </tr>\n",
       "    <tr>\n",
       "      <th>2</th>\n",
       "      <td>Belgium</td>\n",
       "      <td>17.2</td>\n",
       "      <td>2</td>\n",
       "    </tr>\n",
       "    <tr>\n",
       "      <th>3</th>\n",
       "      <td>Canada</td>\n",
       "      <td>30.8</td>\n",
       "      <td>4</td>\n",
       "    </tr>\n",
       "    <tr>\n",
       "      <th>4</th>\n",
       "      <td>Denmark</td>\n",
       "      <td>12.0</td>\n",
       "      <td>0</td>\n",
       "    </tr>\n",
       "  </tbody>\n",
       "</table>\n",
       "</div>"
      ],
      "text/plain": [
       "     Country  Guns per 100 inhabitants  Number of mass shootings (1983-2013)\n",
       "0  Australia                      15.0                                     4\n",
       "1    Austria                      30.4                                     1\n",
       "2    Belgium                      17.2                                     2\n",
       "3     Canada                      30.8                                     4\n",
       "4    Denmark                      12.0                                     0"
      ]
     },
     "execution_count": 115,
     "metadata": {},
     "output_type": "execute_result"
    }
   ],
   "source": [
    "ms.head()"
   ]
  },
  {
   "cell_type": "code",
   "execution_count": 68,
   "metadata": {},
   "outputs": [
    {
     "data": {
      "text/plain": [
       "Index([u'Country Name', u'Country Code', u'Indicator Name', u'Indicator Code',\n",
       "       u'1960', u'1961', u'1962', u'1963', u'1964', u'1965', u'1966', u'1967',\n",
       "       u'1968', u'1969', u'1970', u'1971', u'1972', u'1973', u'1974', u'1975',\n",
       "       u'1976', u'1977', u'1978', u'1979', u'1980', u'1981', u'1982', u'1983',\n",
       "       u'1984', u'1985', u'1986', u'1987', u'1988', u'1989', u'1990', u'1991',\n",
       "       u'1992', u'1993', u'1994', u'1995', u'1996', u'1997', u'1998', u'1999',\n",
       "       u'2000', u'2001', u'2002', u'2003', u'2004', u'2005', u'2006', u'2007',\n",
       "       u'2008', u'2009', u'2010', u'2011', u'2012', u'2013', u'2014', u'2015',\n",
       "       u'2016', u'2017', u'Unnamed: 62'],\n",
       "      dtype='object')"
      ]
     },
     "execution_count": 68,
     "metadata": {},
     "output_type": "execute_result"
    }
   ],
   "source": [
    "po.columns"
   ]
  },
  {
   "cell_type": "code",
   "execution_count": 81,
   "metadata": {},
   "outputs": [
    {
     "data": {
      "text/plain": [
       "Index([u'Country Name', u'Country Code', u'Indicator Name', u'Indicator Code',\n",
       "       u'1960', u'1961', u'1962', u'1963', u'1964', u'1965', u'1966', u'1967',\n",
       "       u'1968', u'1969', u'1970', u'1971', u'1972', u'1973', u'1974', u'1975',\n",
       "       u'1976', u'1977', u'1978', u'1979', u'1980', u'1981', u'1982', u'1983',\n",
       "       u'1984', u'1985', u'1986', u'1987', u'1988', u'1989', u'1990', u'1991',\n",
       "       u'1992', u'1993', u'1994', u'1995', u'1996', u'1997', u'1998', u'1999',\n",
       "       u'2000', u'2001', u'2002', u'2003', u'2004', u'2005', u'2006', u'2007',\n",
       "       u'2008', u'2009', u'2010', u'2011', u'2012', u'2013', u'2014', u'2015',\n",
       "       u'2016', u'2017', u'Unnamed: 62'],\n",
       "      dtype='object')"
      ]
     },
     "execution_count": 81,
     "metadata": {},
     "output_type": "execute_result"
    }
   ],
   "source": [
    "gdp.columns"
   ]
  },
  {
   "cell_type": "code",
   "execution_count": 93,
   "metadata": {},
   "outputs": [],
   "source": [
    "w = w.drop(labels= [u'ISO code', u'Source',\n",
    "       u'% of homicides by firearm',\n",
    "       u'Homicide by firearm rate per 100,000 pop',\n",
    "       u'Rank by rate of ownership', u'Average firearms per 100 people'], axis=1)"
   ]
  },
  {
   "cell_type": "code",
   "execution_count": 108,
   "metadata": {},
   "outputs": [],
   "source": [
    "w.rename(columns={'Country/Territory':'Country Name'},inplace=True)"
   ]
  },
  {
   "cell_type": "code",
   "execution_count": 109,
   "metadata": {},
   "outputs": [
    {
     "data": {
      "text/html": [
       "<div>\n",
       "<table border=\"1\" class=\"dataframe\">\n",
       "  <thead>\n",
       "    <tr style=\"text-align: right;\">\n",
       "      <th></th>\n",
       "      <th>Country Name</th>\n",
       "      <th>Number of homicides by firearm</th>\n",
       "      <th>Average total all civilian firearms</th>\n",
       "    </tr>\n",
       "  </thead>\n",
       "  <tbody>\n",
       "    <tr>\n",
       "      <th>0</th>\n",
       "      <td>Albania</td>\n",
       "      <td>56.0</td>\n",
       "      <td>270000.0</td>\n",
       "    </tr>\n",
       "    <tr>\n",
       "      <th>1</th>\n",
       "      <td>Algeria</td>\n",
       "      <td>20.0</td>\n",
       "      <td>1900000.0</td>\n",
       "    </tr>\n",
       "    <tr>\n",
       "      <th>2</th>\n",
       "      <td>Angola</td>\n",
       "      <td>NaN</td>\n",
       "      <td>2800000.0</td>\n",
       "    </tr>\n",
       "    <tr>\n",
       "      <th>3</th>\n",
       "      <td>Anguilla</td>\n",
       "      <td>1.0</td>\n",
       "      <td>NaN</td>\n",
       "    </tr>\n",
       "    <tr>\n",
       "      <th>4</th>\n",
       "      <td>Argentina</td>\n",
       "      <td>1198.0</td>\n",
       "      <td>3950000.0</td>\n",
       "    </tr>\n",
       "  </tbody>\n",
       "</table>\n",
       "</div>"
      ],
      "text/plain": [
       "  Country Name  Number of homicides by firearm  \\\n",
       "0      Albania                            56.0   \n",
       "1      Algeria                            20.0   \n",
       "2       Angola                             NaN   \n",
       "3     Anguilla                             1.0   \n",
       "4    Argentina                          1198.0   \n",
       "\n",
       "   Average total all civilian firearms  \n",
       "0                             270000.0  \n",
       "1                            1900000.0  \n",
       "2                            2800000.0  \n",
       "3                                  NaN  \n",
       "4                            3950000.0  "
      ]
     },
     "execution_count": 109,
     "metadata": {},
     "output_type": "execute_result"
    }
   ],
   "source": [
    "w.head()"
   ]
  },
  {
   "cell_type": "code",
   "execution_count": 99,
   "metadata": {},
   "outputs": [],
   "source": [
    "po = po.drop(labels=['Country Code', 'Indicator Name', 'Indicator Code',\n",
    "       '1960', '1961', '1962', '1963', '1964', '1965', '1966', '1967', '1968',\n",
    "       '1969', '1970', '1971', '1972', '1973', '1974', '1975', '1976', '1977',\n",
    "       '1978', '1979', '1980', '1981', '1982', '1983', '1984', '1985', '1986',\n",
    "       '1987', '1988', '1989', '1990', '1991', '1992', '1993', '1994', '1995',\n",
    "       '1996', '1997', '1998', '1999', '2000', '2001', '2002', '2003', '2004',\n",
    "       '2005', '2006', '2007', '2008', '2009', '2010', '2011',  '2013',\n",
    "       '2014', '2015', '2016', '2017', 'Unnamed: 62'], axis=1)"
   ]
  },
  {
   "cell_type": "code",
   "execution_count": 100,
   "metadata": {},
   "outputs": [],
   "source": [
    "po.rename(columns={'2012':'pop'},inplace=True)"
   ]
  },
  {
   "cell_type": "code",
   "execution_count": 101,
   "metadata": {},
   "outputs": [
    {
     "data": {
      "text/html": [
       "<div>\n",
       "<table border=\"1\" class=\"dataframe\">\n",
       "  <thead>\n",
       "    <tr style=\"text-align: right;\">\n",
       "      <th></th>\n",
       "      <th>Country Name</th>\n",
       "      <th>pop</th>\n",
       "    </tr>\n",
       "  </thead>\n",
       "  <tbody>\n",
       "    <tr>\n",
       "      <th>0</th>\n",
       "      <td>Aruba</td>\n",
       "      <td>102577.0</td>\n",
       "    </tr>\n",
       "    <tr>\n",
       "      <th>1</th>\n",
       "      <td>Afghanistan</td>\n",
       "      <td>30696958.0</td>\n",
       "    </tr>\n",
       "    <tr>\n",
       "      <th>2</th>\n",
       "      <td>Angola</td>\n",
       "      <td>25096150.0</td>\n",
       "    </tr>\n",
       "    <tr>\n",
       "      <th>3</th>\n",
       "      <td>Albania</td>\n",
       "      <td>2900401.0</td>\n",
       "    </tr>\n",
       "    <tr>\n",
       "      <th>4</th>\n",
       "      <td>Andorra</td>\n",
       "      <td>82431.0</td>\n",
       "    </tr>\n",
       "  </tbody>\n",
       "</table>\n",
       "</div>"
      ],
      "text/plain": [
       "  Country Name         pop\n",
       "0        Aruba    102577.0\n",
       "1  Afghanistan  30696958.0\n",
       "2       Angola  25096150.0\n",
       "3      Albania   2900401.0\n",
       "4      Andorra     82431.0"
      ]
     },
     "execution_count": 101,
     "metadata": {},
     "output_type": "execute_result"
    }
   ],
   "source": [
    "po.head()"
   ]
  },
  {
   "cell_type": "code",
   "execution_count": 85,
   "metadata": {},
   "outputs": [],
   "source": [
    "gdp = gdp.drop(labels=['Country Code', 'Indicator Name', 'Indicator Code',\n",
    "       '1960', '1961', '1962', '1963', '1964', '1965', '1966', '1967', '1968',\n",
    "       '1969', '1970', '1971', '1972', '1973', '1974', '1975', '1976', '1977',\n",
    "       '1978', '1979', '1980', '1981', '1982', '1983', '1984', '1985', '1986',\n",
    "       '1987', '1988', '1989', '1990', '1991', '1992', '1993', '1994', '1995',\n",
    "       '1996', '1997', '1998', '1999', '2000', '2001', '2002', '2003', '2004',\n",
    "       '2005', '2006', '2007', '2008', '2009', '2010', '2011',  '2013',\n",
    "       '2014', '2015', '2016', '2017', 'Unnamed: 62'], axis=1)"
   ]
  },
  {
   "cell_type": "code",
   "execution_count": 87,
   "metadata": {},
   "outputs": [],
   "source": [
    "gdp.rename(columns={'2012':'gdp'},inplace=True)"
   ]
  },
  {
   "cell_type": "code",
   "execution_count": 102,
   "metadata": {},
   "outputs": [
    {
     "data": {
      "text/html": [
       "<div>\n",
       "<table border=\"1\" class=\"dataframe\">\n",
       "  <thead>\n",
       "    <tr style=\"text-align: right;\">\n",
       "      <th></th>\n",
       "      <th>Country Name</th>\n",
       "      <th>gdp</th>\n",
       "    </tr>\n",
       "  </thead>\n",
       "  <tbody>\n",
       "    <tr>\n",
       "      <th>0</th>\n",
       "      <td>Aruba</td>\n",
       "      <td>NaN</td>\n",
       "    </tr>\n",
       "    <tr>\n",
       "      <th>1</th>\n",
       "      <td>Afghanistan</td>\n",
       "      <td>2.053654e+10</td>\n",
       "    </tr>\n",
       "    <tr>\n",
       "      <th>2</th>\n",
       "      <td>Angola</td>\n",
       "      <td>1.139232e+11</td>\n",
       "    </tr>\n",
       "    <tr>\n",
       "      <th>3</th>\n",
       "      <td>Albania</td>\n",
       "      <td>1.231978e+10</td>\n",
       "    </tr>\n",
       "    <tr>\n",
       "      <th>4</th>\n",
       "      <td>Andorra</td>\n",
       "      <td>3.164615e+09</td>\n",
       "    </tr>\n",
       "  </tbody>\n",
       "</table>\n",
       "</div>"
      ],
      "text/plain": [
       "  Country Name           gdp\n",
       "0        Aruba           NaN\n",
       "1  Afghanistan  2.053654e+10\n",
       "2       Angola  1.139232e+11\n",
       "3      Albania  1.231978e+10\n",
       "4      Andorra  3.164615e+09"
      ]
     },
     "execution_count": 102,
     "metadata": {},
     "output_type": "execute_result"
    }
   ],
   "source": [
    "gdp.head()"
   ]
  },
  {
   "cell_type": "code",
   "execution_count": 103,
   "metadata": {},
   "outputs": [],
   "source": [
    "gdppo = pd.merge(po, gdp, how='inner', on='Country Name')"
   ]
  },
  {
   "cell_type": "code",
   "execution_count": 104,
   "metadata": {},
   "outputs": [
    {
     "data": {
      "text/html": [
       "<div>\n",
       "<table border=\"1\" class=\"dataframe\">\n",
       "  <thead>\n",
       "    <tr style=\"text-align: right;\">\n",
       "      <th></th>\n",
       "      <th>Country Name</th>\n",
       "      <th>pop</th>\n",
       "      <th>gdp</th>\n",
       "    </tr>\n",
       "  </thead>\n",
       "  <tbody>\n",
       "    <tr>\n",
       "      <th>0</th>\n",
       "      <td>Aruba</td>\n",
       "      <td>102577.0</td>\n",
       "      <td>NaN</td>\n",
       "    </tr>\n",
       "    <tr>\n",
       "      <th>1</th>\n",
       "      <td>Afghanistan</td>\n",
       "      <td>30696958.0</td>\n",
       "      <td>2.053654e+10</td>\n",
       "    </tr>\n",
       "    <tr>\n",
       "      <th>2</th>\n",
       "      <td>Angola</td>\n",
       "      <td>25096150.0</td>\n",
       "      <td>1.139232e+11</td>\n",
       "    </tr>\n",
       "    <tr>\n",
       "      <th>3</th>\n",
       "      <td>Albania</td>\n",
       "      <td>2900401.0</td>\n",
       "      <td>1.231978e+10</td>\n",
       "    </tr>\n",
       "    <tr>\n",
       "      <th>4</th>\n",
       "      <td>Andorra</td>\n",
       "      <td>82431.0</td>\n",
       "      <td>3.164615e+09</td>\n",
       "    </tr>\n",
       "  </tbody>\n",
       "</table>\n",
       "</div>"
      ],
      "text/plain": [
       "  Country Name         pop           gdp\n",
       "0        Aruba    102577.0           NaN\n",
       "1  Afghanistan  30696958.0  2.053654e+10\n",
       "2       Angola  25096150.0  1.139232e+11\n",
       "3      Albania   2900401.0  1.231978e+10\n",
       "4      Andorra     82431.0  3.164615e+09"
      ]
     },
     "execution_count": 104,
     "metadata": {},
     "output_type": "execute_result"
    }
   ],
   "source": [
    "gdppo.head()"
   ]
  },
  {
   "cell_type": "code",
   "execution_count": 110,
   "metadata": {},
   "outputs": [],
   "source": [
    "gdppow = pd.merge(gdppo,w, how='inner', on='Country Name')"
   ]
  },
  {
   "cell_type": "code",
   "execution_count": 111,
   "metadata": {},
   "outputs": [
    {
     "data": {
      "text/html": [
       "<div>\n",
       "<table border=\"1\" class=\"dataframe\">\n",
       "  <thead>\n",
       "    <tr style=\"text-align: right;\">\n",
       "      <th></th>\n",
       "      <th>Country Name</th>\n",
       "      <th>pop</th>\n",
       "      <th>gdp</th>\n",
       "      <th>Number of homicides by firearm</th>\n",
       "      <th>Average total all civilian firearms</th>\n",
       "    </tr>\n",
       "  </thead>\n",
       "  <tbody>\n",
       "    <tr>\n",
       "      <th>0</th>\n",
       "      <td>Angola</td>\n",
       "      <td>25096150.0</td>\n",
       "      <td>1.139232e+11</td>\n",
       "      <td>NaN</td>\n",
       "      <td>2800000.0</td>\n",
       "    </tr>\n",
       "    <tr>\n",
       "      <th>1</th>\n",
       "      <td>Albania</td>\n",
       "      <td>2900401.0</td>\n",
       "      <td>1.231978e+10</td>\n",
       "      <td>56.0</td>\n",
       "      <td>270000.0</td>\n",
       "    </tr>\n",
       "    <tr>\n",
       "      <th>2</th>\n",
       "      <td>United Arab Emirates</td>\n",
       "      <td>8900453.0</td>\n",
       "      <td>3.745906e+11</td>\n",
       "      <td>NaN</td>\n",
       "      <td>1000000.0</td>\n",
       "    </tr>\n",
       "    <tr>\n",
       "      <th>3</th>\n",
       "      <td>Argentina</td>\n",
       "      <td>42096739.0</td>\n",
       "      <td>5.459824e+11</td>\n",
       "      <td>1198.0</td>\n",
       "      <td>3950000.0</td>\n",
       "    </tr>\n",
       "    <tr>\n",
       "      <th>4</th>\n",
       "      <td>Armenia</td>\n",
       "      <td>2881922.0</td>\n",
       "      <td>1.061932e+10</td>\n",
       "      <td>9.0</td>\n",
       "      <td>380000.0</td>\n",
       "    </tr>\n",
       "  </tbody>\n",
       "</table>\n",
       "</div>"
      ],
      "text/plain": [
       "           Country Name         pop           gdp  \\\n",
       "0                Angola  25096150.0  1.139232e+11   \n",
       "1               Albania   2900401.0  1.231978e+10   \n",
       "2  United Arab Emirates   8900453.0  3.745906e+11   \n",
       "3             Argentina  42096739.0  5.459824e+11   \n",
       "4               Armenia   2881922.0  1.061932e+10   \n",
       "\n",
       "   Number of homicides by firearm  Average total all civilian firearms  \n",
       "0                             NaN                            2800000.0  \n",
       "1                            56.0                             270000.0  \n",
       "2                             NaN                            1000000.0  \n",
       "3                          1198.0                            3950000.0  \n",
       "4                             9.0                             380000.0  "
      ]
     },
     "execution_count": 111,
     "metadata": {},
     "output_type": "execute_result"
    }
   ],
   "source": [
    "gdppow.head()"
   ]
  },
  {
   "cell_type": "code",
   "execution_count": 116,
   "metadata": {
    "ExecuteTime": {
     "end_time": "2017-10-12T11:18:40.575581",
     "start_time": "2017-10-12T11:18:40.446116"
    },
    "run_control": {
     "frozen": false,
     "read_only": false
    }
   },
   "outputs": [
    {
     "data": {
      "text/html": [
       "<div>\n",
       "<table border=\"1\" class=\"dataframe\">\n",
       "  <thead>\n",
       "    <tr style=\"text-align: right;\">\n",
       "      <th></th>\n",
       "      <th>Country Name</th>\n",
       "      <th>pop</th>\n",
       "      <th>gdp</th>\n",
       "      <th>Number of homicides by firearm</th>\n",
       "      <th>Average total all civilian firearms</th>\n",
       "      <th>Country</th>\n",
       "      <th>Guns per 100 inhabitants</th>\n",
       "      <th>Number of mass shootings (1983-2013)</th>\n",
       "    </tr>\n",
       "  </thead>\n",
       "  <tbody>\n",
       "    <tr>\n",
       "      <th>0</th>\n",
       "      <td>Australia</td>\n",
       "      <td>22742475.0</td>\n",
       "      <td>1.543411e+12</td>\n",
       "      <td>30.0</td>\n",
       "      <td>3050000.0</td>\n",
       "      <td>Australia</td>\n",
       "      <td>15.0</td>\n",
       "      <td>4</td>\n",
       "    </tr>\n",
       "    <tr>\n",
       "      <th>1</th>\n",
       "      <td>Austria</td>\n",
       "      <td>8429991.0</td>\n",
       "      <td>4.094252e+11</td>\n",
       "      <td>18.0</td>\n",
       "      <td>2500000.0</td>\n",
       "      <td>Austria</td>\n",
       "      <td>30.4</td>\n",
       "      <td>1</td>\n",
       "    </tr>\n",
       "    <tr>\n",
       "      <th>2</th>\n",
       "      <td>Belgium</td>\n",
       "      <td>11128246.0</td>\n",
       "      <td>4.978842e+11</td>\n",
       "      <td>70.0</td>\n",
       "      <td>1800000.0</td>\n",
       "      <td>Belgium</td>\n",
       "      <td>17.2</td>\n",
       "      <td>2</td>\n",
       "    </tr>\n",
       "    <tr>\n",
       "      <th>3</th>\n",
       "      <td>Canada</td>\n",
       "      <td>34750545.0</td>\n",
       "      <td>1.824289e+12</td>\n",
       "      <td>173.0</td>\n",
       "      <td>9950000.0</td>\n",
       "      <td>Canada</td>\n",
       "      <td>30.8</td>\n",
       "      <td>4</td>\n",
       "    </tr>\n",
       "    <tr>\n",
       "      <th>4</th>\n",
       "      <td>Switzerland</td>\n",
       "      <td>7996861.0</td>\n",
       "      <td>6.680436e+11</td>\n",
       "      <td>57.0</td>\n",
       "      <td>3400000.0</td>\n",
       "      <td>Switzerland</td>\n",
       "      <td>45.7</td>\n",
       "      <td>2</td>\n",
       "    </tr>\n",
       "  </tbody>\n",
       "</table>\n",
       "</div>"
      ],
      "text/plain": [
       "  Country Name         pop           gdp  Number of homicides by firearm  \\\n",
       "0    Australia  22742475.0  1.543411e+12                            30.0   \n",
       "1      Austria   8429991.0  4.094252e+11                            18.0   \n",
       "2      Belgium  11128246.0  4.978842e+11                            70.0   \n",
       "3       Canada  34750545.0  1.824289e+12                           173.0   \n",
       "4  Switzerland   7996861.0  6.680436e+11                            57.0   \n",
       "\n",
       "   Average total all civilian firearms      Country  Guns per 100 inhabitants  \\\n",
       "0                            3050000.0    Australia                      15.0   \n",
       "1                            2500000.0      Austria                      30.4   \n",
       "2                            1800000.0      Belgium                      17.2   \n",
       "3                            9950000.0       Canada                      30.8   \n",
       "4                            3400000.0  Switzerland                      45.7   \n",
       "\n",
       "   Number of mass shootings (1983-2013)  \n",
       "0                                     4  \n",
       "1                                     1  \n",
       "2                                     2  \n",
       "3                                     4  \n",
       "4                                     2  "
      ]
     },
     "execution_count": 116,
     "metadata": {},
     "output_type": "execute_result"
    }
   ],
   "source": [
    "df_= pd.merge(gdppow, ms, right_on=\"Country\", left_on=\"Country Name\")\n",
    "df_.head()"
   ]
  },
  {
   "cell_type": "code",
   "execution_count": 123,
   "metadata": {},
   "outputs": [],
   "source": [
    "df_.rename(columns={'Number of mass shootings (1983-2013)':'Number of mass shootings'},inplace=True)"
   ]
  },
  {
   "cell_type": "markdown",
   "metadata": {
    "run_control": {
     "frozen": false,
     "read_only": false
    }
   },
   "source": [
    "# exploration\n",
    "\n",
    "## plot mass shooting vs gdp in absolute numbers, and per person. Show the errorbars (y errors)\n",
    "\n",
    "Use Poisson statistics for the errorbars on the number of mass shootings (optional: include errors on the population, also as Poisson statistics)\n",
    "\n",
    "Are there any points that look like they may be outilers?\n"
   ]
  },
  {
   "cell_type": "code",
   "execution_count": 137,
   "metadata": {
    "ExecuteTime": {
     "end_time": "2017-10-12T11:24:38.210994",
     "start_time": "2017-10-12T11:24:37.927232"
    },
    "run_control": {
     "frozen": false,
     "read_only": false
    }
   },
   "outputs": [
    {
     "data": {
      "image/png": "[encoded data removed]",
      "text/plain": [
       "<matplotlib.figure.Figure at 0x7fac4d60dad0>"
      ]
     },
     "metadata": {},
     "output_type": "display_data"
    },
    {
     "name": "stdout",
     "output_type": "stream",
     "text": [
      "Number of mass shooting vs GDP, errors represent Poisson statistics.\n",
      "The datapoint to the top right of the plot is the USA, which has noth the highest GDP and the highest number of mass shootings\n"
     ]
    }
   ],
   "source": [
    "# plot mass shooting vs gdp in absolute numbers\n",
    "fig = pl.figure(figsize=(10,5)) \n",
    "ax = fig.add_subplot(111)\n",
    "\n",
    "scatter = ax.scatter(df_.gdp / 1e9, df_['Number of mass shootings'])\n",
    "ax.errorbar(df_.gdp / 1e9, df_['Number of mass shootings'], \n",
    "            yerr = np.sqrt(df_['Number of mass shootings'] * 1.0), fmt = '.')\n",
    "ax.set_xlabel(\"GDP (in billions)\")\n",
    "ax.set_ylabel(\"Number of mass shooting per person\")\n",
    "ax.set_ylim()\n",
    "pl.show()\n",
    "print (\"Number of mass shooting vs GDP, \" + \n",
    "       \"errors represent Poisson statistics.\\n\" + \n",
    "       \"The datapoint to the top right of the plot is the USA, \" + \n",
    "       \"which has noth the highest GDP and the highest number of mass shootings\")\n"
   ]
  },
  {
   "cell_type": "code",
   "execution_count": 264,
   "metadata": {},
   "outputs": [
    {
     "data": {
      "image/png": "[encoded data removed]",
      "text/plain": [
       "<matplotlib.figure.Figure at 0x7fac4d986a10>"
      ]
     },
     "metadata": {},
     "output_type": "display_data"
    },
    {
     "name": "stdout",
     "output_type": "stream",
     "text": [
      "Number of mass shooting vs GDP in per person, errors represent Poisson statistics.\n",
      "\n"
     ]
    }
   ],
   "source": [
    "# plot mass shooting vs gdp in per person\n",
    "fig = pl.figure(figsize=(10,5)) \n",
    "ax = fig.add_subplot(111)\n",
    "\n",
    "scatter = ax.scatter(df_[\"gdp\"] / df_[\"pop\"]*1e3, df_['Number of mass shootings'])\n",
    "ax.errorbar(df_[\"gdp\"] / df_[\"pop\"]*1e3, df_['Number of mass shootings'], \n",
    "            yerr = np.sqrt(df_['Number of mass shootings'] * 1.0), fmt = '.')\n",
    "ax.set_xlabel(\"GDP (in person)\")\n",
    "ax.set_ylabel(\"Number of mass shooting per person\")\n",
    "ax.set_ylim()\n",
    "pl.show()\n",
    "print (\"Number of mass shooting vs GDP in per person, \" + \n",
    "       \"errors represent Poisson statistics.\\n\" )"
   ]
  },
  {
   "cell_type": "markdown",
   "metadata": {
    "run_control": {
     "frozen": false,
     "read_only": false
    }
   },
   "source": [
    "## plot the average number of civilian fire arms per person\n",
    "first without errors, then with errors. are there  points that look like outliers?"
   ]
  },
  {
   "cell_type": "code",
   "execution_count": 141,
   "metadata": {
    "ExecuteTime": {
     "end_time": "2017-10-12T07:17:52.778486",
     "start_time": "2017-10-12T07:17:52.768299"
    },
    "run_control": {
     "frozen": false,
     "read_only": false
    }
   },
   "outputs": [],
   "source": [
    "df_['firearm'] = df_[\"Average total all civilian firearms\"] / df_['pop'] * 1e3"
   ]
  },
  {
   "cell_type": "code",
   "execution_count": 262,
   "metadata": {},
   "outputs": [
    {
     "data": {
      "image/png": "[encoded data removed]",
      "text/plain": [
       "<matplotlib.figure.Figure at 0x7fac4cbf5f50>"
      ]
     },
     "metadata": {},
     "output_type": "display_data"
    },
    {
     "name": "stdout",
     "output_type": "stream",
     "text": [
      "average number of civilian fire arms per person vs GDP, errors represent Poisson statistics.\n",
      "The datapoint to the top right of the plot is the USA, which has noth the highest GDP and the highest Average number of civilian fire arms per person\n"
     ]
    }
   ],
   "source": [
    "# Without error\n",
    "fig = pl.figure(figsize=(10,5)) \n",
    "ax = fig.add_subplot(111)\n",
    "\n",
    "scatter = ax.scatter(df_['gdp'],df_['firearm'])\n",
    "\n",
    "ax.set_xlabel(\"GDP (in billions)\")\n",
    "ax.set_ylabel(\"Average number of civilian fire arms per person\")\n",
    "ax.set_ylim()\n",
    "pl.show()\n",
    "print (\"average number of civilian fire arms per person vs GDP, \" + \n",
    "       \"errors represent Poisson statistics.\\n\" + \n",
    "       \"The datapoint to the top right of the plot is the USA, \" + \n",
    "       \"which has noth the highest GDP and the highest Average number of civilian fire arms per person\")"
   ]
  },
  {
   "cell_type": "code",
   "execution_count": null,
   "metadata": {},
   "outputs": [],
   "source": [
    "# with errors"
   ]
  },
  {
   "cell_type": "code",
   "execution_count": 143,
   "metadata": {},
   "outputs": [
    {
     "data": {
      "image/png": "[encoded data removed]",
      "text/plain": [
       "<matplotlib.figure.Figure at 0x7fac4dbf6bd0>"
      ]
     },
     "metadata": {},
     "output_type": "display_data"
    },
    {
     "name": "stdout",
     "output_type": "stream",
     "text": [
      "average number of civilian fire arms per person vs GDP, errors represent Poisson statistics.\n",
      "The datapoint to the top right of the plot is the USA, which has noth the highest GDP and the highest number of mass shootings\n"
     ]
    }
   ],
   "source": [
    "fig = pl.figure(figsize=(10,5)) \n",
    "ax = fig.add_subplot(111)\n",
    "\n",
    "scatter = ax.scatter(df_['gdp'],df_['firearm'])\n",
    "ax.errorbar(df_[\"gdp\"] ,df_['firearm'], \n",
    "            yerr = np.sqrt(df_['firearm'] * 1.0), fmt = '.')\n",
    "ax.set_xlabel(\"GDP (in billions)\")\n",
    "ax.set_ylabel(\"Average number of civilian fire arms per person\")\n",
    "ax.set_ylim()\n",
    "pl.show()\n",
    "print (\"average number of civilian fire arms per person vs GDP, \" + \n",
    "       \"errors represent Poisson statistics.\\n\" + \n",
    "       \"The datapoint to the top right of the plot is the USA, \" + \n",
    "       \"which has noth the highest GDP and the highest number of mass shootings\")"
   ]
  },
  {
   "cell_type": "markdown",
   "metadata": {
    "run_control": {
     "frozen": false,
     "read_only": false
    }
   },
   "source": [
    "## plot the average number of homicide by fire arms per person\n",
    "first as a histogram\n",
    "\n",
    "then against the country GDP, with statistical errors. are there  points that look like outliers?"
   ]
  },
  {
   "cell_type": "code",
   "execution_count": 144,
   "metadata": {},
   "outputs": [],
   "source": [
    "df_['hofirearm'] = df_[\"Number of homicides by firearm\"] / df_['pop'] * 1e3"
   ]
  },
  {
   "cell_type": "code",
   "execution_count": 145,
   "metadata": {
    "ExecuteTime": {
     "end_time": "2017-10-12T07:53:17.910541",
     "start_time": "2017-10-12T07:53:17.506477"
    },
    "run_control": {
     "frozen": false,
     "read_only": false
    }
   },
   "outputs": [
    {
     "data": {
      "image/png": "[encoded data removed]",
      "text/plain": [
       "<matplotlib.figure.Figure at 0x7fac4dbd3790>"
      ]
     },
     "metadata": {},
     "output_type": "display_data"
    }
   ],
   "source": [
    "fig, ax = plt.subplots()\n",
    "ax.hist(df_['Number of homicides by firearm'] / df_['pop'] * 1000)\n",
    "ax.set_xlabel('homicides by firearm per 1000 people');\n"
   ]
  },
  {
   "cell_type": "code",
   "execution_count": 147,
   "metadata": {},
   "outputs": [
    {
     "data": {
      "image/png": "[encoded data removed]",
      "text/plain": [
       "<matplotlib.figure.Figure at 0x7fac4d58b710>"
      ]
     },
     "metadata": {},
     "output_type": "display_data"
    },
    {
     "name": "stdout",
     "output_type": "stream",
     "text": [
      "Average number of homicide by fire arms per person vs GDP, errors represent Poisson statistics.\n",
      "The datapoint to the top right of the plot is the USA, which has noth the highest GDP and the highest number of mass shootings\n"
     ]
    }
   ],
   "source": [
    "fig = pl.figure(figsize=(10,5)) \n",
    "ax = fig.add_subplot(111)\n",
    "\n",
    "scatter = ax.scatter(df_['gdp'],df_['hofirearm'])\n",
    "ax.errorbar(df_[\"gdp\"] ,df_['hofirearm'], \n",
    "            yerr = np.sqrt(df_['hofirearm'] * 1.0), fmt = '.')\n",
    "ax.set_xlabel(\"GDP (in billions)\")\n",
    "ax.set_ylabel(\"Average number of homicide by fire arms per person\")\n",
    "ax.set_ylim()\n",
    "pl.show()\n",
    "print (\"Average number of homicide by fire arms per person vs GDP, \" + \n",
    "       \"errors represent Poisson statistics.\\n\" + \n",
    "       \"The datapoint to the top right of the plot is the USA, \" + \n",
    "       \"which has noth the highest GDP and the highest number of mass shootings\")"
   ]
  },
  {
   "cell_type": "markdown",
   "metadata": {
    "run_control": {
     "frozen": false,
     "read_only": false
    }
   },
   "source": [
    "## plot the number of  homicides by fire arm against the number of civilian firearms. plot the  US in a different color\n",
    "with and without errorbars\n"
   ]
  },
  {
   "cell_type": "code",
   "execution_count": 164,
   "metadata": {},
   "outputs": [],
   "source": [
    "df_USA = df_[df_['Country Name'] == 'United States']"
   ]
  },
  {
   "cell_type": "code",
   "execution_count": 165,
   "metadata": {},
   "outputs": [
    {
     "data": {
      "text/html": [
       "<div>\n",
       "<table border=\"1\" class=\"dataframe\">\n",
       "  <thead>\n",
       "    <tr style=\"text-align: right;\">\n",
       "      <th></th>\n",
       "      <th>Country Name</th>\n",
       "      <th>pop</th>\n",
       "      <th>gdp</th>\n",
       "      <th>Number of homicides by firearm</th>\n",
       "      <th>Average total all civilian firearms</th>\n",
       "      <th>Country</th>\n",
       "      <th>Guns per 100 inhabitants</th>\n",
       "      <th>Number of mass shootings</th>\n",
       "      <th>shootingspp</th>\n",
       "      <th>firearm</th>\n",
       "      <th>hofirearm</th>\n",
       "    </tr>\n",
       "  </thead>\n",
       "  <tbody>\n",
       "    <tr>\n",
       "      <th>22</th>\n",
       "      <td>United States</td>\n",
       "      <td>313993272.0</td>\n",
       "      <td>1.615526e+13</td>\n",
       "      <td>9146.0</td>\n",
       "      <td>270000000.0</td>\n",
       "      <td>United States</td>\n",
       "      <td>88.8</td>\n",
       "      <td>78</td>\n",
       "      <td>0.000248</td>\n",
       "      <td>859.891036</td>\n",
       "      <td>0.029128</td>\n",
       "    </tr>\n",
       "  </tbody>\n",
       "</table>\n",
       "</div>"
      ],
      "text/plain": [
       "     Country Name          pop           gdp  Number of homicides by firearm  \\\n",
       "22  United States  313993272.0  1.615526e+13                          9146.0   \n",
       "\n",
       "    Average total all civilian firearms        Country  \\\n",
       "22                          270000000.0  United States   \n",
       "\n",
       "    Guns per 100 inhabitants  Number of mass shootings  shootingspp  \\\n",
       "22                      88.8                        78     0.000248   \n",
       "\n",
       "       firearm  hofirearm  \n",
       "22  859.891036   0.029128  "
      ]
     },
     "execution_count": 165,
     "metadata": {},
     "output_type": "execute_result"
    }
   ],
   "source": [
    "df_USA.head()"
   ]
  },
  {
   "cell_type": "code",
   "execution_count": 173,
   "metadata": {},
   "outputs": [
    {
     "data": {
      "image/png": "[encoded data removed]",
      "text/plain": [
       "<matplotlib.figure.Figure at 0x7fac4d204910>"
      ]
     },
     "metadata": {},
     "output_type": "display_data"
    }
   ],
   "source": [
    "#without errors\n",
    "fig = plt.figure(figsize=(10,5)) \n",
    "ax = fig.add_subplot(111)\n",
    "\n",
    "scatter = ax.scatter(df_['Number of homicides by firearm'], df_['Average total all civilian firearms']/ 1e6,s=15)\n",
    "scatter = ax.scatter(df_USA['Number of homicides by firearm'], df_USA['Average total all civilian firearms']/ 1e6, s=20, c=\"red\")\n",
    "\n",
    "plt.xlabel(\"Number of homicides by firearm\")\n",
    "plt.ylabel(\"Average total all civilian firearms(in million)\")\n",
    "plt.show()"
   ]
  },
  {
   "cell_type": "code",
   "execution_count": 178,
   "metadata": {},
   "outputs": [
    {
     "data": {
      "image/png": "[encoded data removed]",
      "text/plain": [
       "<matplotlib.figure.Figure at 0x7fac4db41bd0>"
      ]
     },
     "metadata": {},
     "output_type": "display_data"
    }
   ],
   "source": [
    "#with errors\n",
    "fig = plt.figure(figsize=(10,5)) \n",
    "ax = fig.add_subplot(111)\n",
    "\n",
    "scatter = ax.scatter(df_['Number of homicides by firearm'], df_['Average total all civilian firearms']/ 1e6,s=8)\n",
    "scatter = ax.scatter(df_USA['Number of homicides by firearm'], df_USA['Average total all civilian firearms']/ 1e6, s=20, c=\"red\")\n",
    "ax.errorbar(df_['Number of homicides by firearm'], df_['Average total all civilian firearms']/ 1e6, \n",
    "            yerr = np.sqrt(df_['Average total all civilian firearms'] / 1e6), fmt = '.')\n",
    "\n",
    "plt.xlabel(\"Number of homicides by firearm\")\n",
    "plt.ylabel(\"Average total all civilian firearms(in million)\")\n",
    "plt.show()"
   ]
  },
  {
   "cell_type": "markdown",
   "metadata": {
    "run_control": {
     "frozen": false,
     "read_only": false
    }
   },
   "source": [
    "## plot the number of  mass shootings against the number of civilian firearms. plot the  US in a different color\n",
    "with and without errorbars\n"
   ]
  },
  {
   "cell_type": "code",
   "execution_count": 182,
   "metadata": {},
   "outputs": [
    {
     "data": {
      "image/png": "[encoded data removed]",
      "text/plain": [
       "<matplotlib.figure.Figure at 0x7fac4d0ce790>"
      ]
     },
     "metadata": {},
     "output_type": "display_data"
    }
   ],
   "source": [
    "#without errors\n",
    "fig = plt.figure(figsize=(10,5)) \n",
    "ax2 = fig.add_subplot(111)\n",
    "\n",
    "scatter2 = ax2.scatter(df_['Number of mass shootings'], df_['Average total all civilian firearms']/ 1e6,s=15)\n",
    "\n",
    "ax2.set_xlabel(\"Number of mass shootings\")\n",
    "ax2.set_ylabel(\"Average total all civilian firearms\")\n",
    "ax2.set_ylim()\n",
    "plt.show()"
   ]
  },
  {
   "cell_type": "code",
   "execution_count": 184,
   "metadata": {},
   "outputs": [
    {
     "data": {
      "image/png": "[encoded data removed]",
      "text/plain": [
       "<matplotlib.figure.Figure at 0x7fac4cf41ed0>"
      ]
     },
     "metadata": {},
     "output_type": "display_data"
    }
   ],
   "source": [
    "#with errors\n",
    "fig = plt.figure(figsize=(10,5)) \n",
    "ax2 = fig.add_subplot(111)\n",
    "\n",
    "scatter2 = ax2.scatter(df_['Number of mass shootings'], df_['Average total all civilian firearms']/ 1e6,s=10)\n",
    "ax2.errorbar(df_['Number of mass shootings'], df_['Average total all civilian firearms']/ 1e6, \n",
    "            yerr = np.sqrt(df_['Average total all civilian firearms'] / 1e6), fmt = '.')\n",
    "ax2.set_xlabel(\"Number of mass shootings\")\n",
    "ax2.set_ylabel(\"Average total all civilian firearms\")\n",
    "ax2.set_ylim()\n",
    "plt.show()"
   ]
  },
  {
   "cell_type": "markdown",
   "metadata": {
    "run_control": {
     "frozen": false,
     "read_only": false
    }
   },
   "source": [
    "# Modeling\n",
    "\n",
    "## fit a line to the Number of mass shootings  per person as a function of Average total all civilian firearms per person. \n",
    "Before you do it it is a good idea to make sure that both quantities are roughly of the same order of magnitude (unity). (You can simply divide by the order of magnitude of the mean of the sample to obtain this). Use\n",
    "\n",
    "    - statsmodels OLS\n",
    "    - statsmodels WLS\n",
    "    - seaborn\n",
    "    - choose one of\n",
    "        -- creating a function that calculates the residuals and minimizing that function\n",
    "        -- analytical solution http://mathworld.wolfram.com/LeastSquaresFitting.html\n",
    "        -- numpy.polyfit() - https://docs.scipy.org/doc/numpy-1.13.0/reference/generated/numpy.polyfit.html\n",
    "    \n",
    "\n",
    "WLS: that is the weighted square fit. The statsmodel package WLS function allows you to take the uncertainties of each data point into account when you fit your model. It takes the parameter weights, which is the inverse of your errors:\n",
    "weights = 1.0/df.yerror\n",
    "Notice that \n",
    "    a - sqrt(0) = 0\n",
    "    b - 1/0 = infinity\n",
    "    c - you cannot have weight that are infinity in your fit. Please come up with a solution and justify it.\n",
    "\n",
    "\n",
    "the latter three you can learn about in this example: https://github.com/fedhere/PUI2017_fb55/blob/master/Lab5_fb55/genderIncomeBias.ipynb\n",
    "Since we did not discuss these, I will add some notes to the repo in the afternoon.\n",
    "\n",
    "Use the seaborn python package built in regression function  to plot the regression confidence intervals. \n",
    "\n",
    "import seaborn  as sns\n",
    "sns.regplot(x=\"x\", y=\"y\", data=df);\n",
    "\n",
    "\n"
   ]
  },
  {
   "cell_type": "code",
   "execution_count": 132,
   "metadata": {},
   "outputs": [
    {
     "data": {
      "text/plain": [
       "Index([u'Country Name', u'pop', u'gdp', u'Number of homicides by firearm',\n",
       "       u'Average total all civilian firearms', u'Country',\n",
       "       u'Guns per 100 inhabitants', u'Number of mass shootings',\n",
       "       u'shootingspp'],\n",
       "      dtype='object')"
      ]
     },
     "execution_count": 132,
     "metadata": {},
     "output_type": "execute_result"
    }
   ],
   "source": [
    "df_.columns"
   ]
  },
  {
   "cell_type": "code",
   "execution_count": 219,
   "metadata": {},
   "outputs": [],
   "source": [
    "df_['shootingspp'] = df_[\"Number of mass shootings\"] / df_['pop'] * 1e6"
   ]
  },
  {
   "cell_type": "code",
   "execution_count": 220,
   "metadata": {},
   "outputs": [],
   "source": [
    "df_['armspp'] = df_[\"Average total all civilian firearms\"] / df_['pop'] "
   ]
  },
  {
   "cell_type": "code",
   "execution_count": 221,
   "metadata": {},
   "outputs": [
    {
     "data": {
      "text/plain": [
       "Index([u'Country Name', u'pop', u'gdp', u'Number of homicides by firearm',\n",
       "       u'Average total all civilian firearms', u'Country',\n",
       "       u'Guns per 100 inhabitants', u'Number of mass shootings',\n",
       "       u'shootingspp', u'firearm', u'hofirearm', u'armspp', u'magMassShootpp',\n",
       "       u'magarmspp'],\n",
       "      dtype='object')"
      ]
     },
     "execution_count": 221,
     "metadata": {},
     "output_type": "execute_result"
    }
   ],
   "source": [
    "df_.columns"
   ]
  },
  {
   "cell_type": "code",
   "execution_count": 222,
   "metadata": {},
   "outputs": [],
   "source": [
    "df_['magMassShootpp'] = df_['shootingspp']/df_['shootingspp'].mean()\n",
    "df_['magarmspp'] =df_['armspp']/df_['armspp'].mean()"
   ]
  },
  {
   "cell_type": "code",
   "execution_count": 223,
   "metadata": {},
   "outputs": [
    {
     "data": {
      "text/html": [
       "<div>\n",
       "<table border=\"1\" class=\"dataframe\">\n",
       "  <thead>\n",
       "    <tr style=\"text-align: right;\">\n",
       "      <th></th>\n",
       "      <th>Country Name</th>\n",
       "      <th>pop</th>\n",
       "      <th>gdp</th>\n",
       "      <th>Number of homicides by firearm</th>\n",
       "      <th>Average total all civilian firearms</th>\n",
       "      <th>Country</th>\n",
       "      <th>Guns per 100 inhabitants</th>\n",
       "      <th>Number of mass shootings</th>\n",
       "      <th>shootingspp</th>\n",
       "      <th>firearm</th>\n",
       "      <th>hofirearm</th>\n",
       "      <th>armspp</th>\n",
       "      <th>magMassShootpp</th>\n",
       "      <th>magarmspp</th>\n",
       "    </tr>\n",
       "  </thead>\n",
       "  <tbody>\n",
       "    <tr>\n",
       "      <th>0</th>\n",
       "      <td>Australia</td>\n",
       "      <td>22742475.0</td>\n",
       "      <td>1.543411e+12</td>\n",
       "      <td>30.0</td>\n",
       "      <td>3050000.0</td>\n",
       "      <td>Australia</td>\n",
       "      <td>15.0</td>\n",
       "      <td>4</td>\n",
       "      <td>0.175882</td>\n",
       "      <td>134.110294</td>\n",
       "      <td>0.001319</td>\n",
       "      <td>0.134110</td>\n",
       "      <td>1.423355</td>\n",
       "      <td>0.593366</td>\n",
       "    </tr>\n",
       "    <tr>\n",
       "      <th>1</th>\n",
       "      <td>Austria</td>\n",
       "      <td>8429991.0</td>\n",
       "      <td>4.094252e+11</td>\n",
       "      <td>18.0</td>\n",
       "      <td>2500000.0</td>\n",
       "      <td>Austria</td>\n",
       "      <td>30.4</td>\n",
       "      <td>1</td>\n",
       "      <td>0.118624</td>\n",
       "      <td>296.560222</td>\n",
       "      <td>0.002135</td>\n",
       "      <td>0.296560</td>\n",
       "      <td>0.959983</td>\n",
       "      <td>1.312121</td>\n",
       "    </tr>\n",
       "    <tr>\n",
       "      <th>2</th>\n",
       "      <td>Belgium</td>\n",
       "      <td>11128246.0</td>\n",
       "      <td>4.978842e+11</td>\n",
       "      <td>70.0</td>\n",
       "      <td>1800000.0</td>\n",
       "      <td>Belgium</td>\n",
       "      <td>17.2</td>\n",
       "      <td>2</td>\n",
       "      <td>0.179723</td>\n",
       "      <td>161.750558</td>\n",
       "      <td>0.006290</td>\n",
       "      <td>0.161751</td>\n",
       "      <td>1.454434</td>\n",
       "      <td>0.715660</td>\n",
       "    </tr>\n",
       "    <tr>\n",
       "      <th>3</th>\n",
       "      <td>Canada</td>\n",
       "      <td>34750545.0</td>\n",
       "      <td>1.824289e+12</td>\n",
       "      <td>173.0</td>\n",
       "      <td>9950000.0</td>\n",
       "      <td>Canada</td>\n",
       "      <td>30.8</td>\n",
       "      <td>4</td>\n",
       "      <td>0.115106</td>\n",
       "      <td>286.326445</td>\n",
       "      <td>0.004978</td>\n",
       "      <td>0.286326</td>\n",
       "      <td>0.931514</td>\n",
       "      <td>1.266842</td>\n",
       "    </tr>\n",
       "    <tr>\n",
       "      <th>4</th>\n",
       "      <td>Switzerland</td>\n",
       "      <td>7996861.0</td>\n",
       "      <td>6.680436e+11</td>\n",
       "      <td>57.0</td>\n",
       "      <td>3400000.0</td>\n",
       "      <td>Switzerland</td>\n",
       "      <td>45.7</td>\n",
       "      <td>2</td>\n",
       "      <td>0.250098</td>\n",
       "      <td>425.166825</td>\n",
       "      <td>0.007128</td>\n",
       "      <td>0.425167</td>\n",
       "      <td>2.023957</td>\n",
       "      <td>1.881136</td>\n",
       "    </tr>\n",
       "  </tbody>\n",
       "</table>\n",
       "</div>"
      ],
      "text/plain": [
       "  Country Name         pop           gdp  Number of homicides by firearm  \\\n",
       "0    Australia  22742475.0  1.543411e+12                            30.0   \n",
       "1      Austria   8429991.0  4.094252e+11                            18.0   \n",
       "2      Belgium  11128246.0  4.978842e+11                            70.0   \n",
       "3       Canada  34750545.0  1.824289e+12                           173.0   \n",
       "4  Switzerland   7996861.0  6.680436e+11                            57.0   \n",
       "\n",
       "   Average total all civilian firearms      Country  Guns per 100 inhabitants  \\\n",
       "0                            3050000.0    Australia                      15.0   \n",
       "1                            2500000.0      Austria                      30.4   \n",
       "2                            1800000.0      Belgium                      17.2   \n",
       "3                            9950000.0       Canada                      30.8   \n",
       "4                            3400000.0  Switzerland                      45.7   \n",
       "\n",
       "   Number of mass shootings  shootingspp     firearm  hofirearm    armspp  \\\n",
       "0                         4     0.175882  134.110294   0.001319  0.134110   \n",
       "1                         1     0.118624  296.560222   0.002135  0.296560   \n",
       "2                         2     0.179723  161.750558   0.006290  0.161751   \n",
       "3                         4     0.115106  286.326445   0.004978  0.286326   \n",
       "4                         2     0.250098  425.166825   0.007128  0.425167   \n",
       "\n",
       "   magMassShootpp  magarmspp  \n",
       "0        1.423355   0.593366  \n",
       "1        0.959983   1.312121  \n",
       "2        1.454434   0.715660  \n",
       "3        0.931514   1.266842  \n",
       "4        2.023957   1.881136  "
      ]
     },
     "execution_count": 223,
     "metadata": {},
     "output_type": "execute_result"
    }
   ],
   "source": [
    "df_.head()"
   ]
  },
  {
   "cell_type": "markdown",
   "metadata": {},
   "source": [
    "## OLS Model"
   ]
  },
  {
   "cell_type": "code",
   "execution_count": 250,
   "metadata": {},
   "outputs": [
    {
     "data": {
      "text/html": [
       "<table class=\"simpletable\">\n",
       "<caption>OLS Regression Results</caption>\n",
       "<tr>\n",
       "  <th>Dep. Variable:</th>       <td>shootingspp</td>   <th>  R-squared:         </th> <td>   0.192</td>\n",
       "</tr>\n",
       "<tr>\n",
       "  <th>Model:</th>                   <td>OLS</td>       <th>  Adj. R-squared:    </th> <td>   0.153</td>\n",
       "</tr>\n",
       "<tr>\n",
       "  <th>Method:</th>             <td>Least Squares</td>  <th>  F-statistic:       </th> <td>   4.981</td>\n",
       "</tr>\n",
       "<tr>\n",
       "  <th>Date:</th>             <td>Wed, 14 Nov 2018</td> <th>  Prob (F-statistic):</th>  <td>0.0367</td> \n",
       "</tr>\n",
       "<tr>\n",
       "  <th>Time:</th>                 <td>21:32:49</td>     <th>  Log-Likelihood:    </th> <td>  12.284</td>\n",
       "</tr>\n",
       "<tr>\n",
       "  <th>No. Observations:</th>      <td>    23</td>      <th>  AIC:               </th> <td>  -20.57</td>\n",
       "</tr>\n",
       "<tr>\n",
       "  <th>Df Residuals:</th>          <td>    21</td>      <th>  BIC:               </th> <td>  -18.30</td>\n",
       "</tr>\n",
       "<tr>\n",
       "  <th>Df Model:</th>              <td>     1</td>      <th>                     </th>     <td> </td>   \n",
       "</tr>\n",
       "<tr>\n",
       "  <th>Covariance Type:</th>      <td>nonrobust</td>    <th>                     </th>     <td> </td>   \n",
       "</tr>\n",
       "</table>\n",
       "<table class=\"simpletable\">\n",
       "<tr>\n",
       "     <td></td>       <th>coef</th>     <th>std err</th>      <th>t</th>      <th>P>|t|</th> <th>[95.0% Conf. Int.]</th> \n",
       "</tr>\n",
       "<tr>\n",
       "  <th>const</th>  <td>    0.0368</td> <td>    0.050</td> <td>    0.742</td> <td> 0.467</td> <td>   -0.066     0.140</td>\n",
       "</tr>\n",
       "<tr>\n",
       "  <th>armspp</th> <td>    0.3837</td> <td>    0.172</td> <td>    2.232</td> <td> 0.037</td> <td>    0.026     0.741</td>\n",
       "</tr>\n",
       "</table>\n",
       "<table class=\"simpletable\">\n",
       "<tr>\n",
       "  <th>Omnibus:</th>       <td>34.558</td> <th>  Durbin-Watson:     </th> <td>   1.860</td>\n",
       "</tr>\n",
       "<tr>\n",
       "  <th>Prob(Omnibus):</th> <td> 0.000</td> <th>  Jarque-Bera (JB):  </th> <td>  88.760</td>\n",
       "</tr>\n",
       "<tr>\n",
       "  <th>Skew:</th>          <td> 2.666</td> <th>  Prob(JB):          </th> <td>5.32e-20</td>\n",
       "</tr>\n",
       "<tr>\n",
       "  <th>Kurtosis:</th>      <td>11.012</td> <th>  Cond. No.          </th> <td>    5.85</td>\n",
       "</tr>\n",
       "</table>"
      ],
      "text/plain": [
       "<class 'statsmodels.iolib.summary.Summary'>\n",
       "\"\"\"\n",
       "                            OLS Regression Results                            \n",
       "==============================================================================\n",
       "Dep. Variable:            shootingspp   R-squared:                       0.192\n",
       "Model:                            OLS   Adj. R-squared:                  0.153\n",
       "Method:                 Least Squares   F-statistic:                     4.981\n",
       "Date:                Wed, 14 Nov 2018   Prob (F-statistic):             0.0367\n",
       "Time:                        21:32:49   Log-Likelihood:                 12.284\n",
       "No. Observations:                  23   AIC:                            -20.57\n",
       "Df Residuals:                      21   BIC:                            -18.30\n",
       "Df Model:                           1                                         \n",
       "Covariance Type:            nonrobust                                         \n",
       "==============================================================================\n",
       "                 coef    std err          t      P>|t|      [95.0% Conf. Int.]\n",
       "------------------------------------------------------------------------------\n",
       "const          0.0368      0.050      0.742      0.467        -0.066     0.140\n",
       "armspp         0.3837      0.172      2.232      0.037         0.026     0.741\n",
       "==============================================================================\n",
       "Omnibus:                       34.558   Durbin-Watson:                   1.860\n",
       "Prob(Omnibus):                  0.000   Jarque-Bera (JB):               88.760\n",
       "Skew:                           2.666   Prob(JB):                     5.32e-20\n",
       "Kurtosis:                      11.012   Cond. No.                         5.85\n",
       "==============================================================================\n",
       "\n",
       "Warnings:\n",
       "[1] Standard Errors assume that the covariance matrix of the errors is correctly specified.\n",
       "\"\"\""
      ]
     },
     "execution_count": 250,
     "metadata": {},
     "output_type": "execute_result"
    }
   ],
   "source": [
    "# OLS \n",
    "smfit = sm.OLS(df_['shootingspp'], sm.add_constant(df_['armspp'])).fit()\n",
    "smfit.summary()"
   ]
  },
  {
   "cell_type": "markdown",
   "metadata": {},
   "source": [
    "## WLS Model"
   ]
  },
  {
   "cell_type": "code",
   "execution_count": 246,
   "metadata": {},
   "outputs": [],
   "source": [
    "x = np.array(df_['armspp'])\n",
    "y = np.array(df_['shootingspp'])\n",
    "smfitw = sm.WLS(y,x,weights=list(1/np.sqrt(x))).fit()"
   ]
  },
  {
   "cell_type": "code",
   "execution_count": 247,
   "metadata": {},
   "outputs": [
    {
     "data": {
      "text/html": [
       "<table class=\"simpletable\">\n",
       "<caption>WLS Regression Results</caption>\n",
       "<tr>\n",
       "  <th>Dep. Variable:</th>            <td>y</td>        <th>  R-squared:         </th> <td>   0.450</td>\n",
       "</tr>\n",
       "<tr>\n",
       "  <th>Model:</th>                   <td>WLS</td>       <th>  Adj. R-squared:    </th> <td>   0.425</td>\n",
       "</tr>\n",
       "<tr>\n",
       "  <th>Method:</th>             <td>Least Squares</td>  <th>  F-statistic:       </th> <td>   17.98</td>\n",
       "</tr>\n",
       "<tr>\n",
       "  <th>Date:</th>             <td>Wed, 14 Nov 2018</td> <th>  Prob (F-statistic):</th> <td>0.000335</td>\n",
       "</tr>\n",
       "<tr>\n",
       "  <th>Time:</th>                 <td>21:31:57</td>     <th>  Log-Likelihood:    </th> <td>  14.303</td>\n",
       "</tr>\n",
       "<tr>\n",
       "  <th>No. Observations:</th>      <td>    23</td>      <th>  AIC:               </th> <td>  -26.61</td>\n",
       "</tr>\n",
       "<tr>\n",
       "  <th>Df Residuals:</th>          <td>    22</td>      <th>  BIC:               </th> <td>  -25.47</td>\n",
       "</tr>\n",
       "<tr>\n",
       "  <th>Df Model:</th>              <td>     1</td>      <th>                     </th>     <td> </td>   \n",
       "</tr>\n",
       "<tr>\n",
       "  <th>Covariance Type:</th>      <td>nonrobust</td>    <th>                     </th>     <td> </td>   \n",
       "</tr>\n",
       "</table>\n",
       "<table class=\"simpletable\">\n",
       "<tr>\n",
       "   <td></td>     <th>coef</th>     <th>std err</th>      <th>t</th>      <th>P>|t|</th> <th>[95.0% Conf. Int.]</th> \n",
       "</tr>\n",
       "<tr>\n",
       "  <th>x1</th> <td>    0.5206</td> <td>    0.123</td> <td>    4.240</td> <td> 0.000</td> <td>    0.266     0.775</td>\n",
       "</tr>\n",
       "</table>\n",
       "<table class=\"simpletable\">\n",
       "<tr>\n",
       "  <th>Omnibus:</th>       <td>35.438</td> <th>  Durbin-Watson:     </th> <td>   1.808</td>\n",
       "</tr>\n",
       "<tr>\n",
       "  <th>Prob(Omnibus):</th> <td> 0.000</td> <th>  Jarque-Bera (JB):  </th> <td>  96.435</td>\n",
       "</tr>\n",
       "<tr>\n",
       "  <th>Skew:</th>          <td> 2.704</td> <th>  Prob(JB):          </th> <td>1.15e-21</td>\n",
       "</tr>\n",
       "<tr>\n",
       "  <th>Kurtosis:</th>      <td>11.448</td> <th>  Cond. No.          </th> <td>    1.00</td>\n",
       "</tr>\n",
       "</table>"
      ],
      "text/plain": [
       "<class 'statsmodels.iolib.summary.Summary'>\n",
       "\"\"\"\n",
       "                            WLS Regression Results                            \n",
       "==============================================================================\n",
       "Dep. Variable:                      y   R-squared:                       0.450\n",
       "Model:                            WLS   Adj. R-squared:                  0.425\n",
       "Method:                 Least Squares   F-statistic:                     17.98\n",
       "Date:                Wed, 14 Nov 2018   Prob (F-statistic):           0.000335\n",
       "Time:                        21:31:57   Log-Likelihood:                 14.303\n",
       "No. Observations:                  23   AIC:                            -26.61\n",
       "Df Residuals:                      22   BIC:                            -25.47\n",
       "Df Model:                           1                                         \n",
       "Covariance Type:            nonrobust                                         \n",
       "==============================================================================\n",
       "                 coef    std err          t      P>|t|      [95.0% Conf. Int.]\n",
       "------------------------------------------------------------------------------\n",
       "x1             0.5206      0.123      4.240      0.000         0.266     0.775\n",
       "==============================================================================\n",
       "Omnibus:                       35.438   Durbin-Watson:                   1.808\n",
       "Prob(Omnibus):                  0.000   Jarque-Bera (JB):               96.435\n",
       "Skew:                           2.704   Prob(JB):                     1.15e-21\n",
       "Kurtosis:                      11.448   Cond. No.                         1.00\n",
       "==============================================================================\n",
       "\n",
       "Warnings:\n",
       "[1] Standard Errors assume that the covariance matrix of the errors is correctly specified.\n",
       "\"\"\""
      ]
     },
     "execution_count": 247,
     "metadata": {},
     "output_type": "execute_result"
    }
   ],
   "source": [
    "smfitw.summary()"
   ]
  },
  {
   "cell_type": "code",
   "execution_count": 261,
   "metadata": {},
   "outputs": [
    {
     "data": {
      "image/png": "[encoded data removed]",
      "text/plain": [
       "<matplotlib.figure.Figure at 0x7fac4cb07090>"
      ]
     },
     "metadata": {},
     "output_type": "display_data"
    }
   ],
   "source": [
    "fig = plt.figure(figsize=(10,10)) \n",
    "ax = fig.add_subplot(222)\n",
    "\n",
    "scatter = ax.scatter(df_['armspp'], df_['shootingspp'],s=8)\n",
    "ax.set_xlabel(\"fire arms\")\n",
    "ax.set_ylabel(\"Massice shooting\")\n",
    "ax.set_ylim()\n",
    "\n",
    "ax = fig.add_subplot(223)\n",
    "scatter = ax.scatter(df_['armspp'], df_['shootingspp'],s=15, label = \"y\")\n",
    "ax.plot(df_['armspp'], smfit.fittedvalues, 'k', alpha=0.4, label = \"OLS fit\")\n",
    "ax.set_xlabel(\"fire arms\")\n",
    "ax.set_ylabel(\"Massice shooting\")\n",
    "ax.set_ylim()\n",
    "ax.legend()\n",
    "\n",
    "\n",
    "ax = fig.add_subplot(224)\n",
    "scatter = ax.scatter(df_['armspp'], df_['shootingspp'],s=15, label = \"y\")\n",
    "ax.errorbar(df_['armspp'], df_['shootingspp'], \n",
    "            yerr = np.sqrt(df_['shootingspp'] * 1.0), fmt = '.')\n",
    "ax.plot(df_['armspp'], smfit.fittedvalues, 'k',label = \"OLS fit\", color=\"black\")\n",
    "ax.plot(df_['armspp'], smfitw.fittedvalues, 'k',  label = \"WLS fit\", color=\"red\")\n",
    "ax.set_xlabel(\"fire arms\")\n",
    "ax.set_ylabel(\"Massice shooting\")\n",
    "ax.set_ylim()\n",
    "ax.legend()\n",
    "\n",
    "plt.show()"
   ]
  },
  {
   "cell_type": "markdown",
   "metadata": {
    "run_control": {
     "frozen": false,
     "read_only": false
    }
   },
   "source": [
    "## Outlier removal:\n",
    "The concept of outlier is actually rather sophisticated: a point can be an outlier in a context but not in another. If you want to remove outliers and try different fits, here is some info on how to remove data efficiently from a dataset \n",
    "    https://gist.github.com/fedhere/89db40a3c9a28335bf5a35d52a52c595"
   ]
  },
  {
   "cell_type": "markdown",
   "metadata": {
    "ExecuteTime": {
     "end_time": "2017-10-12T16:21:08.019663",
     "start_time": "2017-10-12T16:21:08.010876"
    },
    "run_control": {
     "frozen": false,
     "read_only": false
    }
   },
   "source": [
    "## Extra credit: calculate the confidence interval by hand and also plot them \n",
    "you can use pylab.fill_between(x, yfit - ci, yfit + ci, alpha=0.5)"
   ]
  },
  {
   "cell_type": "markdown",
   "metadata": {
    "run_control": {
     "frozen": false,
     "read_only": false
    }
   },
   "source": [
    "**Confidence intervals: **\n",
    "there are three type of intervals in a linear regression, plot any one of them all three if you want - how do they compare to the seaborn plot?:\n",
    "\n",
    "1) Confidence intervals for the parameters slope and intercept\n",
    "\n",
    "2) Confidence interval for the average y value\n",
    "\n",
    "3) Prediction interval for a single y value"
   ]
  },
  {
   "cell_type": "markdown",
   "metadata": {
    "run_control": {
     "frozen": false,
     "read_only": false
    }
   },
   "source": [
    "1) __confidence interval of the  model parameters slope and intercept:__\n",
    "define sigma as the sum of the residuals over the square root of number n of observations. \n",
    "\n",
    "sigma: σ̂ =sqrt(Sum((Yoberved_i−Ypredicted_i)^2)/n)\n",
    "\n",
    "where the sum is over all observations\n",
    "\n",
    "Define t_alpha/2,n-2 the t statistics at (1-alpha/2) for a t distribution with n-2 degrees of freedom (you can calculate it with scipy\n",
    "tp = sp.stats.t.ppf(0.975, n-2)\n",
    "\n"
   ]
  },
  {
   "cell_type": "markdown",
   "metadata": {
    "run_control": {
     "frozen": false,
     "read_only": false
    }
   },
   "source": [
    "2) **A confidence interval for E(y | x) , the expected (average) value of y for a given x_**\n",
    "\n",
    "define s: residual standard error sy = sqrt(Sum((y_observed-y_predicted)^2)/(n-2))\n",
    "\n",
    "(note: n-2 is the degrees of freedom of the problem: observations - number of parameters - 1)\n",
    "\n",
    "the confidence interval for a given y(x*) is: \n",
    "\n",
    "y_predicted(x*) +/- t_(alpha/2)(n-2) * sy * sqrt( 1/n + (x* - mean(x)^2) / sum((x* - mean(x)^2)"
   ]
  },
  {
   "cell_type": "markdown",
   "metadata": {
    "run_control": {
     "frozen": false,
     "read_only": false
    }
   },
   "source": [
    "3) **Confidence intervals for average y (predicted) values**\n",
    "\n",
    "y_predicted(x*) +/- t_(n-2) * sy * sqrt( 1 + 1/n + (x* - mean(x)^2) / sum((x* - mean(x)^2)\n",
    "\n",
    "very similar, but note the +1 in the square root"
   ]
  },
  {
   "cell_type": "code",
   "execution_count": 32,
   "metadata": {
    "ExecuteTime": {
     "end_time": "2017-10-12T16:08:46.077157",
     "start_time": "2017-10-12T16:08:46.067407"
    },
    "run_control": {
     "frozen": false,
     "read_only": false
    }
   },
   "outputs": [
    {
     "data": {
      "image/png": "[encoded data removed]",
      "text/plain": [
       "<IPython.core.display.Image object>"
      ]
     },
     "execution_count": 32,
     "metadata": {},
     "output_type": "execute_result"
    }
   ],
   "source": [
    "from IPython.display import Image\n",
    "Image(filename=\"../Lab5_fb55/ciYaverage.png\")"
   ]
  },
  {
   "cell_type": "code",
   "execution_count": 269,
   "metadata": {},
   "outputs": [],
   "source": [
    "import numpy as np\n",
    "import scipy.stats"
   ]
  },
  {
   "cell_type": "code",
   "execution_count": 273,
   "metadata": {},
   "outputs": [],
   "source": [
    "def mean_confidence_interval(data, confidence=0.95):\n",
    "    a = 1.0 * np.array(data)\n",
    "    n = len(a)\n",
    "    m, se = np.mean(a), scipy.stats.sem(a)\n",
    "    h = se * scipy.stats.t.ppf((1 + confidence) / 2., n-1)\n",
    "    return m, m-h, m+h"
   ]
  },
  {
   "cell_type": "code",
   "execution_count": 276,
   "metadata": {},
   "outputs": [],
   "source": [
    "x = np.array(df_['armspp'])\n",
    "y = np.array(df_['shootingspp'])\n",
    "data = y"
   ]
  },
  {
   "cell_type": "code",
   "execution_count": 277,
   "metadata": {},
   "outputs": [
    {
     "data": {
      "text/plain": [
       "(0.12356888832925393, 0.053808941290454645, 0.19332883536805323)"
      ]
     },
     "execution_count": 277,
     "metadata": {},
     "output_type": "execute_result"
    }
   ],
   "source": [
    "mean_confidence_interval(data, confidence=0.95)"
   ]
  },
  {
   "cell_type": "code",
   "execution_count": 282,
   "metadata": {
    "ExecuteTime": {
     "end_time": "2017-10-12T16:36:39.238967",
     "start_time": "2017-10-12T16:36:38.688004"
    },
    "run_control": {
     "frozen": false,
     "read_only": false
    }
   },
   "outputs": [
    {
     "ename": "IndexError",
     "evalue": "only integers, slices (`:`), ellipsis (`...`), numpy.newaxis (`None`) and integer or boolean arrays are valid indices",
     "output_type": "error",
     "traceback": [
      "\u001b[0;31m\u001b[0m",
      "\u001b[0;31mIndexError\u001b[0mTraceback (most recent call last)",
      "\u001b[0;32m<ipython-input-282-b494bcee356f>\u001b[0m in \u001b[0;36m<module>\u001b[0;34m()\u001b[0m\n\u001b[1;32m      1\u001b[0m \u001b[0mpl\u001b[0m\u001b[0;34m.\u001b[0m\u001b[0mfigure\u001b[0m\u001b[0;34m(\u001b[0m\u001b[0;34m)\u001b[0m\u001b[0;34m\u001b[0m\u001b[0m\n\u001b[1;32m      2\u001b[0m \u001b[0;32mimport\u001b[0m \u001b[0mseaborn\u001b[0m  \u001b[0;32mas\u001b[0m \u001b[0msns\u001b[0m\u001b[0;34m\u001b[0m\u001b[0m\n\u001b[0;32m----> 3\u001b[0;31m \u001b[0msns\u001b[0m\u001b[0;34m.\u001b[0m\u001b[0mregplot\u001b[0m\u001b[0;34m(\u001b[0m\u001b[0mx\u001b[0m\u001b[0;34m=\u001b[0m\u001b[0;34m\"x\"\u001b[0m\u001b[0;34m,\u001b[0m \u001b[0my\u001b[0m\u001b[0;34m=\u001b[0m\u001b[0;34m\"y\"\u001b[0m\u001b[0;34m,\u001b[0m \u001b[0mdata\u001b[0m\u001b[0;34m=\u001b[0m \u001b[0mdata\u001b[0m\u001b[0;34m)\u001b[0m\u001b[0;34m;\u001b[0m\u001b[0;34m\u001b[0m\u001b[0m\n\u001b[0m\u001b[1;32m      4\u001b[0m \u001b[0;34m\u001b[0m\u001b[0m\n\u001b[1;32m      5\u001b[0m \u001b[0mpl\u001b[0m\u001b[0;34m.\u001b[0m\u001b[0mylabel\u001b[0m\u001b[0;34m(\u001b[0m\u001b[0;34m\"Mass shootings\"\u001b[0m\u001b[0;34m)\u001b[0m\u001b[0;34m\u001b[0m\u001b[0m\n",
      "\u001b[0;32m/usr/local/Anaconda3-5.0.0-Linux-x86_64/envs/PUI2016_Python2/lib/python2.7/site-packages/seaborn/linearmodels.pyc\u001b[0m in \u001b[0;36mregplot\u001b[0;34m(x, y, data, x_estimator, x_bins, x_ci, scatter, fit_reg, ci, n_boot, units, order, logistic, lowess, robust, logx, x_partial, y_partial, truncate, dropna, x_jitter, y_jitter, label, color, marker, scatter_kws, line_kws, ax)\u001b[0m\n\u001b[1;32m    769\u001b[0m                                  \u001b[0morder\u001b[0m\u001b[0;34m,\u001b[0m \u001b[0mlogistic\u001b[0m\u001b[0;34m,\u001b[0m \u001b[0mlowess\u001b[0m\u001b[0;34m,\u001b[0m \u001b[0mrobust\u001b[0m\u001b[0;34m,\u001b[0m \u001b[0mlogx\u001b[0m\u001b[0;34m,\u001b[0m\u001b[0;34m\u001b[0m\u001b[0m\n\u001b[1;32m    770\u001b[0m                                  \u001b[0mx_partial\u001b[0m\u001b[0;34m,\u001b[0m \u001b[0my_partial\u001b[0m\u001b[0;34m,\u001b[0m \u001b[0mtruncate\u001b[0m\u001b[0;34m,\u001b[0m \u001b[0mdropna\u001b[0m\u001b[0;34m,\u001b[0m\u001b[0;34m\u001b[0m\u001b[0m\n\u001b[0;32m--> 771\u001b[0;31m                                  x_jitter, y_jitter, color, label)\n\u001b[0m\u001b[1;32m    772\u001b[0m \u001b[0;34m\u001b[0m\u001b[0m\n\u001b[1;32m    773\u001b[0m     \u001b[0;32mif\u001b[0m \u001b[0max\u001b[0m \u001b[0;32mis\u001b[0m \u001b[0mNone\u001b[0m\u001b[0;34m:\u001b[0m\u001b[0;34m\u001b[0m\u001b[0m\n",
      "\u001b[0;32m/usr/local/Anaconda3-5.0.0-Linux-x86_64/envs/PUI2016_Python2/lib/python2.7/site-packages/seaborn/linearmodels.pyc\u001b[0m in \u001b[0;36m__init__\u001b[0;34m(self, x, y, data, x_estimator, x_bins, x_ci, scatter, fit_reg, ci, n_boot, units, order, logistic, lowess, robust, logx, x_partial, y_partial, truncate, dropna, x_jitter, y_jitter, color, label)\u001b[0m\n\u001b[1;32m    108\u001b[0m         \u001b[0;31m# Extract the data vals from the arguments or passed dataframe\u001b[0m\u001b[0;34m\u001b[0m\u001b[0;34m\u001b[0m\u001b[0m\n\u001b[1;32m    109\u001b[0m         self.establish_variables(data, x=x, y=y, units=units,\n\u001b[0;32m--> 110\u001b[0;31m                                  x_partial=x_partial, y_partial=y_partial)\n\u001b[0m\u001b[1;32m    111\u001b[0m \u001b[0;34m\u001b[0m\u001b[0m\n\u001b[1;32m    112\u001b[0m         \u001b[0;31m# Drop null observations\u001b[0m\u001b[0;34m\u001b[0m\u001b[0;34m\u001b[0m\u001b[0m\n",
      "\u001b[0;32m/usr/local/Anaconda3-5.0.0-Linux-x86_64/envs/PUI2016_Python2/lib/python2.7/site-packages/seaborn/linearmodels.pyc\u001b[0m in \u001b[0;36mestablish_variables\u001b[0;34m(self, data, **kws)\u001b[0m\n\u001b[1;32m     53\u001b[0m         \u001b[0;32mfor\u001b[0m \u001b[0mvar\u001b[0m\u001b[0;34m,\u001b[0m \u001b[0mval\u001b[0m \u001b[0;32min\u001b[0m \u001b[0mkws\u001b[0m\u001b[0;34m.\u001b[0m\u001b[0mitems\u001b[0m\u001b[0;34m(\u001b[0m\u001b[0;34m)\u001b[0m\u001b[0;34m:\u001b[0m\u001b[0;34m\u001b[0m\u001b[0m\n\u001b[1;32m     54\u001b[0m             \u001b[0;32mif\u001b[0m \u001b[0misinstance\u001b[0m\u001b[0;34m(\u001b[0m\u001b[0mval\u001b[0m\u001b[0;34m,\u001b[0m \u001b[0mstring_types\u001b[0m\u001b[0;34m)\u001b[0m\u001b[0;34m:\u001b[0m\u001b[0;34m\u001b[0m\u001b[0m\n\u001b[0;32m---> 55\u001b[0;31m                 \u001b[0msetattr\u001b[0m\u001b[0;34m(\u001b[0m\u001b[0mself\u001b[0m\u001b[0;34m,\u001b[0m \u001b[0mvar\u001b[0m\u001b[0;34m,\u001b[0m \u001b[0mdata\u001b[0m\u001b[0;34m[\u001b[0m\u001b[0mval\u001b[0m\u001b[0;34m]\u001b[0m\u001b[0;34m)\u001b[0m\u001b[0;34m\u001b[0m\u001b[0m\n\u001b[0m\u001b[1;32m     56\u001b[0m             \u001b[0;32melse\u001b[0m\u001b[0;34m:\u001b[0m\u001b[0;34m\u001b[0m\u001b[0m\n\u001b[1;32m     57\u001b[0m                 \u001b[0msetattr\u001b[0m\u001b[0;34m(\u001b[0m\u001b[0mself\u001b[0m\u001b[0;34m,\u001b[0m \u001b[0mvar\u001b[0m\u001b[0;34m,\u001b[0m \u001b[0mval\u001b[0m\u001b[0;34m)\u001b[0m\u001b[0;34m\u001b[0m\u001b[0m\n",
      "\u001b[0;31mIndexError\u001b[0m: only integers, slices (`:`), ellipsis (`...`), numpy.newaxis (`None`) and integer or boolean arrays are valid indices"
     ]
    },
    {
     "data": {
      "text/plain": [
       "<matplotlib.figure.Figure at 0x7fac4db043d0>"
      ]
     },
     "metadata": {},
     "output_type": "display_data"
    }
   ],
   "source": [
    "pl.figure()\n",
    "import seaborn  as sns\n",
    "sns.regplot(x=\"x\", y=\"y\", data= data);\n",
    "\n",
    "pl.ylabel(\"Mass shootings\")\n",
    "pl.xlabel(\"Fire arms\");"
   ]
  },
  {
   "cell_type": "markdown",
   "metadata": {
    "run_control": {
     "frozen": false,
     "read_only": false
    }
   },
   "source": [
    "## Use the stsatsmodels.gaphics package to plot the influence plot. \n",
    "Read the package documentation to learn how to read this plot and extract the countries with the highest influence\n",
    "\n",
    "This is the topic of this week's assigned reading, so make sure you do the reading before you do this step. It will help you interpret the plot."
   ]
  },
  {
   "cell_type": "code",
   "execution_count": 283,
   "metadata": {
    "scrolled": true
   },
   "outputs": [
    {
     "data": {
      "image/png": "[encoded data removed]",
      "text/plain": [
       "<matplotlib.figure.Figure at 0x7fac4d9b9d50>"
      ]
     },
     "metadata": {},
     "output_type": "display_data"
    }
   ],
   "source": [
    "sm.graphics.influence_plot(smfit, alpha  = 0.05, criterion=\"cooks\");"
   ]
  },
  {
   "cell_type": "markdown",
   "metadata": {
    "run_control": {
     "frozen": false,
     "read_only": false
    }
   },
   "source": [
    "## Extra credit: calculate from scratch the stanrdardized residuals and the H leverage for the WLS model and discuss if there are any differences"
   ]
  },
  {
   "cell_type": "markdown",
   "metadata": {
    "run_control": {
     "frozen": false,
     "read_only": false
    }
   },
   "source": [
    "## Discuss your findings"
   ]
  },
  {
   "cell_type": "code",
   "execution_count": null,
   "metadata": {},
   "outputs": [],
   "source": []
  }
 ],
 "metadata": {
  "anaconda-cloud": {},
  "kernelspec": {
   "display_name": "PUI2016_Python2",
   "language": "python",
   "name": "pui2016_python2"
  },
  "language_info": {
   "codemirror_mode": {
    "name": "ipython",
    "version": 2
   },
   "file_extension": ".py",
   "mimetype": "text/x-python",
   "name": "python",
   "nbconvert_exporter": "python",
   "pygments_lexer": "ipython2",
   "version": "2.7.12"
  },
  "latex_envs": {
   "LaTeX_envs_menu_present": true,
   "bibliofile": "biblio.bib",
   "cite_by": "apalike",
   "current_citInitial": 1,
   "eqLabelWithNumbers": true,
   "eqNumInitial": 1,
   "hotkeys": {
    "equation": "Ctrl-E",
    "itemize": "Ctrl-I"
   },
   "labels_anchors": false,
   "latex_user_defs": false,
   "report_style_numbering": false,
   "user_envs_cfg": false
  },
  "toc": {
   "colors": {
    "hover_highlight": "#DAA520",
    "running_highlight": "#FF0000",
    "selected_highlight": "#FFD700"
   },
   "moveMenuLeft": true,
   "nav_menu": {
    "height": "13px",
    "width": "251px"
   },
   "navigate_menu": true,
   "number_sections": true,
   "sideBar": true,
   "threshold": 4,
   "toc_cell": true,
   "toc_section_display": "block",
   "toc_window_display": true
  }
 },
 "nbformat": 4,
 "nbformat_minor": 1
}
