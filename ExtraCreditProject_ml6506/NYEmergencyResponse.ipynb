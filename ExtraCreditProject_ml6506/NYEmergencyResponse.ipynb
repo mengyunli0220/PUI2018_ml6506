{
 "cells": [
  {
   "cell_type": "markdown",
   "metadata": {},
   "source": [
    "# ExtraCreditProject_ml6506\n",
    "# Prediction of Emergency Response Time in NYC"
   ]
  },
  {
   "cell_type": "code",
   "execution_count": 546,
   "metadata": {},
   "outputs": [
    {
     "name": "stdout",
     "output_type": "stream",
     "text": [
      "Populating the interactive namespace from numpy and matplotlib\n"
     ]
    }
   ],
   "source": [
    "from __future__ import print_function, division\n",
    "import geopandas as gp\n",
    "import shapely\n",
    "import pandas as pd\n",
    "import numpy  as np\n",
    "import urllib\n",
    "import os\n",
    "from fiona.crs import from_epsg\n",
    "\n",
    "from sklearn import linear_model\n",
    "from sklearn.linear_model import LogisticRegression, RidgeClassifierCV\n",
    "from sklearn.ensemble import RandomForestClassifier, GradientBoostingClassifier\n",
    "from sklearn import preprocessing\n",
    "from sklearn.cross_validation import train_test_split\n",
    "from sklearn.metrics import roc_curve\n",
    "\n",
    "from sklearn import ensemble\n",
    "from sklearn import metrics\n",
    "from sklearn import tree\n",
    "from sklearn.metrics import confusion_matrix\n",
    "from sklearn.ensemble  import RandomForestClassifier as rfc\n",
    "\n",
    "import pylab as pl\n",
    "pl.rcParams[\"font.size\"] = 18\n",
    "pl.rcParams[\"figure.figsize\"] = (10,10)\n",
    "%pylab inline"
   ]
  },
  {
   "cell_type": "markdown",
   "metadata": {},
   "source": [
    "# Reading in Data\n",
    "##### data sourced from (https://data.cityofnewyork.us/Public-Safety/Emergency-Response-Incidents/pasr-j7fb) "
   ]
  },
  {
   "cell_type": "code",
   "execution_count": 547,
   "metadata": {},
   "outputs": [
    {
     "name": "stdout",
     "output_type": "stream",
     "text": [
      "  % Total    % Received % Xferd  Average Speed   Time    Time     Time  Current\n",
      "                                 Dload  Upload   Total   Spent    Left  Speed\n",
      "100  904k    0  904k    0     0  1803k      0 --:--:-- --:--:-- --:--:-- 1802k\n"
     ]
    }
   ],
   "source": [
    "!curl -O https://data.cityofnewyork.us/api/views/pasr-j7fb/rows.csv?accessType=DOWNLOAD"
   ]
  },
  {
   "cell_type": "code",
   "execution_count": 548,
   "metadata": {},
   "outputs": [],
   "source": [
    "!mv rows.csv\\?accessType\\=DOWNLOAD $PUIDATA/NYEmerResp.csv"
   ]
  },
  {
   "cell_type": "code",
   "execution_count": 549,
   "metadata": {},
   "outputs": [],
   "source": [
    "NYEmerResp = pd.read_csv(os.getenv(\"PUIDATA\") + \"/NYEmerResp.csv\")"
   ]
  },
  {
   "cell_type": "code",
   "execution_count": 550,
   "metadata": {},
   "outputs": [
    {
     "data": {
      "text/html": [
       "<div>\n",
       "<table border=\"1\" class=\"dataframe\">\n",
       "  <thead>\n",
       "    <tr style=\"text-align: right;\">\n",
       "      <th></th>\n",
       "      <th>Incident Type</th>\n",
       "      <th>Location</th>\n",
       "      <th>Borough</th>\n",
       "      <th>Creation Date</th>\n",
       "      <th>Closed Date</th>\n",
       "      <th>Latitude</th>\n",
       "      <th>Longitude</th>\n",
       "    </tr>\n",
       "  </thead>\n",
       "  <tbody>\n",
       "    <tr>\n",
       "      <th>0</th>\n",
       "      <td>Utility-Water Main</td>\n",
       "      <td>136-17 72 Avenue</td>\n",
       "      <td>Queens</td>\n",
       "      <td>01/16/2017 01:13:38 PM</td>\n",
       "      <td>NaN</td>\n",
       "      <td>40.714004</td>\n",
       "      <td>-73.829989</td>\n",
       "    </tr>\n",
       "    <tr>\n",
       "      <th>1</th>\n",
       "      <td>Structural-Sidewalk Collapse</td>\n",
       "      <td>927 Broadway</td>\n",
       "      <td>Manhattan</td>\n",
       "      <td>10/29/2016 12:13:31 PM</td>\n",
       "      <td>NaN</td>\n",
       "      <td>40.714422</td>\n",
       "      <td>-74.006076</td>\n",
       "    </tr>\n",
       "    <tr>\n",
       "      <th>2</th>\n",
       "      <td>Utility-Other</td>\n",
       "      <td>NaN</td>\n",
       "      <td>Manhattan</td>\n",
       "      <td>11/22/2016 08:53:17 AM</td>\n",
       "      <td>NaN</td>\n",
       "      <td>NaN</td>\n",
       "      <td>NaN</td>\n",
       "    </tr>\n",
       "    <tr>\n",
       "      <th>3</th>\n",
       "      <td>Administration-Other</td>\n",
       "      <td>Seagirt Blvd &amp; Beach 9 Street</td>\n",
       "      <td>Queens</td>\n",
       "      <td>11/14/2016 03:53:54 PM</td>\n",
       "      <td>NaN</td>\n",
       "      <td>40.714004</td>\n",
       "      <td>-73.829989</td>\n",
       "    </tr>\n",
       "    <tr>\n",
       "      <th>4</th>\n",
       "      <td>Law Enforcement-Other</td>\n",
       "      <td>NaN</td>\n",
       "      <td>Brooklyn</td>\n",
       "      <td>10/29/2016 05:35:28 PM</td>\n",
       "      <td>NaN</td>\n",
       "      <td>NaN</td>\n",
       "      <td>NaN</td>\n",
       "    </tr>\n",
       "  </tbody>\n",
       "</table>\n",
       "</div>"
      ],
      "text/plain": [
       "                  Incident Type                       Location    Borough  \\\n",
       "0            Utility-Water Main               136-17 72 Avenue     Queens   \n",
       "1  Structural-Sidewalk Collapse                   927 Broadway  Manhattan   \n",
       "2                 Utility-Other                            NaN  Manhattan   \n",
       "3          Administration-Other  Seagirt Blvd & Beach 9 Street     Queens   \n",
       "4         Law Enforcement-Other                            NaN   Brooklyn   \n",
       "\n",
       "            Creation Date Closed Date   Latitude  Longitude  \n",
       "0  01/16/2017 01:13:38 PM         NaN  40.714004 -73.829989  \n",
       "1  10/29/2016 12:13:31 PM         NaN  40.714422 -74.006076  \n",
       "2  11/22/2016 08:53:17 AM         NaN        NaN        NaN  \n",
       "3  11/14/2016 03:53:54 PM         NaN  40.714004 -73.829989  \n",
       "4  10/29/2016 05:35:28 PM         NaN        NaN        NaN  "
      ]
     },
     "execution_count": 550,
     "metadata": {},
     "output_type": "execute_result"
    }
   ],
   "source": [
    "NYEmerResp.head()"
   ]
  },
  {
   "cell_type": "code",
   "execution_count": 551,
   "metadata": {},
   "outputs": [],
   "source": [
    "NYEmerResp.dropna(inplace=True)"
   ]
  },
  {
   "cell_type": "code",
   "execution_count": 552,
   "metadata": {},
   "outputs": [
    {
     "data": {
      "text/plain": [
       "(4999, 7)"
      ]
     },
     "execution_count": 552,
     "metadata": {},
     "output_type": "execute_result"
    }
   ],
   "source": [
    "NYEmerResp.shape"
   ]
  },
  {
   "cell_type": "markdown",
   "metadata": {},
   "source": [
    "# Data Viz"
   ]
  },
  {
   "cell_type": "code",
   "execution_count": 553,
   "metadata": {},
   "outputs": [],
   "source": [
    "NYEmerResp['lonlat'] = list(zip(NYEmerResp.Longitude, NYEmerResp.Latitude))"
   ]
  },
  {
   "cell_type": "markdown",
   "metadata": {},
   "source": [
    "#### I found there is a error value in Longitude by plotting them in geopandas, so I correct it down below"
   ]
  },
  {
   "cell_type": "code",
   "execution_count": 554,
   "metadata": {},
   "outputs": [
    {
     "data": {
      "text/html": [
       "<div>\n",
       "<table border=\"1\" class=\"dataframe\">\n",
       "  <thead>\n",
       "    <tr style=\"text-align: right;\">\n",
       "      <th></th>\n",
       "      <th>Incident Type</th>\n",
       "      <th>Location</th>\n",
       "      <th>Borough</th>\n",
       "      <th>Creation Date</th>\n",
       "      <th>Closed Date</th>\n",
       "      <th>Latitude</th>\n",
       "      <th>Longitude</th>\n",
       "      <th>lonlat</th>\n",
       "    </tr>\n",
       "  </thead>\n",
       "  <tbody>\n",
       "    <tr>\n",
       "      <th>1961</th>\n",
       "      <td>Utility-Power Outage</td>\n",
       "      <td>Vermont Avenue  &amp; Hyland Blvd</td>\n",
       "      <td>Staten Island</td>\n",
       "      <td>06/12/2015 07:36:57 AM</td>\n",
       "      <td>06/12/2015 10:28:17 AM</td>\n",
       "      <td>40.614000</td>\n",
       "      <td>74.071800</td>\n",
       "      <td>(74.0718, 40.614)</td>\n",
       "    </tr>\n",
       "    <tr>\n",
       "      <th>2131</th>\n",
       "      <td>Administration-OEM Involved MVA</td>\n",
       "      <td>Searing Avenue &amp; Roslyn Road</td>\n",
       "      <td>Nassau</td>\n",
       "      <td>04/18/2013 09:33:22 PM</td>\n",
       "      <td>04/18/2013 11:10:39 PM</td>\n",
       "      <td>40.767784</td>\n",
       "      <td>-73.679726</td>\n",
       "      <td>(-73.6797257815, 40.7677841535)</td>\n",
       "    </tr>\n",
       "    <tr>\n",
       "      <th>5603</th>\n",
       "      <td>Utility-Power Outage</td>\n",
       "      <td>271-11 76 Ave</td>\n",
       "      <td>Queens</td>\n",
       "      <td>09/19/2011 06:39:59 PM</td>\n",
       "      <td>09/20/2011 06:47:58 AM</td>\n",
       "      <td>40.754148</td>\n",
       "      <td>-73.705918</td>\n",
       "      <td>(-73.7059176995, 40.7541482608)</td>\n",
       "    </tr>\n",
       "    <tr>\n",
       "      <th>6866</th>\n",
       "      <td>Utility-Water Service Line</td>\n",
       "      <td>271-11 76th Avenue</td>\n",
       "      <td>Queens</td>\n",
       "      <td>09/17/2013 07:10:00 AM</td>\n",
       "      <td>11/05/2013 07:22:29 PM</td>\n",
       "      <td>40.754094</td>\n",
       "      <td>-73.705976</td>\n",
       "      <td>(-73.7059756917, 40.7540935136)</td>\n",
       "    </tr>\n",
       "    <tr>\n",
       "      <th>3783</th>\n",
       "      <td>HazMat-High Carbon Monoxide</td>\n",
       "      <td>260-08 86th Avenue</td>\n",
       "      <td>Queens</td>\n",
       "      <td>04/10/2015 03:37:38 PM</td>\n",
       "      <td>04/10/2015 09:09:36 PM</td>\n",
       "      <td>40.733521</td>\n",
       "      <td>-73.706705</td>\n",
       "      <td>(-73.7067051375, 40.7335206112)</td>\n",
       "    </tr>\n",
       "  </tbody>\n",
       "</table>\n",
       "</div>"
      ],
      "text/plain": [
       "                        Incident Type                       Location  \\\n",
       "1961             Utility-Power Outage  Vermont Avenue  & Hyland Blvd   \n",
       "2131  Administration-OEM Involved MVA   Searing Avenue & Roslyn Road   \n",
       "5603             Utility-Power Outage                  271-11 76 Ave   \n",
       "6866       Utility-Water Service Line             271-11 76th Avenue   \n",
       "3783      HazMat-High Carbon Monoxide             260-08 86th Avenue   \n",
       "\n",
       "            Borough           Creation Date             Closed Date  \\\n",
       "1961  Staten Island  06/12/2015 07:36:57 AM  06/12/2015 10:28:17 AM   \n",
       "2131         Nassau  04/18/2013 09:33:22 PM  04/18/2013 11:10:39 PM   \n",
       "5603         Queens  09/19/2011 06:39:59 PM  09/20/2011 06:47:58 AM   \n",
       "6866         Queens  09/17/2013 07:10:00 AM  11/05/2013 07:22:29 PM   \n",
       "3783         Queens  04/10/2015 03:37:38 PM  04/10/2015 09:09:36 PM   \n",
       "\n",
       "       Latitude  Longitude                           lonlat  \n",
       "1961  40.614000  74.071800                (74.0718, 40.614)  \n",
       "2131  40.767784 -73.679726  (-73.6797257815, 40.7677841535)  \n",
       "5603  40.754148 -73.705918  (-73.7059176995, 40.7541482608)  \n",
       "6866  40.754094 -73.705976  (-73.7059756917, 40.7540935136)  \n",
       "3783  40.733521 -73.706705  (-73.7067051375, 40.7335206112)  "
      ]
     },
     "execution_count": 554,
     "metadata": {},
     "output_type": "execute_result"
    }
   ],
   "source": [
    "res = NYEmerResp.sort_values('Longitude', ascending = False)\n",
    "res.head()"
   ]
  },
  {
   "cell_type": "code",
   "execution_count": 555,
   "metadata": {},
   "outputs": [],
   "source": [
    "NYEmerResp.drop([1961], inplace = True);"
   ]
  },
  {
   "cell_type": "code",
   "execution_count": 556,
   "metadata": {},
   "outputs": [],
   "source": [
    "NYEmerResp_gp = NYEmerResp"
   ]
  },
  {
   "cell_type": "code",
   "execution_count": 557,
   "metadata": {},
   "outputs": [],
   "source": [
    "NYEmerResp_gp['geometry'] = NYEmerResp_gp[['lonlat']].applymap(lambda x:shapely.geometry.Point(x))\n",
    "NYEmerResp_gp = gp.GeoDataFrame(NYEmerResp_gp)"
   ]
  },
  {
   "cell_type": "code",
   "execution_count": 558,
   "metadata": {},
   "outputs": [
    {
     "data": {
      "text/plain": [
       "<matplotlib.axes._subplots.AxesSubplot at 0x7f28d9420a20>"
      ]
     },
     "execution_count": 558,
     "metadata": {},
     "output_type": "execute_result"
    },
    {
     "data": {
      "image/png": "[encoded data removed]",
      "text/plain": [
       "<matplotlib.figure.Figure at 0x7f28d92bf668>"
      ]
     },
     "metadata": {},
     "output_type": "display_data"
    }
   ],
   "source": [
    "NYEmerResp_gp.crs= from_epsg(4326)\n",
    "NYEmerResp_gp.to_crs(epsg=2263, inplace = True)\n",
    "NYEmerResp_gp.plot()"
   ]
  },
  {
   "cell_type": "markdown",
   "metadata": {},
   "source": [
    "### Figure1. Cases distribution in NYC"
   ]
  },
  {
   "cell_type": "code",
   "execution_count": 561,
   "metadata": {},
   "outputs": [
    {
     "data": {
      "text/plain": [
       "('file.gz', <http.client.HTTPMessage at 0x7f28d947bda0>)"
      ]
     },
     "execution_count": 561,
     "metadata": {},
     "output_type": "execute_result"
    }
   ],
   "source": [
    "url = \"https://data.cityofnewyork.us/api/geospatial/tqmj-j8zm?method=export&format=Shapefile\"\n",
    "urllib.request.urlretrieve(url, \"file.gz\")"
   ]
  },
  {
   "cell_type": "code",
   "execution_count": 562,
   "metadata": {},
   "outputs": [
    {
     "name": "stdout",
     "output_type": "stream",
     "text": [
      "Archive:  file.gz\n",
      "  inflating: /nfshome/ml6506/PUIdata/geo_export_6b74762c-51bf-41c3-b5bc-58c0cf3260d4.dbf  \n",
      "  inflating: /nfshome/ml6506/PUIdata/geo_export_6b74762c-51bf-41c3-b5bc-58c0cf3260d4.shp  \n",
      "  inflating: /nfshome/ml6506/PUIdata/geo_export_6b74762c-51bf-41c3-b5bc-58c0cf3260d4.shx  \n",
      "  inflating: /nfshome/ml6506/PUIdata/geo_export_6b74762c-51bf-41c3-b5bc-58c0cf3260d4.prj  \n"
     ]
    }
   ],
   "source": [
    "!unzip -d $PUIDATA file.gz"
   ]
  },
  {
   "cell_type": "code",
   "execution_count": 563,
   "metadata": {},
   "outputs": [],
   "source": [
    "boro = gp.GeoDataFrame.from_file(os.getenv(\"PUIDATA\") + \n",
    "                                 \"/geo_export_f4a61e65-eb61-4276-b782-53f52b3802fd.shp\")"
   ]
  },
  {
   "cell_type": "code",
   "execution_count": 564,
   "metadata": {},
   "outputs": [],
   "source": [
    "boro.crs= from_epsg(4326)\n",
    "boro.to_crs(epsg=2263, inplace = True)"
   ]
  },
  {
   "cell_type": "code",
   "execution_count": 565,
   "metadata": {},
   "outputs": [
    {
     "data": {
      "text/plain": [
       "(903669.0917996905, 1083455.3175172159, 111191.91223960771, 281940.087673662)"
      ]
     },
     "execution_count": 565,
     "metadata": {},
     "output_type": "execute_result"
    },
    {
     "data": {
      "image/png": "[encoded data removed]",
      "text/plain": [
       "<matplotlib.figure.Figure at 0x7f28d9405978>"
      ]
     },
     "metadata": {},
     "output_type": "display_data"
    }
   ],
   "source": [
    "ax = boro.plot(facecolor=\"w\", edgecolor=\"k\")\n",
    "NYEmerResp_gp.plot(ax=ax)\n",
    "ax.axis('off')"
   ]
  },
  {
   "cell_type": "markdown",
   "metadata": {},
   "source": [
    "### Figure2. Cases distribution in NYC with boundary"
   ]
  },
  {
   "cell_type": "markdown",
   "metadata": {},
   "source": [
    "# Clean up Data"
   ]
  },
  {
   "cell_type": "code",
   "execution_count": 566,
   "metadata": {},
   "outputs": [
    {
     "data": {
      "text/html": [
       "<div>\n",
       "<table border=\"1\" class=\"dataframe\">\n",
       "  <thead>\n",
       "    <tr style=\"text-align: right;\">\n",
       "      <th></th>\n",
       "      <th>Incident Type</th>\n",
       "      <th>Borough</th>\n",
       "      <th>Creation Date</th>\n",
       "      <th>Closed Date</th>\n",
       "      <th>Latitude</th>\n",
       "      <th>Longitude</th>\n",
       "      <th>lonlat</th>\n",
       "      <th>geometry</th>\n",
       "    </tr>\n",
       "  </thead>\n",
       "  <tbody>\n",
       "    <tr>\n",
       "      <th>11</th>\n",
       "      <td>Fire-3rd Alarm</td>\n",
       "      <td>new york</td>\n",
       "      <td>11/30/2016 12:25:38 AM</td>\n",
       "      <td>11/30/2016 04:22:22 AM</td>\n",
       "      <td>40.667490</td>\n",
       "      <td>-73.994286</td>\n",
       "      <td>(-73.9942860004, 40.6674897029)</td>\n",
       "      <td>POINT (985835.155156477 182460.9466399394)</td>\n",
       "    </tr>\n",
       "    <tr>\n",
       "      <th>52</th>\n",
       "      <td>Rescue-Technical</td>\n",
       "      <td>Queens</td>\n",
       "      <td>11/22/2016 12:24:02 PM</td>\n",
       "      <td>11/22/2016 06:27:30 PM</td>\n",
       "      <td>40.714004</td>\n",
       "      <td>-73.829989</td>\n",
       "      <td>(-73.8299893315, 40.714003641)</td>\n",
       "      <td>POINT (1031380.767334146 199453.0226717225)</td>\n",
       "    </tr>\n",
       "    <tr>\n",
       "      <th>63</th>\n",
       "      <td>Fire-1st Alarm</td>\n",
       "      <td>Far Rockaway</td>\n",
       "      <td>08/04/2017 02:08:12 PM</td>\n",
       "      <td>08/04/2017 02:49:18 PM</td>\n",
       "      <td>40.595224</td>\n",
       "      <td>-73.781105</td>\n",
       "      <td>(-73.7811048299, 40.5952240909)</td>\n",
       "      <td>POINT (1045040.759909836 156208.5491830893)</td>\n",
       "    </tr>\n",
       "    <tr>\n",
       "      <th>64</th>\n",
       "      <td>Law Enforcement-Suspicious Package</td>\n",
       "      <td>Brooklyn</td>\n",
       "      <td>08/04/2017 05:35:14 PM</td>\n",
       "      <td>08/04/2017 06:08:54 PM</td>\n",
       "      <td>40.614392</td>\n",
       "      <td>-74.031187</td>\n",
       "      <td>(-74.0311868027, 40.6143922637)</td>\n",
       "      <td>POINT (975591.3935548743 163117.5957336107)</td>\n",
       "    </tr>\n",
       "    <tr>\n",
       "      <th>66</th>\n",
       "      <td>Utility-Steam Main</td>\n",
       "      <td>Manhattan</td>\n",
       "      <td>08/04/2017 08:07:43 AM</td>\n",
       "      <td>08/04/2017 11:43:58 PM</td>\n",
       "      <td>40.754862</td>\n",
       "      <td>-73.968543</td>\n",
       "      <td>(-73.968543, 40.754862)</td>\n",
       "      <td>POINT (992965.2449583234 214294.8353438493)</td>\n",
       "    </tr>\n",
       "  </tbody>\n",
       "</table>\n",
       "</div>"
      ],
      "text/plain": [
       "                         Incident Type       Borough           Creation Date  \\\n",
       "11                      Fire-3rd Alarm      new york  11/30/2016 12:25:38 AM   \n",
       "52                    Rescue-Technical        Queens  11/22/2016 12:24:02 PM   \n",
       "63                      Fire-1st Alarm  Far Rockaway  08/04/2017 02:08:12 PM   \n",
       "64  Law Enforcement-Suspicious Package      Brooklyn  08/04/2017 05:35:14 PM   \n",
       "66                  Utility-Steam Main     Manhattan  08/04/2017 08:07:43 AM   \n",
       "\n",
       "               Closed Date   Latitude  Longitude  \\\n",
       "11  11/30/2016 04:22:22 AM  40.667490 -73.994286   \n",
       "52  11/22/2016 06:27:30 PM  40.714004 -73.829989   \n",
       "63  08/04/2017 02:49:18 PM  40.595224 -73.781105   \n",
       "64  08/04/2017 06:08:54 PM  40.614392 -74.031187   \n",
       "66  08/04/2017 11:43:58 PM  40.754862 -73.968543   \n",
       "\n",
       "                             lonlat  \\\n",
       "11  (-73.9942860004, 40.6674897029)   \n",
       "52   (-73.8299893315, 40.714003641)   \n",
       "63  (-73.7811048299, 40.5952240909)   \n",
       "64  (-74.0311868027, 40.6143922637)   \n",
       "66          (-73.968543, 40.754862)   \n",
       "\n",
       "                                       geometry  \n",
       "11   POINT (985835.155156477 182460.9466399394)  \n",
       "52  POINT (1031380.767334146 199453.0226717225)  \n",
       "63  POINT (1045040.759909836 156208.5491830893)  \n",
       "64  POINT (975591.3935548743 163117.5957336107)  \n",
       "66  POINT (992965.2449583234 214294.8353438493)  "
      ]
     },
     "execution_count": 566,
     "metadata": {},
     "output_type": "execute_result"
    }
   ],
   "source": [
    "NYEmerResp.drop(['Location'], axis = 1, inplace = True)\n",
    "NYEmerResp.head()"
   ]
  },
  {
   "cell_type": "markdown",
   "metadata": {},
   "source": [
    "### Borough Clean"
   ]
  },
  {
   "cell_type": "code",
   "execution_count": 567,
   "metadata": {},
   "outputs": [
    {
     "data": {
      "text/plain": [
       "array(['new york', 'Queens', 'Far Rockaway', 'Brooklyn', 'Manhattan',\n",
       "       'Bronx', 'manhattan', 'bronx', 'New York', 'Jamaice', 'queens',\n",
       "       'Staten Island', 'Long Island City', 'Staten ISland', 'New Yotk',\n",
       "       'staten island', 'Bronx (NYCHA)', 'Manhaatan', 'BRonx',\n",
       "       'New York/Manhattan', 'Mnahattan', 'QUEENS', 'Nassau', 'Jamaica',\n",
       "       'Manahttan', 'Manhatten', 'Manhatan', 'quenns',\n",
       "       'Brooklyn (NYCHA-Brevoort)', 'Staten Island (Midland Beach Area)',\n",
       "       'nyc', 'Hollis', 'MANHATTAN', 'Manhttan',\n",
       "       'Manhattan (Waldorf Astoria)', 'Mahattan', 'Staten island',\n",
       "       'Manhattan (Pier 92)', 'staten Island', 'BrONX', 'NewYork',\n",
       "       'Manhhattan', 'Mamhattan'], dtype=object)"
      ]
     },
     "execution_count": 567,
     "metadata": {},
     "output_type": "execute_result"
    }
   ],
   "source": [
    "NYEmerResp.Borough.unique()"
   ]
  },
  {
   "cell_type": "code",
   "execution_count": 568,
   "metadata": {},
   "outputs": [
    {
     "data": {
      "text/plain": [
       "array(['New York', 'Queens', 'Far Rockaway', 'Brooklyn', 'Manhattan',\n",
       "       'Bronx', 'Jamaica', 'Staten Island', 'Long Island City', 'Nassau',\n",
       "       'Hollis'], dtype=object)"
      ]
     },
     "execution_count": 568,
     "metadata": {},
     "output_type": "execute_result"
    }
   ],
   "source": [
    "NYEmerResp.Borough.replace(['Manhattah', 'manhattan', \n",
    "                            'Manhaatan', 'New York/Manhattan',\n",
    "                            'Mnahattan','Manhatan', 'Manhttan', \n",
    "                            'Manhatten', 'Manahttan', 'Manhhattan', \n",
    "                            'Mamhattan', 'MANHATTAN', 'Manhattan (Pier 92)', \n",
    "                            'Manhattan (Waldorf Astoria)', 'Mahattan'], 'Manhattan', inplace = True)\n",
    "NYEmerResp.Borough.replace(['queens', 'QUEENS', 'quenns'], 'Queens', inplace = True)\n",
    "NYEmerResp.Borough.replace(['Brooklyn (NYCHA-Brevoort)'], 'Brooklyn', inplace = True)\n",
    "NYEmerResp.Borough.replace(['bronx', 'Bronx (NYCHA)', 'BRonx', 'BrONX'], 'Bronx', inplace = True)\n",
    "NYEmerResp.Borough.replace(['Jamaice'], 'Jamaica', inplace = True)\n",
    "NYEmerResp.Borough.replace(['Staten ISland', 'staten island', 'staten Island', \n",
    "                            'Staten island', 'Staten Island (Midland Beach Area)',\n",
    "                            'Staten Island (Midland Beach Area)', 'SI', 'Richmond/Staten Island'], 'Staten Island',  inplace = True)\n",
    "NYEmerResp.Borough.replace(['new york', 'New Yotk', 'nyc', 'NewYork', 'new York'], 'New York', inplace = True)\n",
    "\n",
    "\n",
    "NYEmerResp.Borough.unique()"
   ]
  },
  {
   "cell_type": "markdown",
   "metadata": {},
   "source": [
    "### Incident Type Clean"
   ]
  },
  {
   "cell_type": "code",
   "execution_count": 569,
   "metadata": {},
   "outputs": [
    {
     "name": "stdout",
     "output_type": "stream",
     "text": [
      "['Fire-3rd Alarm' 'Rescue-Technical' 'Fire-1st Alarm'\n",
      " 'Law Enforcement-Suspicious Package' 'Utility-Steam Main'\n",
      " 'Structural-Street Collapse' 'Utility-Gas Low Pressure' 'Utility-Manhole'\n",
      " 'Transportation-Other' 'Transportation-Train Subway' 'Structural-Other'\n",
      " 'Utility-Other' 'Structural-Construction Accident'\n",
      " 'Structural-Partial Collapse' 'Utility-Power Outage' 'Rescue-High Angle'\n",
      " 'Law Enforcement-Other' 'Utility-Gas High Pressure'\n",
      " 'Fire-10-76 (Commercial High Rise Fire)' 'Fire-2nd Alarm' 'Fire-5th Alarm'\n",
      " 'Utility-Water Main' 'Fire-School' 'Rescue-Confined Space'\n",
      " 'Structural-Life Safety Violations' 'Structural-Scaffold'\n",
      " 'Structural-Evacuation' 'Marine-Passenger Liner'\n",
      " 'Law Enforcement-Explosion' 'Fire-Nursing Home' 'Structural-Collapse'\n",
      " 'Structural-Sidewalk Collapse' 'Structural-Crane' 'Fire-Other'\n",
      " 'Structural-Demolition' 'Aviation-Other' 'Rescue-Other' 'HazMat-Other'\n",
      " 'Administration-Planned Event' 'Fire-10-77 (Residential High Rise Fire)'\n",
      " 'Medical-EMS MCI (Multiple Casualty Incident)' 'Administration-Other'\n",
      " 'Law Enforcement-Device' 'Structural-Falling Debris'\n",
      " 'Structural-Sidewalk Shed' 'Fire-4th Alarm' 'Structural-Stability Problem'\n",
      " 'HazMat-Fuel' 'Utility-Water Service Line' 'HazMat-High Carbon Monoxide'\n",
      " 'Fire-Haz Mat' 'Fire-7th Alarm' 'HazMat-Chemical' 'Fire-Manhole'\n",
      " 'Structural-Bricks' 'Law Enforcement-Mobilization' 'Fire-Hospital'\n",
      " 'Fire-Collapse' 'Fire-Sensitive Location' 'HazMat-Liquid'\n",
      " 'Structural-Confined Space' 'Rescue-Catwalk Collapse'\n",
      " 'LawEnforcement-Suspicious Package' 'Utility-Sewer Service'\n",
      " 'Fire-Transformer Fire' 'Transportation-Car' 'Structural-Elevator'\n",
      " 'Utility-Gas Service Line' 'Structural-Bridge' 'LawEnforcement-Device'\n",
      " 'HazMat-Powder' 'Utility-Electric Overhead' 'Fire-High Rise'\n",
      " 'Weather-Flooding' 'Fire-10-77 (Residential High Rise)'\n",
      " 'HazMat-White Powder' 'Utility-Electric Feeder Cable'\n",
      " 'Medical-Fumes in Court House' 'Fire-10-76 (Commercial High Rise)'\n",
      " 'Fire-Explosion' 'Administration-Watch Commander In Hospital'\n",
      " 'Utility-Transformer' 'Rescue-Fall' 'Administration-Drill'\n",
      " 'Utility-Gas Main Rupture' 'Transportation-Commuter Bus' 'Medical-Other'\n",
      " 'HazMat-Solid' 'Transportation-School Bus' 'Utility-Item Retrieval'\n",
      " 'Utility-Heat Outage' 'Fire-arcing in electric panel'\n",
      " 'Other-Tree into House' 'Other-Elevated CO Levels' 'Fire-6th Alarm'\n",
      " 'Structural-Cracks' 'Structural-Parapet' 'HazMat-white powder'\n",
      " 'Transportation-Truck Stuck in Tunnel']\n"
     ]
    }
   ],
   "source": [
    "NYEmerResp.head()\n",
    "print(NYEmerResp['Incident Type'][:500].unique())"
   ]
  },
  {
   "cell_type": "code",
   "execution_count": 570,
   "metadata": {},
   "outputs": [
    {
     "name": "stdout",
     "output_type": "stream",
     "text": [
      "['Fire' 'Rescue' 'Law Enforcement' 'Utility' 'Structural' 'Transportation'\n",
      " 'Marine' 'Aviation' 'HazMat' 'Administration' 'Medical' 'LawEnforcement'\n",
      " 'Weather' 'Other']\n"
     ]
    }
   ],
   "source": [
    "NYEmerResp['Incident Type'] = NYEmerResp['Incident Type'].str.split('-', expand=True)[0]\n",
    "print(NYEmerResp['Incident Type'].unique())"
   ]
  },
  {
   "cell_type": "code",
   "execution_count": 571,
   "metadata": {},
   "outputs": [
    {
     "data": {
      "text/html": [
       "<div>\n",
       "<table border=\"1\" class=\"dataframe\">\n",
       "  <thead>\n",
       "    <tr style=\"text-align: right;\">\n",
       "      <th></th>\n",
       "      <th>Incident Type</th>\n",
       "      <th>Borough</th>\n",
       "      <th>Creation Date</th>\n",
       "      <th>Closed Date</th>\n",
       "      <th>Latitude</th>\n",
       "      <th>Longitude</th>\n",
       "      <th>lonlat</th>\n",
       "      <th>geometry</th>\n",
       "    </tr>\n",
       "  </thead>\n",
       "  <tbody>\n",
       "    <tr>\n",
       "      <th>11</th>\n",
       "      <td>Fire</td>\n",
       "      <td>New York</td>\n",
       "      <td>11/30/2016 12:25:38 AM</td>\n",
       "      <td>11/30/2016 04:22:22 AM</td>\n",
       "      <td>40.667490</td>\n",
       "      <td>-73.994286</td>\n",
       "      <td>(-73.9942860004, 40.6674897029)</td>\n",
       "      <td>POINT (985835.155156477 182460.9466399394)</td>\n",
       "    </tr>\n",
       "    <tr>\n",
       "      <th>52</th>\n",
       "      <td>Rescue</td>\n",
       "      <td>Queens</td>\n",
       "      <td>11/22/2016 12:24:02 PM</td>\n",
       "      <td>11/22/2016 06:27:30 PM</td>\n",
       "      <td>40.714004</td>\n",
       "      <td>-73.829989</td>\n",
       "      <td>(-73.8299893315, 40.714003641)</td>\n",
       "      <td>POINT (1031380.767334146 199453.0226717225)</td>\n",
       "    </tr>\n",
       "    <tr>\n",
       "      <th>63</th>\n",
       "      <td>Fire</td>\n",
       "      <td>Far Rockaway</td>\n",
       "      <td>08/04/2017 02:08:12 PM</td>\n",
       "      <td>08/04/2017 02:49:18 PM</td>\n",
       "      <td>40.595224</td>\n",
       "      <td>-73.781105</td>\n",
       "      <td>(-73.7811048299, 40.5952240909)</td>\n",
       "      <td>POINT (1045040.759909836 156208.5491830893)</td>\n",
       "    </tr>\n",
       "    <tr>\n",
       "      <th>64</th>\n",
       "      <td>Law Enforcement</td>\n",
       "      <td>Brooklyn</td>\n",
       "      <td>08/04/2017 05:35:14 PM</td>\n",
       "      <td>08/04/2017 06:08:54 PM</td>\n",
       "      <td>40.614392</td>\n",
       "      <td>-74.031187</td>\n",
       "      <td>(-74.0311868027, 40.6143922637)</td>\n",
       "      <td>POINT (975591.3935548743 163117.5957336107)</td>\n",
       "    </tr>\n",
       "    <tr>\n",
       "      <th>66</th>\n",
       "      <td>Utility</td>\n",
       "      <td>Manhattan</td>\n",
       "      <td>08/04/2017 08:07:43 AM</td>\n",
       "      <td>08/04/2017 11:43:58 PM</td>\n",
       "      <td>40.754862</td>\n",
       "      <td>-73.968543</td>\n",
       "      <td>(-73.968543, 40.754862)</td>\n",
       "      <td>POINT (992965.2449583234 214294.8353438493)</td>\n",
       "    </tr>\n",
       "  </tbody>\n",
       "</table>\n",
       "</div>"
      ],
      "text/plain": [
       "      Incident Type       Borough           Creation Date  \\\n",
       "11             Fire      New York  11/30/2016 12:25:38 AM   \n",
       "52           Rescue        Queens  11/22/2016 12:24:02 PM   \n",
       "63             Fire  Far Rockaway  08/04/2017 02:08:12 PM   \n",
       "64  Law Enforcement      Brooklyn  08/04/2017 05:35:14 PM   \n",
       "66          Utility     Manhattan  08/04/2017 08:07:43 AM   \n",
       "\n",
       "               Closed Date   Latitude  Longitude  \\\n",
       "11  11/30/2016 04:22:22 AM  40.667490 -73.994286   \n",
       "52  11/22/2016 06:27:30 PM  40.714004 -73.829989   \n",
       "63  08/04/2017 02:49:18 PM  40.595224 -73.781105   \n",
       "64  08/04/2017 06:08:54 PM  40.614392 -74.031187   \n",
       "66  08/04/2017 11:43:58 PM  40.754862 -73.968543   \n",
       "\n",
       "                             lonlat  \\\n",
       "11  (-73.9942860004, 40.6674897029)   \n",
       "52   (-73.8299893315, 40.714003641)   \n",
       "63  (-73.7811048299, 40.5952240909)   \n",
       "64  (-74.0311868027, 40.6143922637)   \n",
       "66          (-73.968543, 40.754862)   \n",
       "\n",
       "                                       geometry  \n",
       "11   POINT (985835.155156477 182460.9466399394)  \n",
       "52  POINT (1031380.767334146 199453.0226717225)  \n",
       "63  POINT (1045040.759909836 156208.5491830893)  \n",
       "64  POINT (975591.3935548743 163117.5957336107)  \n",
       "66  POINT (992965.2449583234 214294.8353438493)  "
      ]
     },
     "execution_count": 571,
     "metadata": {},
     "output_type": "execute_result"
    }
   ],
   "source": [
    "NYEmerResp.head()"
   ]
  },
  {
   "cell_type": "code",
   "execution_count": 572,
   "metadata": {},
   "outputs": [
    {
     "data": {
      "text/plain": [
       "[2, 9, 2, 4, 12, ..., 2, 4, 4, 9, 4]\n",
       "Length: 4998\n",
       "Categories (14, int64): [0, 1, 2, 3, ..., 10, 11, 12, 13]"
      ]
     },
     "execution_count": 572,
     "metadata": {},
     "output_type": "execute_result"
    }
   ],
   "source": [
    "NYEmerResp[\"Borough\"] = pd.Categorical(NYEmerResp.Borough).codes\n",
    "pd.Categorical(NYEmerResp.Borough)\n",
    "NYEmerResp[\"Incident Type\"] = pd.Categorical(NYEmerResp['Incident Type']).codes\n",
    "pd.Categorical(NYEmerResp['Incident Type'])"
   ]
  },
  {
   "cell_type": "code",
   "execution_count": 573,
   "metadata": {},
   "outputs": [
    {
     "data": {
      "text/plain": [
       "Index(['Incident Type', 'Borough', 'Creation Date', 'Closed Date', 'Latitude',\n",
       "       'Longitude', 'lonlat', 'geometry'],\n",
       "      dtype='object')"
      ]
     },
     "execution_count": 573,
     "metadata": {},
     "output_type": "execute_result"
    }
   ],
   "source": [
    "# NYEmerResp.drop(['Latitude', 'Longitude'], axis = 1, inplace = True)\n",
    "NYEmerResp.dropna(inplace=True)\n",
    "NYEmerResp = NYEmerResp.reset_index().drop('index',axis = 1)\n",
    "NYEmerResp.columns"
   ]
  },
  {
   "cell_type": "markdown",
   "metadata": {},
   "source": [
    "###  Time Length"
   ]
  },
  {
   "cell_type": "code",
   "execution_count": 574,
   "metadata": {},
   "outputs": [],
   "source": [
    "end_date = pd.to_datetime(NYEmerResp['Closed Date'])\n",
    "start_date = pd.to_datetime(NYEmerResp['Creation Date'])\n",
    "# print(lambda x: end_date[x] - start_date[x] )\n",
    "NYEmerResp['ResponseTime'] = list(map(lambda x: (end_date[x] - start_date[x]), range(NYEmerResp.shape[0])))"
   ]
  },
  {
   "cell_type": "code",
   "execution_count": 575,
   "metadata": {},
   "outputs": [],
   "source": [
    "def classifyHours(timeDelta):\n",
    "    hours = timeDelta.days*24 + timeDelta.seconds/60./60\n",
    "    # 1 hour\n",
    "    if hours <= 1: \n",
    "        return 0\n",
    "    # 1 day\n",
    "    elif hours <= 24:\n",
    "        return 1\n",
    "    # 1 week\n",
    "    elif hours <= 24*7:\n",
    "        return 2\n",
    "    # longer\n",
    "    else:\n",
    "        return 3"
   ]
  },
  {
   "cell_type": "code",
   "execution_count": 576,
   "metadata": {},
   "outputs": [],
   "source": [
    "timeLengthClassList = []\n",
    "for i in range(NYEmerResp.shape[0]):\n",
    "    timeLengthClassList.append(classifyHours(NYEmerResp['ResponseTime'][i]))"
   ]
  },
  {
   "cell_type": "code",
   "execution_count": 577,
   "metadata": {
    "scrolled": true
   },
   "outputs": [
    {
     "data": {
      "text/html": [
       "<div>\n",
       "<table border=\"1\" class=\"dataframe\">\n",
       "  <thead>\n",
       "    <tr style=\"text-align: right;\">\n",
       "      <th></th>\n",
       "      <th>Incident Type</th>\n",
       "      <th>Borough</th>\n",
       "      <th>Creation Date</th>\n",
       "      <th>Closed Date</th>\n",
       "      <th>Latitude</th>\n",
       "      <th>Longitude</th>\n",
       "      <th>lonlat</th>\n",
       "      <th>geometry</th>\n",
       "      <th>ResponseTime</th>\n",
       "      <th>timeLengthClass</th>\n",
       "    </tr>\n",
       "  </thead>\n",
       "  <tbody>\n",
       "    <tr>\n",
       "      <th>0</th>\n",
       "      <td>2</td>\n",
       "      <td>8</td>\n",
       "      <td>11/30/2016 12:25:38 AM</td>\n",
       "      <td>11/30/2016 04:22:22 AM</td>\n",
       "      <td>40.667490</td>\n",
       "      <td>-73.994286</td>\n",
       "      <td>(-73.9942860004, 40.6674897029)</td>\n",
       "      <td>POINT (985835.155156477 182460.9466399394)</td>\n",
       "      <td>03:56:44</td>\n",
       "      <td>1</td>\n",
       "    </tr>\n",
       "    <tr>\n",
       "      <th>1</th>\n",
       "      <td>9</td>\n",
       "      <td>9</td>\n",
       "      <td>11/22/2016 12:24:02 PM</td>\n",
       "      <td>11/22/2016 06:27:30 PM</td>\n",
       "      <td>40.714004</td>\n",
       "      <td>-73.829989</td>\n",
       "      <td>(-73.8299893315, 40.714003641)</td>\n",
       "      <td>POINT (1031380.767334146 199453.0226717225)</td>\n",
       "      <td>06:03:28</td>\n",
       "      <td>1</td>\n",
       "    </tr>\n",
       "    <tr>\n",
       "      <th>2</th>\n",
       "      <td>2</td>\n",
       "      <td>2</td>\n",
       "      <td>08/04/2017 02:08:12 PM</td>\n",
       "      <td>08/04/2017 02:49:18 PM</td>\n",
       "      <td>40.595224</td>\n",
       "      <td>-73.781105</td>\n",
       "      <td>(-73.7811048299, 40.5952240909)</td>\n",
       "      <td>POINT (1045040.759909836 156208.5491830893)</td>\n",
       "      <td>00:41:06</td>\n",
       "      <td>0</td>\n",
       "    </tr>\n",
       "    <tr>\n",
       "      <th>3</th>\n",
       "      <td>4</td>\n",
       "      <td>1</td>\n",
       "      <td>08/04/2017 05:35:14 PM</td>\n",
       "      <td>08/04/2017 06:08:54 PM</td>\n",
       "      <td>40.614392</td>\n",
       "      <td>-74.031187</td>\n",
       "      <td>(-74.0311868027, 40.6143922637)</td>\n",
       "      <td>POINT (975591.3935548743 163117.5957336107)</td>\n",
       "      <td>00:33:40</td>\n",
       "      <td>0</td>\n",
       "    </tr>\n",
       "    <tr>\n",
       "      <th>4</th>\n",
       "      <td>12</td>\n",
       "      <td>6</td>\n",
       "      <td>08/04/2017 08:07:43 AM</td>\n",
       "      <td>08/04/2017 11:43:58 PM</td>\n",
       "      <td>40.754862</td>\n",
       "      <td>-73.968543</td>\n",
       "      <td>(-73.968543, 40.754862)</td>\n",
       "      <td>POINT (992965.2449583234 214294.8353438493)</td>\n",
       "      <td>15:36:15</td>\n",
       "      <td>1</td>\n",
       "    </tr>\n",
       "  </tbody>\n",
       "</table>\n",
       "</div>"
      ],
      "text/plain": [
       "   Incident Type  Borough           Creation Date             Closed Date  \\\n",
       "0              2        8  11/30/2016 12:25:38 AM  11/30/2016 04:22:22 AM   \n",
       "1              9        9  11/22/2016 12:24:02 PM  11/22/2016 06:27:30 PM   \n",
       "2              2        2  08/04/2017 02:08:12 PM  08/04/2017 02:49:18 PM   \n",
       "3              4        1  08/04/2017 05:35:14 PM  08/04/2017 06:08:54 PM   \n",
       "4             12        6  08/04/2017 08:07:43 AM  08/04/2017 11:43:58 PM   \n",
       "\n",
       "    Latitude  Longitude                           lonlat  \\\n",
       "0  40.667490 -73.994286  (-73.9942860004, 40.6674897029)   \n",
       "1  40.714004 -73.829989   (-73.8299893315, 40.714003641)   \n",
       "2  40.595224 -73.781105  (-73.7811048299, 40.5952240909)   \n",
       "3  40.614392 -74.031187  (-74.0311868027, 40.6143922637)   \n",
       "4  40.754862 -73.968543          (-73.968543, 40.754862)   \n",
       "\n",
       "                                      geometry  ResponseTime  timeLengthClass  \n",
       "0   POINT (985835.155156477 182460.9466399394)      03:56:44                1  \n",
       "1  POINT (1031380.767334146 199453.0226717225)      06:03:28                1  \n",
       "2  POINT (1045040.759909836 156208.5491830893)      00:41:06                0  \n",
       "3  POINT (975591.3935548743 163117.5957336107)      00:33:40                0  \n",
       "4  POINT (992965.2449583234 214294.8353438493)      15:36:15                1  "
      ]
     },
     "execution_count": 577,
     "metadata": {},
     "output_type": "execute_result"
    }
   ],
   "source": [
    "NYEmerResp['timeLengthClass'] = timeLengthClassList\n",
    "NYEmerResp.head()"
   ]
  },
  {
   "cell_type": "code",
   "execution_count": 578,
   "metadata": {},
   "outputs": [
    {
     "data": {
      "text/plain": [
       "(4998, 10)"
      ]
     },
     "execution_count": 578,
     "metadata": {},
     "output_type": "execute_result"
    }
   ],
   "source": [
    "NYEmerResp.dropna()\n",
    "NYEmerResp.shape\n",
    "# NYEmerResp.drop(['Creation Date','Closed Date'], axis = 1, inplace = True)"
   ]
  },
  {
   "cell_type": "code",
   "execution_count": 579,
   "metadata": {},
   "outputs": [
    {
     "data": {
      "text/plain": [
       "{0, 1, 2, 3}"
      ]
     },
     "execution_count": 579,
     "metadata": {},
     "output_type": "execute_result"
    },
    {
     "data": {
      "image/png": "[encoded data removed]",
      "text/plain": [
       "<matplotlib.figure.Figure at 0x7f28d9262438>"
      ]
     },
     "metadata": {},
     "output_type": "display_data"
    }
   ],
   "source": [
    "import matplotlib.pyplot as plt\n",
    "plt.hist(NYEmerResp['timeLengthClass'])\n",
    "set(NYEmerResp['timeLengthClass'])"
   ]
  },
  {
   "cell_type": "markdown",
   "metadata": {},
   "source": [
    "### Figure3. Time Length Classification. From this figure, we could find that the most cases can be solves with 1 day( return 0 and 1 )"
   ]
  },
  {
   "cell_type": "code",
   "execution_count": 372,
   "metadata": {},
   "outputs": [],
   "source": [
    "NYEmerResp['Creation Date'] = pd.to_datetime(NYEmerResp['Creation Date'])\n"
   ]
  },
  {
   "cell_type": "code",
   "execution_count": 582,
   "metadata": {},
   "outputs": [
    {
     "data": {
      "text/html": [
       "<div>\n",
       "<table border=\"1\" class=\"dataframe\">\n",
       "  <thead>\n",
       "    <tr style=\"text-align: right;\">\n",
       "      <th></th>\n",
       "      <th>Incident Type</th>\n",
       "      <th>CreationYear</th>\n",
       "      <th>CreationMonth</th>\n",
       "      <th>Borough</th>\n",
       "      <th>Latitude</th>\n",
       "      <th>Longitude</th>\n",
       "    </tr>\n",
       "  </thead>\n",
       "  <tbody>\n",
       "    <tr>\n",
       "      <th>0</th>\n",
       "      <td>2</td>\n",
       "      <td>2016</td>\n",
       "      <td>11</td>\n",
       "      <td>8</td>\n",
       "      <td>40.667490</td>\n",
       "      <td>-73.994286</td>\n",
       "    </tr>\n",
       "    <tr>\n",
       "      <th>1</th>\n",
       "      <td>9</td>\n",
       "      <td>2016</td>\n",
       "      <td>11</td>\n",
       "      <td>9</td>\n",
       "      <td>40.714004</td>\n",
       "      <td>-73.829989</td>\n",
       "    </tr>\n",
       "    <tr>\n",
       "      <th>2</th>\n",
       "      <td>2</td>\n",
       "      <td>2017</td>\n",
       "      <td>8</td>\n",
       "      <td>2</td>\n",
       "      <td>40.595224</td>\n",
       "      <td>-73.781105</td>\n",
       "    </tr>\n",
       "    <tr>\n",
       "      <th>3</th>\n",
       "      <td>4</td>\n",
       "      <td>2017</td>\n",
       "      <td>8</td>\n",
       "      <td>1</td>\n",
       "      <td>40.614392</td>\n",
       "      <td>-74.031187</td>\n",
       "    </tr>\n",
       "    <tr>\n",
       "      <th>4</th>\n",
       "      <td>12</td>\n",
       "      <td>2017</td>\n",
       "      <td>8</td>\n",
       "      <td>6</td>\n",
       "      <td>40.754862</td>\n",
       "      <td>-73.968543</td>\n",
       "    </tr>\n",
       "  </tbody>\n",
       "</table>\n",
       "</div>"
      ],
      "text/plain": [
       "   Incident Type  CreationYear  CreationMonth  Borough   Latitude  Longitude\n",
       "0              2          2016             11        8  40.667490 -73.994286\n",
       "1              9          2016             11        9  40.714004 -73.829989\n",
       "2              2          2017              8        2  40.595224 -73.781105\n",
       "3              4          2017              8        1  40.614392 -74.031187\n",
       "4             12          2017              8        6  40.754862 -73.968543"
      ]
     },
     "execution_count": 582,
     "metadata": {},
     "output_type": "execute_result"
    }
   ],
   "source": [
    "# NYEmerResp creation time feature\n",
    "CreationMonthList = []\n",
    "CreationYearList = []\n",
    "for i in range(NYEmerResp.shape[0]):\n",
    "    CreationMonthList.append(NYEmerResp['Creation Date'][i].month)\n",
    "    CreationYearList.append(NYEmerResp['Creation Date'][i].year)\n",
    "NYEmerResp['CreationMonth'] = CreationMonthList\n",
    "NYEmerResp['CreationYear'] = CreationYearList\n",
    "trainInput = NYEmerResp[['Incident Type','CreationYear','CreationMonth','Borough','Latitude','Longitude']]\n",
    "# trainInput['Incident Type'] = NYEmerResp['Incident Type']\n",
    "trainOutput = NYEmerResp[['timeLengthClass']]\n",
    "trainInput.head()"
   ]
  },
  {
   "cell_type": "code",
   "execution_count": 583,
   "metadata": {},
   "outputs": [
    {
     "data": {
      "text/html": [
       "<div>\n",
       "<table border=\"1\" class=\"dataframe\">\n",
       "  <thead>\n",
       "    <tr style=\"text-align: right;\">\n",
       "      <th></th>\n",
       "      <th>timeLengthClass</th>\n",
       "    </tr>\n",
       "  </thead>\n",
       "  <tbody>\n",
       "    <tr>\n",
       "      <th>0</th>\n",
       "      <td>1</td>\n",
       "    </tr>\n",
       "    <tr>\n",
       "      <th>1</th>\n",
       "      <td>1</td>\n",
       "    </tr>\n",
       "    <tr>\n",
       "      <th>2</th>\n",
       "      <td>0</td>\n",
       "    </tr>\n",
       "    <tr>\n",
       "      <th>3</th>\n",
       "      <td>0</td>\n",
       "    </tr>\n",
       "    <tr>\n",
       "      <th>4</th>\n",
       "      <td>1</td>\n",
       "    </tr>\n",
       "  </tbody>\n",
       "</table>\n",
       "</div>"
      ],
      "text/plain": [
       "   timeLengthClass\n",
       "0                1\n",
       "1                1\n",
       "2                0\n",
       "3                0\n",
       "4                1"
      ]
     },
     "execution_count": 583,
     "metadata": {},
     "output_type": "execute_result"
    }
   ],
   "source": [
    "trainOutput = pd.DataFrame()\n",
    "trainOutput['timeLengthClass'] = NYEmerResp['timeLengthClass']\n",
    "# trainOutput.ResponseTime=trainOutput.ResponseTime.astype('int')\n",
    "trainOutput.head()"
   ]
  },
  {
   "cell_type": "code",
   "execution_count": 584,
   "metadata": {},
   "outputs": [
    {
     "data": {
      "text/html": [
       "<div>\n",
       "<table border=\"1\" class=\"dataframe\">\n",
       "  <thead>\n",
       "    <tr style=\"text-align: right;\">\n",
       "      <th></th>\n",
       "      <th>Incident Type</th>\n",
       "      <th>CreationYear</th>\n",
       "      <th>CreationMonth</th>\n",
       "      <th>Borough</th>\n",
       "      <th>Latitude</th>\n",
       "      <th>Longitude</th>\n",
       "    </tr>\n",
       "  </thead>\n",
       "  <tbody>\n",
       "    <tr>\n",
       "      <th>1556</th>\n",
       "      <td>10</td>\n",
       "      <td>2013</td>\n",
       "      <td>1</td>\n",
       "      <td>6</td>\n",
       "      <td>40.734624</td>\n",
       "      <td>-74.000346</td>\n",
       "    </tr>\n",
       "    <tr>\n",
       "      <th>1003</th>\n",
       "      <td>12</td>\n",
       "      <td>2013</td>\n",
       "      <td>11</td>\n",
       "      <td>1</td>\n",
       "      <td>40.586667</td>\n",
       "      <td>-73.950215</td>\n",
       "    </tr>\n",
       "    <tr>\n",
       "      <th>382</th>\n",
       "      <td>10</td>\n",
       "      <td>2017</td>\n",
       "      <td>8</td>\n",
       "      <td>1</td>\n",
       "      <td>40.649714</td>\n",
       "      <td>-73.950521</td>\n",
       "    </tr>\n",
       "    <tr>\n",
       "      <th>941</th>\n",
       "      <td>2</td>\n",
       "      <td>2015</td>\n",
       "      <td>7</td>\n",
       "      <td>1</td>\n",
       "      <td>40.620427</td>\n",
       "      <td>-74.030806</td>\n",
       "    </tr>\n",
       "    <tr>\n",
       "      <th>4205</th>\n",
       "      <td>5</td>\n",
       "      <td>2013</td>\n",
       "      <td>2</td>\n",
       "      <td>6</td>\n",
       "      <td>40.757145</td>\n",
       "      <td>-73.993561</td>\n",
       "    </tr>\n",
       "  </tbody>\n",
       "</table>\n",
       "</div>"
      ],
      "text/plain": [
       "      Incident Type  CreationYear  CreationMonth  Borough   Latitude  \\\n",
       "1556             10          2013              1        6  40.734624   \n",
       "1003             12          2013             11        1  40.586667   \n",
       "382              10          2017              8        1  40.649714   \n",
       "941               2          2015              7        1  40.620427   \n",
       "4205              5          2013              2        6  40.757145   \n",
       "\n",
       "      Longitude  \n",
       "1556 -74.000346  \n",
       "1003 -73.950215  \n",
       "382  -73.950521  \n",
       "941  -74.030806  \n",
       "4205 -73.993561  "
      ]
     },
     "execution_count": 584,
     "metadata": {},
     "output_type": "execute_result"
    }
   ],
   "source": [
    "X_train, X_test, y_train, y_test = train_test_split(trainInput, trainOutput.timeLengthClass, \n",
    "                                                    test_size=0.33, random_state=42)\n",
    "X_train.shape, X_test.shape, y_train.shape, y_test.shape\n",
    "X_train.head()"
   ]
  },
  {
   "cell_type": "code",
   "execution_count": 585,
   "metadata": {},
   "outputs": [
    {
     "data": {
      "text/plain": [
       "RandomForestClassifier(bootstrap=True, class_weight=None, criterion='gini',\n",
       "            max_depth=None, max_features='auto', max_leaf_nodes=None,\n",
       "            min_samples_leaf=1, min_samples_split=2,\n",
       "            min_weight_fraction_leaf=0.0, n_estimators=10, n_jobs=1,\n",
       "            oob_score=False, random_state=None, verbose=0,\n",
       "            warm_start=False)"
      ]
     },
     "execution_count": 585,
     "metadata": {},
     "output_type": "execute_result"
    }
   ],
   "source": [
    "clf = rfc()\n",
    "clf.fit(X_train, y_train)"
   ]
  },
  {
   "cell_type": "code",
   "execution_count": 586,
   "metadata": {},
   "outputs": [],
   "source": [
    "y_pred = clf.predict(X_test)"
   ]
  },
  {
   "cell_type": "code",
   "execution_count": 587,
   "metadata": {},
   "outputs": [
    {
     "name": "stdout",
     "output_type": "stream",
     "text": [
      "84      2\n",
      "2470    2\n",
      "2803    1\n",
      "4986    1\n",
      "4923    1\n",
      "4720    1\n",
      "157     3\n",
      "705     1\n",
      "4661    0\n",
      "1181    1\n",
      "Name: timeLengthClass, dtype: int64\n",
      "[1 0 0 1 0 1 2 0 1 1]\n",
      "int64\n"
     ]
    }
   ],
   "source": [
    "print(y_test[:10])\n",
    "print(y_pred[:10])\n",
    "print(y_test.dtype)"
   ]
  },
  {
   "cell_type": "code",
   "execution_count": 588,
   "metadata": {},
   "outputs": [
    {
     "data": {
      "text/plain": [
       "'Correctly classified test cases percentage: 60.79%'"
      ]
     },
     "execution_count": 588,
     "metadata": {},
     "output_type": "execute_result"
    }
   ],
   "source": [
    "# correctly classified test cases percentage:\n",
    "n = 0\n",
    "for i in range(len(y_pred)):\n",
    "    if list(y_test)[i] == y_pred[i]:\n",
    "        n += 1\n",
    "\"Correctly classified test cases percentage: \"+str(round(n/float(len(y_pred))*100,2)) + '%'"
   ]
  },
  {
   "cell_type": "markdown",
   "metadata": {},
   "source": [
    "# Confusion Matrix"
   ]
  },
  {
   "cell_type": "code",
   "execution_count": 371,
   "metadata": {},
   "outputs": [
    {
     "name": "stdout",
     "output_type": "stream",
     "text": [
      "confusion matrix\n",
      " 4\n"
     ]
    },
    {
     "data": {
      "image/png": "[encoded data removed]",
      "text/plain": [
       "<matplotlib.figure.Figure at 0x7f43e7c5c518>"
      ]
     },
     "metadata": {},
     "output_type": "display_data"
    },
    {
     "data": {
      "image/png": "[encoded data removed]",
      "text/plain": [
       "<matplotlib.figure.Figure at 0x7f43e7f462e8>"
      ]
     },
     "metadata": {},
     "output_type": "display_data"
    }
   ],
   "source": [
    "ax = pl.figure().add_subplot(111)\n",
    "ax.imshow(confusion_matrix(y_test, y_pred), cmap='bone')\n",
    "ax.set_title(\"confusion matrix\")\n",
    "ax.axis('off')\n",
    "\n",
    "ax = pl.figure().add_subplot(111)\n",
    "ax.imshow(np.log10(confusion_matrix(y_test, y_pred)), cmap='bone')\n",
    "ax.set_title(\"confusion matrix in log space\\n(for enhanced visibility)\")\n",
    "ax.axis('off');\n",
    "# imshow(confusion_matrix(y_test, y_pred))\n",
    "\n",
    "print(\"confusion matrix\\n\", len(confusion_matrix(y_test, y_pred)))"
   ]
  },
  {
   "cell_type": "markdown",
   "metadata": {},
   "source": [
    "### Figure 4. Confusion Matrix . From the above figure, we could find that 'Correctly classified test cases percentage: 56.73%', and the most cases are solved within one day."
   ]
  },
  {
   "cell_type": "code",
   "execution_count": null,
   "metadata": {},
   "outputs": [],
   "source": []
  }
 ],
 "metadata": {
  "kernelspec": {
   "display_name": "PUI2016_Python3",
   "language": "python",
   "name": "pui2016_python3"
  },
  "language_info": {
   "codemirror_mode": {
    "name": "ipython",
    "version": 3
   },
   "file_extension": ".py",
   "mimetype": "text/x-python",
   "name": "python",
   "nbconvert_exporter": "python",
   "pygments_lexer": "ipython3",
   "version": "3.5.4"
  }
 },
 "nbformat": 4,
 "nbformat_minor": 2
}
